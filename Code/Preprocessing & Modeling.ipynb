{
 "cells": [
  {
   "cell_type": "markdown",
   "metadata": {},
   "source": [
    "# Part 2: Preprocessing & Modeling"
   ]
  },
  {
   "cell_type": "markdown",
   "metadata": {},
   "source": [
    "## Imports"
   ]
  },
  {
   "cell_type": "code",
   "execution_count": 1,
   "metadata": {},
   "outputs": [
    {
     "data": {
      "text/html": [
       "<style>.container { width:95% !important; }</style>"
      ],
      "text/plain": [
       "<IPython.core.display.HTML object>"
      ]
     },
     "metadata": {},
     "output_type": "display_data"
    }
   ],
   "source": [
    "# Standard Imports\n",
    "import nltk\n",
    "import pandas                        as pd\n",
    "import numpy                         as np\n",
    "import seaborn                       as sns\n",
    "import matplotlib.pyplot             as plt\n",
    "from IPython.display                 import display_html\n",
    "from IPython.core.display            import display, HTML\n",
    "\n",
    "# Proprocessing, Modeling, & Evaluation\n",
    "from nltk.corpus                     import stopwords\n",
    "from nltk.stem                       import WordNetLemmatizer\n",
    "from nltk.tokenize                   import RegexpTokenizer \n",
    "from sklearn.ensemble                import RandomForestClassifier\n",
    "from sklearn.feature_extraction.text import TfidfVectorizer, CountVectorizer\n",
    "from sklearn.linear_model            import LogisticRegression\n",
    "from sklearn.model_selection         import GridSearchCV, train_test_split, cross_val_score\n",
    "from sklearn.metrics                 import accuracy_score, recall_score, roc_auc_score, matthews_corrcoef\n",
    "from sklearn.pipeline                import Pipeline\n",
    "from sklearn.svm                     import SVC\n",
    "from sklearn.tree                    import DecisionTreeClassifier\n",
    "from xgboost                         import XGBClassifier\n",
    "\n",
    "\n",
    "# Custom Modules\n",
    "import graphs\n",
    "import metrics\n",
    "\n",
    "# Notebook settings & styles\n",
    "sns.set(style = \"white\", palette = \"deep\")\n",
    "display(HTML(\"<style>.container { width:95% !important; }</style>\"))\n",
    "%matplotlib inline"
   ]
  },
  {
   "cell_type": "markdown",
   "metadata": {},
   "source": [
    "## Table Of Contents\n",
    "\n",
    "\n",
    "\n",
    "- [Reading In The Data](#Reading-In-The-Data)\n",
    "    - [Overview](#Overview)\n",
    "    - [Visuals](#Visuals)\n",
    "    \n",
    "    \n",
    "- [Lemmatizing](#Lemmatizing)\n",
    "\n",
    "\n",
    "- [Establishing The Baseline](#Establishing-The-Baseline)\n",
    "\n",
    "\n",
    "- [Modeling](#Modeling)\n",
    "    - [Setting The X & y variables](#Setting-The-X-and-y-variables)\n",
    "    - [Running A Train-Test Split](#Running-A-Train-Test-Split)\n",
    "    - [Evaluation Metrics](#Evaluation-Metrics)\n",
    "    - [Logistic Regression](#Logistic-Regression)\n",
    "    - [Random Forest Classifier](#Random-Forest-Classifier)\n",
    "    - [Support Vector Classifier](#Support-Vector-Classifier)\n",
    "    - [XGBoost Classifier](#XGBoost-Classifier)\n",
    "    \n",
    "    \n",
    "- [Evaluation](#Evaluation)\n",
    "    - [Evaluation Functions](#Evaluation-Functions)\n",
    "    - [Dataframes](#Dataframes)\n",
    "    - [Best Model Selection](#Best-Model-Selection)\n",
    "    - [Plots](#Plots)\n",
    "        - [Bar Plot](#Bar-Plot)\n",
    "        - [ROC Curve](#ROC-Curve)"
   ]
  },
  {
   "cell_type": "markdown",
   "metadata": {},
   "source": [
    "## Reading In The Data"
   ]
  },
  {
   "cell_type": "markdown",
   "metadata": {},
   "source": [
    "### Overview"
   ]
  },
  {
   "cell_type": "code",
   "execution_count": 2,
   "metadata": {},
   "outputs": [],
   "source": [
    "model_data = pd.read_csv(\"../Data/model_data.csv\")"
   ]
  },
  {
   "cell_type": "code",
   "execution_count": 3,
   "metadata": {},
   "outputs": [
    {
     "data": {
      "text/html": [
       "<div>\n",
       "<style scoped>\n",
       "    .dataframe tbody tr th:only-of-type {\n",
       "        vertical-align: middle;\n",
       "    }\n",
       "\n",
       "    .dataframe tbody tr th {\n",
       "        vertical-align: top;\n",
       "    }\n",
       "\n",
       "    .dataframe thead th {\n",
       "        text-align: right;\n",
       "    }\n",
       "</style>\n",
       "<table border=\"1\" class=\"dataframe\">\n",
       "  <thead>\n",
       "    <tr style=\"text-align: right;\">\n",
       "      <th></th>\n",
       "      <th>id</th>\n",
       "      <th>author</th>\n",
       "      <th>source</th>\n",
       "      <th>text</th>\n",
       "      <th>target</th>\n",
       "    </tr>\n",
       "  </thead>\n",
       "  <tbody>\n",
       "    <tr>\n",
       "      <th>0</th>\n",
       "      <td>cbl354</td>\n",
       "      <td>bobs_aspergers</td>\n",
       "      <td>cooking</td>\n",
       "      <td>Does anyone else immediately distrust a recipe...</td>\n",
       "      <td>1</td>\n",
       "    </tr>\n",
       "    <tr>\n",
       "      <th>1</th>\n",
       "      <td>cbtuhn</td>\n",
       "      <td>Swigart</td>\n",
       "      <td>cooking</td>\n",
       "      <td>Mortar amp Pestle questions  Is marble dust sa...</td>\n",
       "      <td>1</td>\n",
       "    </tr>\n",
       "    <tr>\n",
       "      <th>2</th>\n",
       "      <td>cbmrz3</td>\n",
       "      <td>chuy1530</td>\n",
       "      <td>cooking</td>\n",
       "      <td>Weekly menusetting has changed my life Ive alw...</td>\n",
       "      <td>1</td>\n",
       "    </tr>\n",
       "    <tr>\n",
       "      <th>3</th>\n",
       "      <td>cb5pvy</td>\n",
       "      <td>Svargas05</td>\n",
       "      <td>cooking</td>\n",
       "      <td>This guy in India has a cooking channel where ...</td>\n",
       "      <td>1</td>\n",
       "    </tr>\n",
       "    <tr>\n",
       "      <th>4</th>\n",
       "      <td>cbjt6n</td>\n",
       "      <td>Tg8402</td>\n",
       "      <td>cooking</td>\n",
       "      <td>How do you sear a steak without filling your k...</td>\n",
       "      <td>1</td>\n",
       "    </tr>\n",
       "  </tbody>\n",
       "</table>\n",
       "</div>"
      ],
      "text/plain": [
       "       id          author   source  \\\n",
       "0  cbl354  bobs_aspergers  cooking   \n",
       "1  cbtuhn         Swigart  cooking   \n",
       "2  cbmrz3        chuy1530  cooking   \n",
       "3  cb5pvy       Svargas05  cooking   \n",
       "4  cbjt6n          Tg8402  cooking   \n",
       "\n",
       "                                                text  target  \n",
       "0  Does anyone else immediately distrust a recipe...       1  \n",
       "1  Mortar amp Pestle questions  Is marble dust sa...       1  \n",
       "2  Weekly menusetting has changed my life Ive alw...       1  \n",
       "3  This guy in India has a cooking channel where ...       1  \n",
       "4  How do you sear a steak without filling your k...       1  "
      ]
     },
     "execution_count": 3,
     "metadata": {},
     "output_type": "execute_result"
    }
   ],
   "source": [
    "# Checking the data's head\n",
    "\n",
    "model_data.head()"
   ]
  },
  {
   "cell_type": "code",
   "execution_count": 4,
   "metadata": {},
   "outputs": [
    {
     "data": {
      "text/plain": [
       "id        0\n",
       "author    0\n",
       "source    0\n",
       "text      0\n",
       "target    0\n",
       "dtype: int64"
      ]
     },
     "execution_count": 4,
     "metadata": {},
     "output_type": "execute_result"
    }
   ],
   "source": [
    "# Checking for null values\n",
    "\n",
    "model_data.isnull().sum()"
   ]
  },
  {
   "cell_type": "code",
   "execution_count": 5,
   "metadata": {},
   "outputs": [
    {
     "name": "stdout",
     "output_type": "stream",
     "text": [
      "<class 'pandas.core.frame.DataFrame'>\n",
      "RangeIndex: 3284 entries, 0 to 3283\n",
      "Data columns (total 5 columns):\n",
      "id        3284 non-null object\n",
      "author    3284 non-null object\n",
      "source    3284 non-null object\n",
      "text      3284 non-null object\n",
      "target    3284 non-null int64\n",
      "dtypes: int64(1), object(4)\n",
      "memory usage: 128.4+ KB\n"
     ]
    }
   ],
   "source": [
    "# Checking data types\n",
    "\n",
    "model_data.info()"
   ]
  },
  {
   "cell_type": "markdown",
   "metadata": {},
   "source": [
    "### Visuals"
   ]
  },
  {
   "cell_type": "markdown",
   "metadata": {},
   "source": [
    "#### Functions"
   ]
  },
  {
   "cell_type": "markdown",
   "metadata": {},
   "source": [
    "[Top](#Table-Of-Contents)"
   ]
  },
  {
   "cell_type": "markdown",
   "metadata": {},
   "source": [
    "#### Text Length"
   ]
  },
  {
   "cell_type": "code",
   "execution_count": 6,
   "metadata": {
    "scrolled": false
   },
   "outputs": [
    {
     "data": {
      "image/png": "[encoded data removed]",
      "text/plain": [
       "<Figure size 1152x432 with 1 Axes>"
      ]
     },
     "metadata": {},
     "output_type": "display_data"
    }
   ],
   "source": [
    "# Generating a list of text lengths\n",
    "\n",
    "lengths = [len(text) for text in model_data[\"text\"]]\n",
    "\n",
    "# Plotting the text lengths\n",
    "\n",
    "plt.figure(figsize = (16,6), facecolor = \"white\")\n",
    "sns.distplot(lengths, kde = False, bins = 100, color = \"black\")\n",
    "plt.axvline(np.mean(lengths), color = \"red\")\n",
    "plt.title(\"Distribution Of Text Length\", size = 18)\n",
    "plt.xlabel(\"Words\", size = 16)\n",
    "plt.ylabel(\"Frequency\", size = 16)\n",
    "plt.xticks(np.arange(0,23500,1500), size = 14)\n",
    "plt.yticks(size = 14);\n",
    "\n",
    "# The red line marks the mean length"
   ]
  },
  {
   "cell_type": "markdown",
   "metadata": {},
   "source": [
    "Most of the posts are less than 3,000 words which was expected, but there are a few that are extremely long (more than 6,000 words.)"
   ]
  },
  {
   "cell_type": "markdown",
   "metadata": {},
   "source": [
    "####  Most Frequent Authors"
   ]
  },
  {
   "cell_type": "code",
   "execution_count": 7,
   "metadata": {},
   "outputs": [
    {
     "data": {
      "image/png": "[encoded data removed]",
      "text/plain": [
       "<Figure size 1440x432 with 1 Axes>"
      ]
     },
     "metadata": {},
     "output_type": "display_data"
    }
   ],
   "source": [
    "# Creating a dataframe of the most active unique authors\n",
    "\n",
    "author_count = pd.DataFrame(model_data[\"author\"].value_counts().head(10))\n",
    "\n",
    "# Plotting the most active authors\n",
    "\n",
    "graphs.barplot(df     = author_count,\n",
    "               x      = author_count.index,\n",
    "               y      = \"author\",\n",
    "               title  = \"Most Frequent Posters\",\n",
    "               label  = \"Author\",\n",
    "               ylabel = \"Post Count\",\n",
    "               dim    = (20,6))"
   ]
  },
  {
   "cell_type": "markdown",
   "metadata": {},
   "source": [
    "We did not really know what to expect when we plotted this graph, because it is generally the case that a few users post most frequently and most barely post at all.  We would have like to look at the number of comments by each user in both subreddits as a measure of activity, but that is beyond the scope of this project."
   ]
  },
  {
   "cell_type": "markdown",
   "metadata": {},
   "source": [
    "#### Subreddit Of Origin"
   ]
  },
  {
   "cell_type": "code",
   "execution_count": 8,
   "metadata": {},
   "outputs": [
    {
     "data": {
      "image/png": "[encoded data removed]",
      "text/plain": [
       "<Figure size 720x360 with 1 Axes>"
      ]
     },
     "metadata": {
      "needs_background": "light"
     },
     "output_type": "display_data"
    }
   ],
   "source": [
    "tick_labels = [\"r/Cooking\", \"r/AskCulinary\"]\n",
    "\n",
    "# Setting the figure size\n",
    "plt.figure(figsize = (10,5))\n",
    "\n",
    "# Plotting the graph\n",
    "sns.countplot(model_data[\"source\"])\n",
    "\n",
    "# Setting graph parameters\n",
    "plt.title(\"Post Origin\", size = 18)\n",
    "plt.xlabel(\"Source\", size = 16)\n",
    "plt.ylabel(\"Number Of Posts\", size = 16)\n",
    "\n",
    "# Making sure the only ticks are 0 and 1\n",
    "plt.xticks(np.arange(0,2,1), \n",
    "           labels = tick_labels, \n",
    "           size   = 14)\n",
    "plt.yticks(size = 14);"
   ]
  },
  {
   "cell_type": "markdown",
   "metadata": {},
   "source": [
    "We were a little surprised that there are more r/AskCulinary posts because we initially had roughly equal numbers of pulls from each subreddit."
   ]
  },
  {
   "cell_type": "markdown",
   "metadata": {},
   "source": [
    "[Top](#Table-Of-Contents)"
   ]
  },
  {
   "cell_type": "markdown",
   "metadata": {},
   "source": [
    "#### Visualizing Most Common Words"
   ]
  },
  {
   "cell_type": "markdown",
   "metadata": {},
   "source": [
    "Before we start modeling, we need to know what the most frequent words are in each subreddit are because it might be harder for our model to predict with those words in the dataframe.\n",
    "\n",
    "We will subset the dataframe into posts from r/Cooking and r/AskCulinary and use count vectorizer to determine the most frequent words.  The words that occur most frequently will be appended to the set of stop words we will use in our grid searches."
   ]
  },
  {
   "cell_type": "code",
   "execution_count": 9,
   "metadata": {},
   "outputs": [],
   "source": [
    "def plot_most_frequent_words(dataframes, titles):\n",
    "    \n",
    "    # The count inidcates where in the subplot to go\n",
    "    count = 0\n",
    "    fig   = plt.figure(figsize   = (24,20),\n",
    "                       facecolor = \"white\")\n",
    "    \n",
    "    # Enumerating allows for the list of titles to be referenced\n",
    "    for d, dataframe in enumerate(dataframes):\n",
    "        \n",
    "        # Updating the location\n",
    "        count += 1\n",
    "        ax    = fig.add_subplot(2, 2, count)\n",
    "        \n",
    "        # Creating the graph\n",
    "        sns.barplot(x       = 0,\n",
    "                    y       = dataframe.index,\n",
    "                    data    = dataframe,\n",
    "                    palette = \"deep\")\n",
    "        \n",
    "        # Setting the graph parameters\n",
    "        plt.title(f\"Most Common Words From {titles[d]}\", size = 20)\n",
    "        plt.xlabel(\"Number Of Occurences\", size = 18)\n",
    "        plt.ylabel(\"Word\", size = 18)\n",
    "        plt.xticks(size = 16)\n",
    "        plt.yticks(size = 17)"
   ]
  },
  {
   "cell_type": "markdown",
   "metadata": {},
   "source": [
    "We removed stop words here because they would distort our most common words."
   ]
  },
  {
   "cell_type": "code",
   "execution_count": 10,
   "metadata": {},
   "outputs": [],
   "source": [
    "# Instantiating the count vectorizer\n",
    "\n",
    "vectorizer = CountVectorizer()\n",
    "\n",
    "# Masking the vectorizer with English stop words\n",
    "\n",
    "cvec_cooking     = CountVectorizer(stop_words = \"english\")\n",
    "cvec_askculinary = CountVectorizer(stop_words = \"english\")\n",
    "\n",
    "# Subsetting the dataframe\n",
    "\n",
    "cooking     = model_data[model_data[\"target\"] == 1]\n",
    "askculinary = model_data[model_data[\"target\"] == 0]\n",
    "\n",
    "# Fit-transforming the vectorizer\n",
    "\n",
    "vec_cooking     = cvec_cooking.fit_transform(cooking[\"text\"])\n",
    "vec_askculinary = cvec_askculinary.fit_transform(askculinary[\"text\"])"
   ]
  },
  {
   "cell_type": "code",
   "execution_count": 11,
   "metadata": {},
   "outputs": [
    {
     "data": {
      "image/png": "[encoded data removed]",
      "text/plain": [
       "<Figure size 1728x1440 with 2 Axes>"
      ]
     },
     "metadata": {},
     "output_type": "display_data"
    }
   ],
   "source": [
    "# Saving the vectorized dfs to a new dataframe\n",
    "\n",
    "cooking_vectorized     = pd.DataFrame(vec_cooking.toarray(), \n",
    "                                      columns = cvec_cooking.get_feature_names())\n",
    "askculinary_vectorized = pd.DataFrame(vec_askculinary.toarray(), \n",
    "                                      columns = cvec_askculinary.get_feature_names())\n",
    "\n",
    "# Getting the 15 most frequent words from each\n",
    "\n",
    "vectorized_cooking     = pd.DataFrame(cooking_vectorized.sum().sort_values(ascending = False).head(15))\n",
    "vectorized_askculinary = pd.DataFrame(askculinary_vectorized.sum().sort_values(ascending = False).head(15))\n",
    "\n",
    "# Plotting the most common words\n",
    "\n",
    "plot_most_frequent_words(dataframes = [vectorized_cooking, \n",
    "                                       vectorized_askculinary],\n",
    "                         titles     = [\"r/Cooking\", \n",
    "                                       \"r/AskCulinary\"])"
   ]
  },
  {
   "cell_type": "markdown",
   "metadata": {},
   "source": [
    "We can see that there are a lot of words that occur in both subreddits.  We decided that we should create a list of customized stop words.  Furthermore, we noticed that we must lemmatize or stem the text columns because of there are multiple forms of words in the most frequent words such as 'make' & 'making' or 'recipe' and 'recipes'."
   ]
  },
  {
   "cell_type": "code",
   "execution_count": 12,
   "metadata": {},
   "outputs": [
    {
     "name": "stderr",
     "output_type": "stream",
     "text": [
      "[nltk_data] Downloading package stopwords to\n",
      "[nltk_data]     C:\\Users\\andre\\AppData\\Roaming\\nltk_data...\n",
      "[nltk_data]   Package stopwords is already up-to-date!\n"
     ]
    }
   ],
   "source": [
    "# Downloading the default stopwords\n",
    "\n",
    "nltk.download(\"stopwords\");\n",
    "\n",
    "# Adding our stopwords to the English set\n",
    "\n",
    "new_stopwords = [\"like\", \"just\", \"make\", \"cook\",\n",
    "                 \"use\", \"chicken\", \"recipe\", \"sauce\"]\n",
    "\n",
    "stopwords     = stopwords.words('english')\n",
    "\n",
    "stopwords.extend(new_stopwords)"
   ]
  },
  {
   "cell_type": "markdown",
   "metadata": {},
   "source": [
    "[Top](#Table-Of-Contents)"
   ]
  },
  {
   "cell_type": "markdown",
   "metadata": {},
   "source": [
    "## Lemmatizing"
   ]
  },
  {
   "cell_type": "markdown",
   "metadata": {},
   "source": [
    "We felt that lemmatizing is a better option than stemming because the lemma form (dictionary entry) of a word is more likely to result in an actual English word than trying to find a word's stem: there are so many irregularities in English that it is not always easy to find the stem."
   ]
  },
  {
   "cell_type": "code",
   "execution_count": 13,
   "metadata": {},
   "outputs": [
    {
     "data": {
      "text/html": [
       "<div>\n",
       "<style scoped>\n",
       "    .dataframe tbody tr th:only-of-type {\n",
       "        vertical-align: middle;\n",
       "    }\n",
       "\n",
       "    .dataframe tbody tr th {\n",
       "        vertical-align: top;\n",
       "    }\n",
       "\n",
       "    .dataframe thead th {\n",
       "        text-align: right;\n",
       "    }\n",
       "</style>\n",
       "<table border=\"1\" class=\"dataframe\">\n",
       "  <thead>\n",
       "    <tr style=\"text-align: right;\">\n",
       "      <th></th>\n",
       "      <th>id</th>\n",
       "      <th>author</th>\n",
       "      <th>source</th>\n",
       "      <th>text</th>\n",
       "      <th>target</th>\n",
       "      <th>lemmatized_text</th>\n",
       "    </tr>\n",
       "  </thead>\n",
       "  <tbody>\n",
       "    <tr>\n",
       "      <th>0</th>\n",
       "      <td>cbl354</td>\n",
       "      <td>bobs_aspergers</td>\n",
       "      <td>cooking</td>\n",
       "      <td>Does anyone else immediately distrust a recipe...</td>\n",
       "      <td>1</td>\n",
       "      <td>Does anyone else immediately distrust a recipe...</td>\n",
       "    </tr>\n",
       "    <tr>\n",
       "      <th>1</th>\n",
       "      <td>cbtuhn</td>\n",
       "      <td>Swigart</td>\n",
       "      <td>cooking</td>\n",
       "      <td>Mortar amp Pestle questions  Is marble dust sa...</td>\n",
       "      <td>1</td>\n",
       "      <td>Mortar amp Pestle question Is marble dust safe...</td>\n",
       "    </tr>\n",
       "    <tr>\n",
       "      <th>2</th>\n",
       "      <td>cbmrz3</td>\n",
       "      <td>chuy1530</td>\n",
       "      <td>cooking</td>\n",
       "      <td>Weekly menusetting has changed my life Ive alw...</td>\n",
       "      <td>1</td>\n",
       "      <td>Weekly menusetting ha changed my life Ive alwa...</td>\n",
       "    </tr>\n",
       "    <tr>\n",
       "      <th>3</th>\n",
       "      <td>cb5pvy</td>\n",
       "      <td>Svargas05</td>\n",
       "      <td>cooking</td>\n",
       "      <td>This guy in India has a cooking channel where ...</td>\n",
       "      <td>1</td>\n",
       "      <td>This guy in India ha a cooking channel where h...</td>\n",
       "    </tr>\n",
       "    <tr>\n",
       "      <th>4</th>\n",
       "      <td>cbjt6n</td>\n",
       "      <td>Tg8402</td>\n",
       "      <td>cooking</td>\n",
       "      <td>How do you sear a steak without filling your k...</td>\n",
       "      <td>1</td>\n",
       "      <td>How do you sear a steak without filling your k...</td>\n",
       "    </tr>\n",
       "  </tbody>\n",
       "</table>\n",
       "</div>"
      ],
      "text/plain": [
       "       id          author   source  \\\n",
       "0  cbl354  bobs_aspergers  cooking   \n",
       "1  cbtuhn         Swigart  cooking   \n",
       "2  cbmrz3        chuy1530  cooking   \n",
       "3  cb5pvy       Svargas05  cooking   \n",
       "4  cbjt6n          Tg8402  cooking   \n",
       "\n",
       "                                                text  target  \\\n",
       "0  Does anyone else immediately distrust a recipe...       1   \n",
       "1  Mortar amp Pestle questions  Is marble dust sa...       1   \n",
       "2  Weekly menusetting has changed my life Ive alw...       1   \n",
       "3  This guy in India has a cooking channel where ...       1   \n",
       "4  How do you sear a steak without filling your k...       1   \n",
       "\n",
       "                                     lemmatized_text  \n",
       "0  Does anyone else immediately distrust a recipe...  \n",
       "1  Mortar amp Pestle question Is marble dust safe...  \n",
       "2  Weekly menusetting ha changed my life Ive alwa...  \n",
       "3  This guy in India ha a cooking channel where h...  \n",
       "4  How do you sear a steak without filling your k...  "
      ]
     },
     "execution_count": 13,
     "metadata": {},
     "output_type": "execute_result"
    }
   ],
   "source": [
    "# Instantiating the lemmatizier and tokenizer\n",
    "# The tokenizer will only keep text\n",
    "\n",
    "lemmatizer = WordNetLemmatizer()\n",
    "tokenizer  = RegexpTokenizer(r'\\w+')\n",
    "\n",
    "# Setting up the lemmatizer\n",
    "\n",
    "lemmatized_posts = []\n",
    "\n",
    "for post in model_data[\"text\"]:\n",
    "    tokens = tokenizer.tokenize(post)\n",
    "    post   = [lemmatizer.lemmatize(post) for post in tokens]\n",
    "    lemmatized_posts.append(\" \".join(post))\n",
    "    \n",
    "# Appending the lemmatized posts to the dataframe\n",
    "\n",
    "model_data[\"lemmatized_text\"] = lemmatized_posts\n",
    "\n",
    "# Checking the head of the dataframe\n",
    "\n",
    "model_data.head()"
   ]
  },
  {
   "cell_type": "markdown",
   "metadata": {},
   "source": [
    "While checking the results from the cell above, we noticed that in `lemmatized_text` there are some URLs which need to be removed.  We used a regular expression to remove all URLs."
   ]
  },
  {
   "cell_type": "code",
   "execution_count": 14,
   "metadata": {},
   "outputs": [],
   "source": [
    "model_data[\"lemmatized_text\"] = model_data[\"lemmatized_text\"].str.replace(\"http\\S+\", \"\")"
   ]
  },
  {
   "cell_type": "markdown",
   "metadata": {},
   "source": [
    "## Establishing The Baseline"
   ]
  },
  {
   "cell_type": "markdown",
   "metadata": {},
   "source": [
    "A baseline in classification gives us an idea of how exactly the model is performing.  The baseline is simply the percentage of occurrences of our target in the data; in this case it will be what percentage of posts are from r/Cooking.\n",
    "\n",
    "\n",
    "If our model has an accuracy of greater than 41.89% we know that it is better than simply guessing the class of a post."
   ]
  },
  {
   "cell_type": "code",
   "execution_count": 15,
   "metadata": {},
   "outputs": [
    {
     "data": {
      "text/plain": [
       "0    57.49\n",
       "1    42.51\n",
       "Name: target, dtype: float64"
      ]
     },
     "execution_count": 15,
     "metadata": {},
     "output_type": "execute_result"
    }
   ],
   "source": [
    "round(model_data[\"target\"].value_counts(normalize = True)*100, 2)"
   ]
  },
  {
   "cell_type": "markdown",
   "metadata": {},
   "source": [
    "The classes are unbalanced, but not severely.  The metrics we use will take the imbalance into account."
   ]
  },
  {
   "cell_type": "markdown",
   "metadata": {},
   "source": [
    "## Modeling"
   ]
  },
  {
   "cell_type": "markdown",
   "metadata": {},
   "source": [
    "Now that our text is in the format we want, we can begin the process of modeling.\n",
    "\n",
    "There are a few steps we must do before we start running models: we have to define the X and y variables and run a train-test split on the data."
   ]
  },
  {
   "cell_type": "markdown",
   "metadata": {},
   "source": [
    "### Setting The X & y variables"
   ]
  },
  {
   "cell_type": "code",
   "execution_count": 16,
   "metadata": {},
   "outputs": [],
   "source": [
    "X = model_data[\"lemmatized_text\"]\n",
    "y = model_data[\"target\"]"
   ]
  },
  {
   "cell_type": "markdown",
   "metadata": {},
   "source": [
    "### Running A Train-Test Split"
   ]
  },
  {
   "cell_type": "markdown",
   "metadata": {},
   "source": [
    "A train-test split is important because it allows us to reserve a portion of our data for test so that the model does not see all data before predicting.  In this case we want to preserve the distribution of the classes, so we will stratify the data to match the distribution of the classes."
   ]
  },
  {
   "cell_type": "code",
   "execution_count": 17,
   "metadata": {},
   "outputs": [],
   "source": [
    "# The random state ensures reproducability\n",
    "# The stratify argument preserves the distribution of classes\n",
    "\n",
    "X_train, X_test, y_train, y_test = train_test_split(X,\n",
    "                                                    y,\n",
    "                                                    random_state = 42,\n",
    "                                                    stratify     = y)"
   ]
  },
  {
   "cell_type": "markdown",
   "metadata": {},
   "source": [
    "Each of the three models we will use will be gridsearched so that we can experiment with different combinations of hyperparameters (parameters we have to define).  Additionally, each model will be fit with a count vectorizer and a TFIDF (Term Frequency-Inverse Document Frequency) vectorizer."
   ]
  },
  {
   "cell_type": "markdown",
   "metadata": {},
   "source": [
    "[Top](#Table-Of-Contents)"
   ]
  },
  {
   "cell_type": "markdown",
   "metadata": {},
   "source": [
    "### Evaluation Metrics"
   ]
  },
  {
   "cell_type": "markdown",
   "metadata": {},
   "source": [
    "One way of evaluation our models will be with a confusion matrix.  A confusion matrix allows us to look at how our model classified our data: it plots the true y values and the predicted y values so that we can have an idea of how the model performs with each class."
   ]
  },
  {
   "cell_type": "markdown",
   "metadata": {},
   "source": [
    "We will also use four metics to evaluate our models: accuracy is not enough because we want to know how well the model is doing on each class.\n",
    "\n",
    " \n",
    "| Metric                   | Definition                                                       | Scale    |\n",
    "|:-------------------------|:-----------------------------------------------------------------|:---------|\n",
    "| **Accuracy**             | The overall accuracy of the model                                | 0 to 1   | \n",
    "| **Specificity**          | How many negative predictions are correct                        | 0 to 1   | \n",
    "| **Sensitivity**          | How many positive predictions are correct (also known as recall) | 0 to 1   |\n",
    "| **Matthews Corr. Coef.** | A measure of the correlation between predictions and true values | -1 to 1  |\n",
    "\n",
    "\n",
    "For each model we will also calculate a ROC-AUC score.  The ROC (receiver operating characteristic) shows us a binary classification model's ability to distinguish between two classes.  The curve, which will be plotted for our best model, shows us the distribution of the two classes.  The AUC (area under the curve) is how we measure the distribution of the classes: 0.5 is the lowest possible and 1.0 is the highest.\n",
    "\n",
    "This image from [GreyAtom](https://medium.com/greyatom/lets-learn-about-auc-roc-curve-4a94b4d88152) illustrates the AUC-ROC well:\n",
    "\n",
    "<img src = \"../Images/ROC_AUC 0.8 0.9.png\" alt = \"high auc_roc scores\" height = \"350\" width = \"350\">\n",
    "\n",
    "<img src = \"../Images/ROC_AUC 0.5 0.7.png\" alt = \"low auc_roc scores\"  height = \"350\" width = \"350\">"
   ]
  },
  {
   "cell_type": "markdown",
   "metadata": {},
   "source": [
    "[Top](#Table-Of-Contents)"
   ]
  },
  {
   "cell_type": "markdown",
   "metadata": {},
   "source": [
    "The models will be run with two vectorizers.  In the context of natural language processing, a vectorizer simply extracts features from a set of text.  For this project we decided to use two vectorizers: count vectorization and TFIDF vectorization.\n",
    "\n",
    "- **Count vectorization**: turns each word into a feature and counts how many times it occurs\n",
    "\n",
    "\n",
    "- **TFIDF vectorization**: TFIDF (term frequency-inverse document frequency) turns each word into a feature but instead of a number, it returns a percentage of how much of the text it makes up.  Then it scales that percentage by how often it occurs in the entire corpus of text.  It thus has the effect of making uncommon words very significant.\n",
    "\n",
    "Additionally, the hyperparameters shown in the grid-searches are the optimized hyperparameters."
   ]
  },
  {
   "cell_type": "markdown",
   "metadata": {},
   "source": [
    "### Logistic Regression"
   ]
  },
  {
   "cell_type": "markdown",
   "metadata": {},
   "source": [
    "The logistic regression is very similar to the linear regression, but it uses a logit function to bend the line so that it can predict either 0 or 1.\n",
    "\n",
    "\n",
    "The gridsearch will be searching hyperparameters for the vectorizers, not the logistic regression."
   ]
  },
  {
   "cell_type": "markdown",
   "metadata": {},
   "source": [
    "#### Count Vectorizer"
   ]
  },
  {
   "cell_type": "code",
   "execution_count": 18,
   "metadata": {},
   "outputs": [
    {
     "name": "stderr",
     "output_type": "stream",
     "text": [
      "C:\\Users\\andre\\Anaconda3\\lib\\site-packages\\sklearn\\linear_model\\logistic.py:433: FutureWarning:\n",
      "\n",
      "Default solver will be changed to 'lbfgs' in 0.22. Specify a solver to silence this warning.\n",
      "\n"
     ]
    }
   ],
   "source": [
    "# Setting up the pipeline\n",
    "\n",
    "cvec_lr_pipe = Pipeline([(\"cvec\", CountVectorizer()), \n",
    "                         (\"log_reg\", LogisticRegression())])\n",
    "\n",
    "# Setting the CVEC hyperparameters\n",
    "\n",
    "cvec_pipe_params = {\"cvec__max_features\": [125], \n",
    "                    \"cvec__ngram_range\" : [(1,2)], \n",
    "                    \"cvec__stop_words\"  : [None]}\n",
    "\n",
    "# Instantiating the grid search\n",
    "\n",
    "cvec_lr_gs = GridSearchCV(cvec_lr_pipe, \n",
    "                          param_grid = cvec_pipe_params, \n",
    "                          cv         = 5)\n",
    "\n",
    "# Fitting the model to the training data\n",
    "\n",
    "cvec_lr_gs.fit(X_train, y_train);\n",
    "\n",
    "# The futurewarning can be ignored"
   ]
  },
  {
   "cell_type": "code",
   "execution_count": 19,
   "metadata": {},
   "outputs": [],
   "source": [
    "# Generating training predictions\n",
    "\n",
    "cvec_lr_train_preds = cvec_lr_gs.predict(X_train)\n",
    "\n",
    "# Generating test predictions\n",
    "\n",
    "cvec_lr_preds       = cvec_lr_gs.predict(X_test)"
   ]
  },
  {
   "cell_type": "code",
   "execution_count": 20,
   "metadata": {},
   "outputs": [
    {
     "data": {
      "text/html": [
       "<div>\n",
       "<style scoped>\n",
       "    .dataframe tbody tr th:only-of-type {\n",
       "        vertical-align: middle;\n",
       "    }\n",
       "\n",
       "    .dataframe tbody tr th {\n",
       "        vertical-align: top;\n",
       "    }\n",
       "\n",
       "    .dataframe thead th {\n",
       "        text-align: right;\n",
       "    }\n",
       "</style>\n",
       "<table border=\"1\" class=\"dataframe\">\n",
       "  <thead>\n",
       "    <tr style=\"text-align: right;\">\n",
       "      <th></th>\n",
       "      <th>Score</th>\n",
       "    </tr>\n",
       "  </thead>\n",
       "  <tbody>\n",
       "    <tr>\n",
       "      <th>Accuracy</th>\n",
       "      <td>0.682095</td>\n",
       "    </tr>\n",
       "    <tr>\n",
       "      <th>Sensitivity</th>\n",
       "      <td>0.516714</td>\n",
       "    </tr>\n",
       "    <tr>\n",
       "      <th>Specificity</th>\n",
       "      <td>0.692401</td>\n",
       "    </tr>\n",
       "    <tr>\n",
       "      <th>AUROC</th>\n",
       "      <td>0.337036</td>\n",
       "    </tr>\n",
       "    <tr>\n",
       "      <th>Matthews Corr. Coef.</th>\n",
       "      <td>0.660546</td>\n",
       "    </tr>\n",
       "  </tbody>\n",
       "</table>\n",
       "</div>"
      ],
      "text/plain": [
       "                         Score\n",
       "Accuracy              0.682095\n",
       "Sensitivity           0.516714\n",
       "Specificity           0.692401\n",
       "AUROC                 0.337036\n",
       "Matthews Corr. Coef.  0.660546"
      ]
     },
     "execution_count": 20,
     "metadata": {},
     "output_type": "execute_result"
    }
   ],
   "source": [
    "# Training metrics\n",
    "\n",
    "metrics.binary_classification_summary(y_train, cvec_lr_train_preds)"
   ]
  },
  {
   "cell_type": "code",
   "execution_count": 21,
   "metadata": {},
   "outputs": [
    {
     "data": {
      "text/html": [
       "<div>\n",
       "<style scoped>\n",
       "    .dataframe tbody tr th:only-of-type {\n",
       "        vertical-align: middle;\n",
       "    }\n",
       "\n",
       "    .dataframe tbody tr th {\n",
       "        vertical-align: top;\n",
       "    }\n",
       "\n",
       "    .dataframe thead th {\n",
       "        text-align: right;\n",
       "    }\n",
       "</style>\n",
       "<table border=\"1\" class=\"dataframe\">\n",
       "  <thead>\n",
       "    <tr style=\"text-align: right;\">\n",
       "      <th></th>\n",
       "      <th>Score</th>\n",
       "    </tr>\n",
       "  </thead>\n",
       "  <tbody>\n",
       "    <tr>\n",
       "      <th>Accuracy</th>\n",
       "      <td>0.677223</td>\n",
       "    </tr>\n",
       "    <tr>\n",
       "      <th>Sensitivity</th>\n",
       "      <td>0.553009</td>\n",
       "    </tr>\n",
       "    <tr>\n",
       "      <th>Specificity</th>\n",
       "      <td>0.699422</td>\n",
       "    </tr>\n",
       "    <tr>\n",
       "      <th>AUROC</th>\n",
       "      <td>0.330184</td>\n",
       "    </tr>\n",
       "    <tr>\n",
       "      <th>Matthews Corr. Coef.</th>\n",
       "      <td>0.661038</td>\n",
       "    </tr>\n",
       "  </tbody>\n",
       "</table>\n",
       "</div>"
      ],
      "text/plain": [
       "                         Score\n",
       "Accuracy              0.677223\n",
       "Sensitivity           0.553009\n",
       "Specificity           0.699422\n",
       "AUROC                 0.330184\n",
       "Matthews Corr. Coef.  0.661038"
      ]
     },
     "execution_count": 21,
     "metadata": {},
     "output_type": "execute_result"
    }
   ],
   "source": [
    "# Test metrics\n",
    "\n",
    "metrics.binary_classification_summary(y_test, cvec_lr_preds)"
   ]
  },
  {
   "cell_type": "markdown",
   "metadata": {},
   "source": [
    "Overall the test scores are poor, although we found it surprising at how consistent they are.  We had expected a degree of overfitting due to the type of model: linear models are simple and tend to high bias.\n",
    "\n",
    "Our biggest concern is the ROC-AUC score: the scores are close to the lowest possible score and thus the model is not doing a very good job at distinguishing between the posts from r/Cooking and r/AskCulinary."
   ]
  },
  {
   "cell_type": "code",
   "execution_count": 22,
   "metadata": {},
   "outputs": [
    {
     "data": {
      "text/html": [
       "<div>\n",
       "<style scoped>\n",
       "    .dataframe tbody tr th:only-of-type {\n",
       "        vertical-align: middle;\n",
       "    }\n",
       "\n",
       "    .dataframe tbody tr th {\n",
       "        vertical-align: top;\n",
       "    }\n",
       "\n",
       "    .dataframe thead th {\n",
       "        text-align: right;\n",
       "    }\n",
       "</style>\n",
       "<table border=\"1\" class=\"dataframe\">\n",
       "  <thead>\n",
       "    <tr style=\"text-align: right;\">\n",
       "      <th></th>\n",
       "      <th>Predicted r/AskCulinary</th>\n",
       "      <th>Predicted r/Cooking</th>\n",
       "    </tr>\n",
       "  </thead>\n",
       "  <tbody>\n",
       "    <tr>\n",
       "      <th>Actual r/AskCulinary</th>\n",
       "      <td>363</td>\n",
       "      <td>109</td>\n",
       "    </tr>\n",
       "    <tr>\n",
       "      <th>Actual r/Cooking</th>\n",
       "      <td>156</td>\n",
       "      <td>193</td>\n",
       "    </tr>\n",
       "  </tbody>\n",
       "</table>\n",
       "</div>"
      ],
      "text/plain": [
       "                      Predicted r/AskCulinary  Predicted r/Cooking\n",
       "Actual r/AskCulinary                      363                  109\n",
       "Actual r/Cooking                          156                  193"
      ]
     },
     "execution_count": 22,
     "metadata": {},
     "output_type": "execute_result"
    }
   ],
   "source": [
    "# Generating a confusion matrix on the test results\n",
    "\n",
    "metrics.confusion_matrix_dataframe(y_test, \n",
    "                                   cvec_lr_preds,\n",
    "                                   columns = [\"Predicted r/AskCulinary\", \"Predicted r/Cooking\"],\n",
    "                                   index   = [\"Actual r/AskCulinary\", \"Actual r/Cooking\"])"
   ]
  },
  {
   "cell_type": "markdown",
   "metadata": {},
   "source": [
    "The confusion matrix contains the following:\n",
    "\n",
    "\n",
    "|                     | Predicted Negative | Predicted Positive |\n",
    "|:--------------------|:------------------:|:------------------:|\n",
    "| **Actual Negative** | True Negative      | False Negative     |\n",
    "| **Actual Positive** | False Positive     | True Positive      |\n",
    "\n",
    "\n",
    "Based on the matrix, it is easy to see that the model is better at predicting posts from r/AskCulinary than from r/Cooking.  We did not find that surprising at all because there are more posts from r/AskCulinary."
   ]
  },
  {
   "cell_type": "markdown",
   "metadata": {},
   "source": [
    "[Top](#Table-Of-Contents)"
   ]
  },
  {
   "cell_type": "markdown",
   "metadata": {},
   "source": [
    "#### TFIDF Vectorization"
   ]
  },
  {
   "cell_type": "code",
   "execution_count": 23,
   "metadata": {},
   "outputs": [
    {
     "name": "stderr",
     "output_type": "stream",
     "text": [
      "C:\\Users\\andre\\Anaconda3\\lib\\site-packages\\sklearn\\linear_model\\logistic.py:433: FutureWarning:\n",
      "\n",
      "Default solver will be changed to 'lbfgs' in 0.22. Specify a solver to silence this warning.\n",
      "\n"
     ]
    }
   ],
   "source": [
    "# Setting up the pipeline\n",
    "\n",
    "tvec_lr_pipe = Pipeline([(\"tvec\", TfidfVectorizer()), \n",
    "                         (\"log_reg\", LogisticRegression())])\n",
    "\n",
    "# Setting TFIDF hyperparameters\n",
    "\n",
    "tvec_pipe_params = {\"tvec__max_features\": [650], \n",
    "                    \"tvec__ngram_range\" : [(1,1)], \n",
    "                    \"tvec__stop_words\"  : [None]}\n",
    "                    \n",
    "# Instantiating the grid search\n",
    "\n",
    "tvec_lr_gs = GridSearchCV(tvec_lr_pipe, \n",
    "                          param_grid = tvec_pipe_params, \n",
    "                          cv         = 5)\n",
    "\n",
    "# Fitting the model to the training data\n",
    "\n",
    "tvec_lr_gs.fit(X_train, y_train);\n",
    "\n",
    "# The warning is a futurewarning and can be ignored"
   ]
  },
  {
   "cell_type": "code",
   "execution_count": 24,
   "metadata": {},
   "outputs": [],
   "source": [
    "# Generating training predictions\n",
    "\n",
    "tvec_lr_train_preds = tvec_lr_gs.predict(X_train)\n",
    "\n",
    "# Generating test predictions\n",
    "\n",
    "tvec_lr_preds       = tvec_lr_gs.predict(X_test) "
   ]
  },
  {
   "cell_type": "code",
   "execution_count": 25,
   "metadata": {},
   "outputs": [
    {
     "data": {
      "text/html": [
       "<div>\n",
       "<style scoped>\n",
       "    .dataframe tbody tr th:only-of-type {\n",
       "        vertical-align: middle;\n",
       "    }\n",
       "\n",
       "    .dataframe tbody tr th {\n",
       "        vertical-align: top;\n",
       "    }\n",
       "\n",
       "    .dataframe thead th {\n",
       "        text-align: right;\n",
       "    }\n",
       "</style>\n",
       "<table border=\"1\" class=\"dataframe\">\n",
       "  <thead>\n",
       "    <tr style=\"text-align: right;\">\n",
       "      <th></th>\n",
       "      <th>Score</th>\n",
       "    </tr>\n",
       "  </thead>\n",
       "  <tbody>\n",
       "    <tr>\n",
       "      <th>Accuracy</th>\n",
       "      <td>0.756395</td>\n",
       "    </tr>\n",
       "    <tr>\n",
       "      <th>Sensitivity</th>\n",
       "      <td>0.589303</td>\n",
       "    </tr>\n",
       "    <tr>\n",
       "      <th>Specificity</th>\n",
       "      <td>0.743437</td>\n",
       "    </tr>\n",
       "    <tr>\n",
       "      <th>AUROC</th>\n",
       "      <td>0.497487</td>\n",
       "    </tr>\n",
       "    <tr>\n",
       "      <th>Matthews Corr. Coef.</th>\n",
       "      <td>0.734623</td>\n",
       "    </tr>\n",
       "  </tbody>\n",
       "</table>\n",
       "</div>"
      ],
      "text/plain": [
       "                         Score\n",
       "Accuracy              0.756395\n",
       "Sensitivity           0.589303\n",
       "Specificity           0.743437\n",
       "AUROC                 0.497487\n",
       "Matthews Corr. Coef.  0.734623"
      ]
     },
     "execution_count": 25,
     "metadata": {},
     "output_type": "execute_result"
    }
   ],
   "source": [
    "# Training metrics\n",
    "\n",
    "metrics.binary_classification_summary(y_train, tvec_lr_train_preds)"
   ]
  },
  {
   "cell_type": "code",
   "execution_count": 26,
   "metadata": {},
   "outputs": [
    {
     "data": {
      "text/html": [
       "<div>\n",
       "<style scoped>\n",
       "    .dataframe tbody tr th:only-of-type {\n",
       "        vertical-align: middle;\n",
       "    }\n",
       "\n",
       "    .dataframe tbody tr th {\n",
       "        vertical-align: top;\n",
       "    }\n",
       "\n",
       "    .dataframe thead th {\n",
       "        text-align: right;\n",
       "    }\n",
       "</style>\n",
       "<table border=\"1\" class=\"dataframe\">\n",
       "  <thead>\n",
       "    <tr style=\"text-align: right;\">\n",
       "      <th></th>\n",
       "      <th>Score</th>\n",
       "    </tr>\n",
       "  </thead>\n",
       "  <tbody>\n",
       "    <tr>\n",
       "      <th>Accuracy</th>\n",
       "      <td>0.700365</td>\n",
       "    </tr>\n",
       "    <tr>\n",
       "      <th>Sensitivity</th>\n",
       "      <td>0.510029</td>\n",
       "    </tr>\n",
       "    <tr>\n",
       "      <th>Specificity</th>\n",
       "      <td>0.698944</td>\n",
       "    </tr>\n",
       "    <tr>\n",
       "      <th>AUROC</th>\n",
       "      <td>0.375939</td>\n",
       "    </tr>\n",
       "    <tr>\n",
       "      <th>Matthews Corr. Coef.</th>\n",
       "      <td>0.675565</td>\n",
       "    </tr>\n",
       "  </tbody>\n",
       "</table>\n",
       "</div>"
      ],
      "text/plain": [
       "                         Score\n",
       "Accuracy              0.700365\n",
       "Sensitivity           0.510029\n",
       "Specificity           0.698944\n",
       "AUROC                 0.375939\n",
       "Matthews Corr. Coef.  0.675565"
      ]
     },
     "execution_count": 26,
     "metadata": {},
     "output_type": "execute_result"
    }
   ],
   "source": [
    "# Test metrics\n",
    "\n",
    "metrics.binary_classification_summary(y_test, tvec_lr_preds)"
   ]
  },
  {
   "cell_type": "markdown",
   "metadata": {},
   "source": [
    "This model with the TFIDF vectorizer performed a bit better on the test data than the same model with count vectorization.  Nevertheless, this model is more overfit.  The improvement in the ROC-AUC scores is good, but the score is still low."
   ]
  },
  {
   "cell_type": "code",
   "execution_count": 27,
   "metadata": {},
   "outputs": [
    {
     "data": {
      "text/html": [
       "<div>\n",
       "<style scoped>\n",
       "    .dataframe tbody tr th:only-of-type {\n",
       "        vertical-align: middle;\n",
       "    }\n",
       "\n",
       "    .dataframe tbody tr th {\n",
       "        vertical-align: top;\n",
       "    }\n",
       "\n",
       "    .dataframe thead th {\n",
       "        text-align: right;\n",
       "    }\n",
       "</style>\n",
       "<table border=\"1\" class=\"dataframe\">\n",
       "  <thead>\n",
       "    <tr style=\"text-align: right;\">\n",
       "      <th></th>\n",
       "      <th>Predicted r/AskCulinary</th>\n",
       "      <th>Predicted r/Cooking</th>\n",
       "    </tr>\n",
       "  </thead>\n",
       "  <tbody>\n",
       "    <tr>\n",
       "      <th>Actual r/AskCulinary</th>\n",
       "      <td>397</td>\n",
       "      <td>75</td>\n",
       "    </tr>\n",
       "    <tr>\n",
       "      <th>Actual r/Cooking</th>\n",
       "      <td>171</td>\n",
       "      <td>178</td>\n",
       "    </tr>\n",
       "  </tbody>\n",
       "</table>\n",
       "</div>"
      ],
      "text/plain": [
       "                      Predicted r/AskCulinary  Predicted r/Cooking\n",
       "Actual r/AskCulinary                      397                   75\n",
       "Actual r/Cooking                          171                  178"
      ]
     },
     "execution_count": 27,
     "metadata": {},
     "output_type": "execute_result"
    }
   ],
   "source": [
    "# Generating a confusion matrix on the test results\n",
    "\n",
    "metrics.confusion_matrix_dataframe(y_test, \n",
    "                                   tvec_lr_preds,\n",
    "                                   columns = [\"Predicted r/AskCulinary\", \"Predicted r/Cooking\"],\n",
    "                                   index   = [\"Actual r/AskCulinary\", \"Actual r/Cooking\"])"
   ]
  },
  {
   "cell_type": "markdown",
   "metadata": {},
   "source": [
    "Compared to the confusion matrix for the CVEC predictions, the number of true positives and true negatives have increased while the numbers of false positives and false negatives have decreased as well meaning that the model's predictive power has increased; this reflects what we saw with the model's metrics.  It still predicts the negative class better, which is not surprising."
   ]
  },
  {
   "cell_type": "markdown",
   "metadata": {},
   "source": [
    "[Top](#Table-Of-Contents)"
   ]
  },
  {
   "cell_type": "markdown",
   "metadata": {},
   "source": [
    "### Support Vector Classifier"
   ]
  },
  {
   "cell_type": "markdown",
   "metadata": {},
   "source": [
    "A support vector machine (in this case a classifier) is at its core a linear model.  However, instead of running like a logistic regression, it seeks to linearly separate the data.  To do that, it uses a kernel to raise the data into _n_-dimensional space.  It then uses a line, plane (3-dimensional line), or hyperplane (greater than 3-dimensions) to delineate the data."
   ]
  },
  {
   "cell_type": "markdown",
   "metadata": {},
   "source": [
    "#### Count Vectorizer"
   ]
  },
  {
   "cell_type": "code",
   "execution_count": 28,
   "metadata": {},
   "outputs": [],
   "source": [
    "# Setting up the pipeline\n",
    "\n",
    "cvec_svc_pipe = Pipeline([(\"cvec\", CountVectorizer()), \n",
    "                         (\"svc\", SVC())])\n",
    "\n",
    "# Setting CVEC and pipe hyperparameters\n",
    "\n",
    "cvec_pipe_params = {\"cvec__max_features\": [319], \n",
    "                    \"cvec__ngram_range\" : [(1,2)], \n",
    "                    \"cvec__stop_words\"  : [None],\n",
    "                    \"svc__C\"            : [1.0],\n",
    "                    \"svc__kernel\"       : [\"rbf\"],\n",
    "                    \"svc__gamma\"        : [\"auto\"]}\n",
    "                    \n",
    "# Instantiating the grid search\n",
    "\n",
    "cvec_svc_gs = GridSearchCV(cvec_svc_pipe, \n",
    "                           param_grid = cvec_pipe_params, \n",
    "                           cv         = 5)\n",
    "\n",
    "# Fitting the model to the training data\n",
    "\n",
    "cvec_svc_gs.fit(X_train, y_train);"
   ]
  },
  {
   "cell_type": "code",
   "execution_count": 29,
   "metadata": {},
   "outputs": [],
   "source": [
    "# Generating training predictions\n",
    "\n",
    "cvec_svc_train_preds = cvec_svc_gs.predict(X_train)\n",
    "\n",
    "# Generating test predictions\n",
    "\n",
    "cvec_svc_preds       = cvec_svc_gs.predict(X_test) "
   ]
  },
  {
   "cell_type": "code",
   "execution_count": 30,
   "metadata": {},
   "outputs": [
    {
     "data": {
      "text/html": [
       "<div>\n",
       "<style scoped>\n",
       "    .dataframe tbody tr th:only-of-type {\n",
       "        vertical-align: middle;\n",
       "    }\n",
       "\n",
       "    .dataframe tbody tr th {\n",
       "        vertical-align: top;\n",
       "    }\n",
       "\n",
       "    .dataframe thead th {\n",
       "        text-align: right;\n",
       "    }\n",
       "</style>\n",
       "<table border=\"1\" class=\"dataframe\">\n",
       "  <thead>\n",
       "    <tr style=\"text-align: right;\">\n",
       "      <th></th>\n",
       "      <th>Score</th>\n",
       "    </tr>\n",
       "  </thead>\n",
       "  <tbody>\n",
       "    <tr>\n",
       "      <th>Accuracy</th>\n",
       "      <td>0.753959</td>\n",
       "    </tr>\n",
       "    <tr>\n",
       "      <th>Sensitivity</th>\n",
       "      <td>0.565425</td>\n",
       "    </tr>\n",
       "    <tr>\n",
       "      <th>Specificity</th>\n",
       "      <td>0.735465</td>\n",
       "    </tr>\n",
       "    <tr>\n",
       "      <th>AUROC</th>\n",
       "      <td>0.494148</td>\n",
       "    </tr>\n",
       "    <tr>\n",
       "      <th>Matthews Corr. Coef.</th>\n",
       "      <td>0.729393</td>\n",
       "    </tr>\n",
       "  </tbody>\n",
       "</table>\n",
       "</div>"
      ],
      "text/plain": [
       "                         Score\n",
       "Accuracy              0.753959\n",
       "Sensitivity           0.565425\n",
       "Specificity           0.735465\n",
       "AUROC                 0.494148\n",
       "Matthews Corr. Coef.  0.729393"
      ]
     },
     "execution_count": 30,
     "metadata": {},
     "output_type": "execute_result"
    }
   ],
   "source": [
    "# Training metrics\n",
    "\n",
    "metrics.binary_classification_summary(y_train, cvec_svc_train_preds)"
   ]
  },
  {
   "cell_type": "code",
   "execution_count": 31,
   "metadata": {},
   "outputs": [
    {
     "data": {
      "text/html": [
       "<div>\n",
       "<style scoped>\n",
       "    .dataframe tbody tr th:only-of-type {\n",
       "        vertical-align: middle;\n",
       "    }\n",
       "\n",
       "    .dataframe tbody tr th {\n",
       "        vertical-align: top;\n",
       "    }\n",
       "\n",
       "    .dataframe thead th {\n",
       "        text-align: right;\n",
       "    }\n",
       "</style>\n",
       "<table border=\"1\" class=\"dataframe\">\n",
       "  <thead>\n",
       "    <tr style=\"text-align: right;\">\n",
       "      <th></th>\n",
       "      <th>Score</th>\n",
       "    </tr>\n",
       "  </thead>\n",
       "  <tbody>\n",
       "    <tr>\n",
       "      <th>Accuracy</th>\n",
       "      <td>0.680877</td>\n",
       "    </tr>\n",
       "    <tr>\n",
       "      <th>Sensitivity</th>\n",
       "      <td>0.484241</td>\n",
       "    </tr>\n",
       "    <tr>\n",
       "      <th>Specificity</th>\n",
       "      <td>0.684211</td>\n",
       "    </tr>\n",
       "    <tr>\n",
       "      <th>AUROC</th>\n",
       "      <td>0.333187</td>\n",
       "    </tr>\n",
       "    <tr>\n",
       "      <th>Matthews Corr. Coef.</th>\n",
       "      <td>0.655256</td>\n",
       "    </tr>\n",
       "  </tbody>\n",
       "</table>\n",
       "</div>"
      ],
      "text/plain": [
       "                         Score\n",
       "Accuracy              0.680877\n",
       "Sensitivity           0.484241\n",
       "Specificity           0.684211\n",
       "AUROC                 0.333187\n",
       "Matthews Corr. Coef.  0.655256"
      ]
     },
     "execution_count": 31,
     "metadata": {},
     "output_type": "execute_result"
    }
   ],
   "source": [
    "# Test metrics\n",
    "\n",
    "metrics.binary_classification_summary(y_test, cvec_svc_preds)"
   ]
  },
  {
   "cell_type": "markdown",
   "metadata": {},
   "source": [
    "We were surprised that a support vector machine performed worse than the logistic regression: we had expected dramatic improvements over the logistic regression.  While we did note improvements in metric scores, we also noticed that the ROC-AUC score is worse than the logistic regressions.  Because the ROC-AUC score measures the distinction between classes, we were reluctant to say this model is better than the logistic regression.  Furthermore, this model is slightly more overfit than the logistic regression."
   ]
  },
  {
   "cell_type": "code",
   "execution_count": 32,
   "metadata": {},
   "outputs": [
    {
     "data": {
      "text/html": [
       "<div>\n",
       "<style scoped>\n",
       "    .dataframe tbody tr th:only-of-type {\n",
       "        vertical-align: middle;\n",
       "    }\n",
       "\n",
       "    .dataframe tbody tr th {\n",
       "        vertical-align: top;\n",
       "    }\n",
       "\n",
       "    .dataframe thead th {\n",
       "        text-align: right;\n",
       "    }\n",
       "</style>\n",
       "<table border=\"1\" class=\"dataframe\">\n",
       "  <thead>\n",
       "    <tr style=\"text-align: right;\">\n",
       "      <th></th>\n",
       "      <th>Predicted r/AskCulinary</th>\n",
       "      <th>Predicted r/Cooking</th>\n",
       "    </tr>\n",
       "  </thead>\n",
       "  <tbody>\n",
       "    <tr>\n",
       "      <th>Actual r/AskCulinary</th>\n",
       "      <td>390</td>\n",
       "      <td>82</td>\n",
       "    </tr>\n",
       "    <tr>\n",
       "      <th>Actual r/Cooking</th>\n",
       "      <td>180</td>\n",
       "      <td>169</td>\n",
       "    </tr>\n",
       "  </tbody>\n",
       "</table>\n",
       "</div>"
      ],
      "text/plain": [
       "                      Predicted r/AskCulinary  Predicted r/Cooking\n",
       "Actual r/AskCulinary                      390                   82\n",
       "Actual r/Cooking                          180                  169"
      ]
     },
     "execution_count": 32,
     "metadata": {},
     "output_type": "execute_result"
    }
   ],
   "source": [
    "# Generating a confusion matrix on the test results\n",
    "\n",
    "metrics.confusion_matrix_dataframe(y_test, \n",
    "                                   cvec_svc_preds,\n",
    "                                   columns = [\"Predicted r/AskCulinary\", \"Predicted r/Cooking\"],\n",
    "                                   index   = [\"Actual r/AskCulinary\", \"Actual r/Cooking\"])"
   ]
  },
  {
   "cell_type": "markdown",
   "metadata": {},
   "source": [
    "This model predicts the r/Cooking more than the r/AskCulinary which again we found surprising.  While it did a better job with the true positives, the model predicted more false positives and less of the negative cases overall."
   ]
  },
  {
   "cell_type": "markdown",
   "metadata": {},
   "source": [
    "[Top](#Table-Of-Contents)"
   ]
  },
  {
   "cell_type": "markdown",
   "metadata": {},
   "source": [
    "#### TFIDF Vectorizer"
   ]
  },
  {
   "cell_type": "code",
   "execution_count": 33,
   "metadata": {},
   "outputs": [],
   "source": [
    "# Setting up the pipeline\n",
    "\n",
    "tvec_svc_pipe = Pipeline([(\"tvec\", TfidfVectorizer()), \n",
    "                         (\"svc\", SVC())])\n",
    "\n",
    "# Setting TFIDF and pipe hyperparameters\n",
    "\n",
    "tvec_pipe_params = {\"tvec__max_features\": [1], \n",
    "                    \"tvec__ngram_range\" : [(1,1)], \n",
    "                    \"tvec__stop_words\"  : [None],\n",
    "                    \"svc__C\"            : [1.0],\n",
    "                    \"svc__kernel\"       : [\"rbf\"],\n",
    "                    \"svc__gamma\"        : [\"auto\"]}\n",
    "                    \n",
    "# Instantiating the grid search\n",
    "\n",
    "tvec_svc_gs = GridSearchCV(tvec_svc_pipe, \n",
    "                           param_grid = tvec_pipe_params, \n",
    "                           cv         = 5)\n",
    "\n",
    "# Fitting the model to the training data\n",
    "\n",
    "tvec_svc_gs.fit(X_train, y_train);"
   ]
  },
  {
   "cell_type": "code",
   "execution_count": 34,
   "metadata": {},
   "outputs": [],
   "source": [
    "# Generating training predictions\n",
    "\n",
    "tvec_svc_train_preds = tvec_svc_gs.predict(X_train)\n",
    "\n",
    "# Generating test predictions\n",
    "\n",
    "tvec_svc_preds       = tvec_svc_gs.predict(X_test) "
   ]
  },
  {
   "cell_type": "code",
   "execution_count": 35,
   "metadata": {},
   "outputs": [
    {
     "data": {
      "text/html": [
       "<div>\n",
       "<style scoped>\n",
       "    .dataframe tbody tr th:only-of-type {\n",
       "        vertical-align: middle;\n",
       "    }\n",
       "\n",
       "    .dataframe tbody tr th {\n",
       "        vertical-align: top;\n",
       "    }\n",
       "\n",
       "    .dataframe thead th {\n",
       "        text-align: right;\n",
       "    }\n",
       "</style>\n",
       "<table border=\"1\" class=\"dataframe\">\n",
       "  <thead>\n",
       "    <tr style=\"text-align: right;\">\n",
       "      <th></th>\n",
       "      <th>Score</th>\n",
       "    </tr>\n",
       "  </thead>\n",
       "  <tbody>\n",
       "    <tr>\n",
       "      <th>Accuracy</th>\n",
       "      <td>0.595615</td>\n",
       "    </tr>\n",
       "    <tr>\n",
       "      <th>Sensitivity</th>\n",
       "      <td>0.225406</td>\n",
       "    </tr>\n",
       "    <tr>\n",
       "      <th>Specificity</th>\n",
       "      <td>0.602840</td>\n",
       "    </tr>\n",
       "    <tr>\n",
       "      <th>AUROC</th>\n",
       "      <td>0.124435</td>\n",
       "    </tr>\n",
       "    <tr>\n",
       "      <th>Matthews Corr. Coef.</th>\n",
       "      <td>0.547378</td>\n",
       "    </tr>\n",
       "  </tbody>\n",
       "</table>\n",
       "</div>"
      ],
      "text/plain": [
       "                         Score\n",
       "Accuracy              0.595615\n",
       "Sensitivity           0.225406\n",
       "Specificity           0.602840\n",
       "AUROC                 0.124435\n",
       "Matthews Corr. Coef.  0.547378"
      ]
     },
     "execution_count": 35,
     "metadata": {},
     "output_type": "execute_result"
    }
   ],
   "source": [
    "# Training metrics\n",
    "\n",
    "metrics.binary_classification_summary(y_train, tvec_svc_train_preds)"
   ]
  },
  {
   "cell_type": "code",
   "execution_count": 36,
   "metadata": {},
   "outputs": [
    {
     "data": {
      "text/html": [
       "<div>\n",
       "<style scoped>\n",
       "    .dataframe tbody tr th:only-of-type {\n",
       "        vertical-align: middle;\n",
       "    }\n",
       "\n",
       "    .dataframe tbody tr th {\n",
       "        vertical-align: top;\n",
       "    }\n",
       "\n",
       "    .dataframe thead th {\n",
       "        text-align: right;\n",
       "    }\n",
       "</style>\n",
       "<table border=\"1\" class=\"dataframe\">\n",
       "  <thead>\n",
       "    <tr style=\"text-align: right;\">\n",
       "      <th></th>\n",
       "      <th>Score</th>\n",
       "    </tr>\n",
       "  </thead>\n",
       "  <tbody>\n",
       "    <tr>\n",
       "      <th>Accuracy</th>\n",
       "      <td>0.609013</td>\n",
       "    </tr>\n",
       "    <tr>\n",
       "      <th>Sensitivity</th>\n",
       "      <td>0.232092</td>\n",
       "    </tr>\n",
       "    <tr>\n",
       "      <th>Specificity</th>\n",
       "      <td>0.609898</td>\n",
       "    </tr>\n",
       "    <tr>\n",
       "      <th>AUROC</th>\n",
       "      <td>0.160259</td>\n",
       "    </tr>\n",
       "    <tr>\n",
       "      <th>Matthews Corr. Coef.</th>\n",
       "      <td>0.559902</td>\n",
       "    </tr>\n",
       "  </tbody>\n",
       "</table>\n",
       "</div>"
      ],
      "text/plain": [
       "                         Score\n",
       "Accuracy              0.609013\n",
       "Sensitivity           0.232092\n",
       "Specificity           0.609898\n",
       "AUROC                 0.160259\n",
       "Matthews Corr. Coef.  0.559902"
      ]
     },
     "execution_count": 36,
     "metadata": {},
     "output_type": "execute_result"
    }
   ],
   "source": [
    "# Test metrics\n",
    "\n",
    "metrics.binary_classification_summary(y_test, tvec_svc_preds)"
   ]
  },
  {
   "cell_type": "markdown",
   "metadata": {},
   "source": [
    "Considering the performance of the SVC with count vectorization, we were surprised by how much more poorly this model performed: scores in the range of 0.2 to 0.4 are simply unacceptable.  We expected these scores to be slightly higher than the count vectorized scores because in the case of the logistic regression the scores improved with TFIDF vectorization.  Nevertheless, the model is is not overfit at all and in a few cases performed slightly better on the test data."
   ]
  },
  {
   "cell_type": "code",
   "execution_count": 37,
   "metadata": {},
   "outputs": [
    {
     "data": {
      "text/html": [
       "<div>\n",
       "<style scoped>\n",
       "    .dataframe tbody tr th:only-of-type {\n",
       "        vertical-align: middle;\n",
       "    }\n",
       "\n",
       "    .dataframe tbody tr th {\n",
       "        vertical-align: top;\n",
       "    }\n",
       "\n",
       "    .dataframe thead th {\n",
       "        text-align: right;\n",
       "    }\n",
       "</style>\n",
       "<table border=\"1\" class=\"dataframe\">\n",
       "  <thead>\n",
       "    <tr style=\"text-align: right;\">\n",
       "      <th></th>\n",
       "      <th>Predicted r/AskCulinary</th>\n",
       "      <th>Predicted r/Cooking</th>\n",
       "    </tr>\n",
       "  </thead>\n",
       "  <tbody>\n",
       "    <tr>\n",
       "      <th>Actual r/AskCulinary</th>\n",
       "      <td>419</td>\n",
       "      <td>53</td>\n",
       "    </tr>\n",
       "    <tr>\n",
       "      <th>Actual r/Cooking</th>\n",
       "      <td>268</td>\n",
       "      <td>81</td>\n",
       "    </tr>\n",
       "  </tbody>\n",
       "</table>\n",
       "</div>"
      ],
      "text/plain": [
       "                      Predicted r/AskCulinary  Predicted r/Cooking\n",
       "Actual r/AskCulinary                      419                   53\n",
       "Actual r/Cooking                          268                   81"
      ]
     },
     "execution_count": 37,
     "metadata": {},
     "output_type": "execute_result"
    }
   ],
   "source": [
    "# Generating a confusion matrix on the test results\n",
    "\n",
    "metrics.confusion_matrix_dataframe(y_test, \n",
    "                                   tvec_svc_preds,\n",
    "                                   columns = [\"Predicted r/AskCulinary\", \"Predicted r/Cooking\"],\n",
    "                                   index   = [\"Actual r/AskCulinary\", \"Actual r/Cooking\"])"
   ]
  },
  {
   "cell_type": "markdown",
   "metadata": {},
   "source": [
    "We can see in an increase in the number of true negatives, false positives, but a decrease in true positives and false negatives.  While we welcome a decrease in false negatives, we were surprised by a significant drop in the true positives."
   ]
  },
  {
   "cell_type": "markdown",
   "metadata": {},
   "source": [
    "[Top](#Table-Of-Contents)"
   ]
  },
  {
   "cell_type": "markdown",
   "metadata": {},
   "source": [
    "### Random Forest Classifier"
   ]
  },
  {
   "cell_type": "markdown",
   "metadata": {},
   "source": [
    "A random forest classifier is a decision tree-based classification method.  However, it has advantages over other tree-based models.  Firstly, it bootstraps the dataframe to have a random subset of the data, but it also takes a random subset of the features.  Having two levels of randomness in the model reduces the likelihood of the model being overfit on training data but it also allows the model to be less prone to variance caused by many features."
   ]
  },
  {
   "cell_type": "markdown",
   "metadata": {},
   "source": [
    "#### Count Vectorizer"
   ]
  },
  {
   "cell_type": "code",
   "execution_count": 38,
   "metadata": {},
   "outputs": [],
   "source": [
    "# Creating the pipeline\n",
    "\n",
    "cvec_rf_pipe = Pipeline([(\"cvec\", CountVectorizer()), \n",
    "                         (\"rf\", RandomForestClassifier(random_state = 42))])\n",
    "\n",
    "# Setting CVEC and pipeline hyperparameters\n",
    "\n",
    "cvec_pipe_params = {\"cvec__max_features\"   : [1000], \n",
    "                    \"cvec__ngram_range\"    : [(1,1)], \n",
    "                    \"cvec__stop_words\"     : [None],\n",
    "                    \"rf__n_estimators\"     : [72],\n",
    "                    \"rf__min_samples_split\": [6],\n",
    "                    \"rf__min_samples_leaf\" : [2],\n",
    "                    \"rf__max_depth\"        : [20]}\n",
    "\n",
    "# Instantiating the grid search\n",
    "\n",
    "cvec_rf_gs = GridSearchCV(cvec_rf_pipe, \n",
    "                          param_grid = cvec_pipe_params, \n",
    "                          cv         = 5,\n",
    "                          n_jobs     = 6)\n",
    "\n",
    "# Fitting the model to the training data\n",
    "\n",
    "cvec_rf_gs.fit(X_train, y_train);"
   ]
  },
  {
   "cell_type": "code",
   "execution_count": 39,
   "metadata": {},
   "outputs": [],
   "source": [
    "# Generating training predictions\n",
    "\n",
    "cvec_rf_train_preds = cvec_rf_gs.predict(X_train)\n",
    "\n",
    "# Generating test predictions\n",
    "\n",
    "cvec_rf_preds       = cvec_rf_gs.predict(X_test) "
   ]
  },
  {
   "cell_type": "code",
   "execution_count": 40,
   "metadata": {},
   "outputs": [
    {
     "data": {
      "text/html": [
       "<div>\n",
       "<style scoped>\n",
       "    .dataframe tbody tr th:only-of-type {\n",
       "        vertical-align: middle;\n",
       "    }\n",
       "\n",
       "    .dataframe tbody tr th {\n",
       "        vertical-align: top;\n",
       "    }\n",
       "\n",
       "    .dataframe thead th {\n",
       "        text-align: right;\n",
       "    }\n",
       "</style>\n",
       "<table border=\"1\" class=\"dataframe\">\n",
       "  <thead>\n",
       "    <tr style=\"text-align: right;\">\n",
       "      <th></th>\n",
       "      <th>Score</th>\n",
       "    </tr>\n",
       "  </thead>\n",
       "  <tbody>\n",
       "    <tr>\n",
       "      <th>Accuracy</th>\n",
       "      <td>0.924482</td>\n",
       "    </tr>\n",
       "    <tr>\n",
       "      <th>Sensitivity</th>\n",
       "      <td>0.846227</td>\n",
       "    </tr>\n",
       "    <tr>\n",
       "      <th>Specificity</th>\n",
       "      <td>0.896263</td>\n",
       "    </tr>\n",
       "    <tr>\n",
       "      <th>AUROC</th>\n",
       "      <td>0.848458</td>\n",
       "    </tr>\n",
       "    <tr>\n",
       "      <th>Matthews Corr. Coef.</th>\n",
       "      <td>0.914286</td>\n",
       "    </tr>\n",
       "  </tbody>\n",
       "</table>\n",
       "</div>"
      ],
      "text/plain": [
       "                         Score\n",
       "Accuracy              0.924482\n",
       "Sensitivity           0.846227\n",
       "Specificity           0.896263\n",
       "AUROC                 0.848458\n",
       "Matthews Corr. Coef.  0.914286"
      ]
     },
     "execution_count": 40,
     "metadata": {},
     "output_type": "execute_result"
    }
   ],
   "source": [
    "# Training metrics\n",
    "\n",
    "metrics.binary_classification_summary(y_train, cvec_rf_train_preds)"
   ]
  },
  {
   "cell_type": "code",
   "execution_count": 41,
   "metadata": {},
   "outputs": [
    {
     "data": {
      "text/html": [
       "<div>\n",
       "<style scoped>\n",
       "    .dataframe tbody tr th:only-of-type {\n",
       "        vertical-align: middle;\n",
       "    }\n",
       "\n",
       "    .dataframe tbody tr th {\n",
       "        vertical-align: top;\n",
       "    }\n",
       "\n",
       "    .dataframe thead th {\n",
       "        text-align: right;\n",
       "    }\n",
       "</style>\n",
       "<table border=\"1\" class=\"dataframe\">\n",
       "  <thead>\n",
       "    <tr style=\"text-align: right;\">\n",
       "      <th></th>\n",
       "      <th>Score</th>\n",
       "    </tr>\n",
       "  </thead>\n",
       "  <tbody>\n",
       "    <tr>\n",
       "      <th>Accuracy</th>\n",
       "      <td>0.660171</td>\n",
       "    </tr>\n",
       "    <tr>\n",
       "      <th>Sensitivity</th>\n",
       "      <td>0.352436</td>\n",
       "    </tr>\n",
       "    <tr>\n",
       "      <th>Specificity</th>\n",
       "      <td>0.649612</td>\n",
       "    </tr>\n",
       "    <tr>\n",
       "      <th>AUROC</th>\n",
       "      <td>0.289285</td>\n",
       "    </tr>\n",
       "    <tr>\n",
       "      <th>Matthews Corr. Coef.</th>\n",
       "      <td>0.620074</td>\n",
       "    </tr>\n",
       "  </tbody>\n",
       "</table>\n",
       "</div>"
      ],
      "text/plain": [
       "                         Score\n",
       "Accuracy              0.660171\n",
       "Sensitivity           0.352436\n",
       "Specificity           0.649612\n",
       "AUROC                 0.289285\n",
       "Matthews Corr. Coef.  0.620074"
      ]
     },
     "execution_count": 41,
     "metadata": {},
     "output_type": "execute_result"
    }
   ],
   "source": [
    "# Test metrics\n",
    "\n",
    "metrics.binary_classification_summary(y_test, cvec_rf_preds)"
   ]
  },
  {
   "cell_type": "markdown",
   "metadata": {},
   "source": [
    "This random forest model is significantly overfit, which we did not expect because the random forest's two-level randomness is designed to help prevent overfitting; overall this model performed poorly.  Despite the model's poor performance and significant overfitting, this model has by far the best specificity score so far."
   ]
  },
  {
   "cell_type": "code",
   "execution_count": 42,
   "metadata": {},
   "outputs": [
    {
     "data": {
      "text/html": [
       "<div>\n",
       "<style scoped>\n",
       "    .dataframe tbody tr th:only-of-type {\n",
       "        vertical-align: middle;\n",
       "    }\n",
       "\n",
       "    .dataframe tbody tr th {\n",
       "        vertical-align: top;\n",
       "    }\n",
       "\n",
       "    .dataframe thead th {\n",
       "        text-align: right;\n",
       "    }\n",
       "</style>\n",
       "<table border=\"1\" class=\"dataframe\">\n",
       "  <thead>\n",
       "    <tr style=\"text-align: right;\">\n",
       "      <th></th>\n",
       "      <th>Predicted r/AskCulinary</th>\n",
       "      <th>Predicted r/Cooking</th>\n",
       "    </tr>\n",
       "  </thead>\n",
       "  <tbody>\n",
       "    <tr>\n",
       "      <th>Actual r/AskCulinary</th>\n",
       "      <td>419</td>\n",
       "      <td>53</td>\n",
       "    </tr>\n",
       "    <tr>\n",
       "      <th>Actual r/Cooking</th>\n",
       "      <td>226</td>\n",
       "      <td>123</td>\n",
       "    </tr>\n",
       "  </tbody>\n",
       "</table>\n",
       "</div>"
      ],
      "text/plain": [
       "                      Predicted r/AskCulinary  Predicted r/Cooking\n",
       "Actual r/AskCulinary                      419                   53\n",
       "Actual r/Cooking                          226                  123"
      ]
     },
     "execution_count": 42,
     "metadata": {},
     "output_type": "execute_result"
    }
   ],
   "source": [
    "# Generating a confusion matrix on the test results\n",
    "\n",
    "metrics.confusion_matrix_dataframe(y_test, \n",
    "                                   cvec_rf_preds,\n",
    "                                   columns = [\"Predicted r/AskCulinary\", \"Predicted r/Cooking\"],\n",
    "                                   index   = [\"Actual r/AskCulinary\", \"Actual r/Cooking\"])"
   ]
  },
  {
   "cell_type": "markdown",
   "metadata": {},
   "source": [
    "Here we can see that the true positives and negatives increased while the false negatives and positives decreased.  This is an improvement over the previous model, but it is still not great by any means."
   ]
  },
  {
   "cell_type": "markdown",
   "metadata": {},
   "source": [
    "[Top](#Table-Of-Contents)"
   ]
  },
  {
   "cell_type": "markdown",
   "metadata": {},
   "source": [
    "#### TFIDF Vectorizer"
   ]
  },
  {
   "cell_type": "code",
   "execution_count": 43,
   "metadata": {},
   "outputs": [],
   "source": [
    "# Creating the pipeline\n",
    "\n",
    "tvec_rf_pipe = Pipeline([(\"tvec\", TfidfVectorizer()), \n",
    "                         (\"rf\", RandomForestClassifier(random_state = 42))])\n",
    "\n",
    "# Setting the TVEC and pipeline hyperparameters\n",
    "\n",
    "tvec_pipe_params = {\"tvec__max_features\"   : [250], \n",
    "                    \"tvec__ngram_range\"    : [(1,2)], \n",
    "                    \"tvec__stop_words\"     : [None],\n",
    "                    \"rf__n_estimators\"     : [30],\n",
    "                    \"rf__min_samples_split\": [6],\n",
    "                    \"rf__min_samples_leaf\" : [2],\n",
    "                    \"rf__max_depth\"        : [12]}\n",
    "\n",
    "# Instantiating the grid search\n",
    "\n",
    "tvec_rf_gs = GridSearchCV(tvec_rf_pipe, \n",
    "                          param_grid = tvec_pipe_params, \n",
    "                          cv         = 5,\n",
    "                          n_jobs     = 6)\n",
    "\n",
    "# Fitting the model to the testing data\n",
    "\n",
    "tvec_rf_gs.fit(X_train, y_train);"
   ]
  },
  {
   "cell_type": "code",
   "execution_count": 44,
   "metadata": {},
   "outputs": [],
   "source": [
    "# Generating training predictions\n",
    "\n",
    "tvec_rf_train_preds = tvec_rf_gs.predict(X_train)\n",
    "\n",
    "# Generating test predictions\n",
    "\n",
    "tvec_rf_preds       = tvec_rf_gs.predict(X_test) "
   ]
  },
  {
   "cell_type": "code",
   "execution_count": 45,
   "metadata": {},
   "outputs": [
    {
     "data": {
      "text/html": [
       "<div>\n",
       "<style scoped>\n",
       "    .dataframe tbody tr th:only-of-type {\n",
       "        vertical-align: middle;\n",
       "    }\n",
       "\n",
       "    .dataframe tbody tr th {\n",
       "        vertical-align: top;\n",
       "    }\n",
       "\n",
       "    .dataframe thead th {\n",
       "        text-align: right;\n",
       "    }\n",
       "</style>\n",
       "<table border=\"1\" class=\"dataframe\">\n",
       "  <thead>\n",
       "    <tr style=\"text-align: right;\">\n",
       "      <th></th>\n",
       "      <th>Score</th>\n",
       "    </tr>\n",
       "  </thead>\n",
       "  <tbody>\n",
       "    <tr>\n",
       "      <th>Accuracy</th>\n",
       "      <td>0.865611</td>\n",
       "    </tr>\n",
       "    <tr>\n",
       "      <th>Sensitivity</th>\n",
       "      <td>0.702961</td>\n",
       "    </tr>\n",
       "    <tr>\n",
       "      <th>Specificity</th>\n",
       "      <td>0.817809</td>\n",
       "    </tr>\n",
       "    <tr>\n",
       "      <th>AUROC</th>\n",
       "      <td>0.738318</td>\n",
       "    </tr>\n",
       "    <tr>\n",
       "      <th>Matthews Corr. Coef.</th>\n",
       "      <td>0.844418</td>\n",
       "    </tr>\n",
       "  </tbody>\n",
       "</table>\n",
       "</div>"
      ],
      "text/plain": [
       "                         Score\n",
       "Accuracy              0.865611\n",
       "Sensitivity           0.702961\n",
       "Specificity           0.817809\n",
       "AUROC                 0.738318\n",
       "Matthews Corr. Coef.  0.844418"
      ]
     },
     "execution_count": 45,
     "metadata": {},
     "output_type": "execute_result"
    }
   ],
   "source": [
    "# Training metrics\n",
    "\n",
    "metrics.binary_classification_summary(y_train, tvec_rf_train_preds)"
   ]
  },
  {
   "cell_type": "code",
   "execution_count": 46,
   "metadata": {},
   "outputs": [
    {
     "data": {
      "text/html": [
       "<div>\n",
       "<style scoped>\n",
       "    .dataframe tbody tr th:only-of-type {\n",
       "        vertical-align: middle;\n",
       "    }\n",
       "\n",
       "    .dataframe tbody tr th {\n",
       "        vertical-align: top;\n",
       "    }\n",
       "\n",
       "    .dataframe thead th {\n",
       "        text-align: right;\n",
       "    }\n",
       "</style>\n",
       "<table border=\"1\" class=\"dataframe\">\n",
       "  <thead>\n",
       "    <tr style=\"text-align: right;\">\n",
       "      <th></th>\n",
       "      <th>Score</th>\n",
       "    </tr>\n",
       "  </thead>\n",
       "  <tbody>\n",
       "    <tr>\n",
       "      <th>Accuracy</th>\n",
       "      <td>0.641900</td>\n",
       "    </tr>\n",
       "    <tr>\n",
       "      <th>Sensitivity</th>\n",
       "      <td>0.338109</td>\n",
       "    </tr>\n",
       "    <tr>\n",
       "      <th>Specificity</th>\n",
       "      <td>0.639062</td>\n",
       "    </tr>\n",
       "    <tr>\n",
       "      <th>AUROC</th>\n",
       "      <td>0.244024</td>\n",
       "    </tr>\n",
       "    <tr>\n",
       "      <th>Matthews Corr. Coef.</th>\n",
       "      <td>0.602317</td>\n",
       "    </tr>\n",
       "  </tbody>\n",
       "</table>\n",
       "</div>"
      ],
      "text/plain": [
       "                         Score\n",
       "Accuracy              0.641900\n",
       "Sensitivity           0.338109\n",
       "Specificity           0.639062\n",
       "AUROC                 0.244024\n",
       "Matthews Corr. Coef.  0.602317"
      ]
     },
     "execution_count": 46,
     "metadata": {},
     "output_type": "execute_result"
    }
   ],
   "source": [
    "# Test metrics\n",
    "\n",
    "metrics.binary_classification_summary(y_test, tvec_rf_preds)"
   ]
  },
  {
   "cell_type": "markdown",
   "metadata": {},
   "source": [
    "Again, this model is very overfit and performed poorly.  Again, we were surprised by how high the specificity is given the performance of the model otherwise."
   ]
  },
  {
   "cell_type": "code",
   "execution_count": 47,
   "metadata": {},
   "outputs": [
    {
     "data": {
      "text/html": [
       "<div>\n",
       "<style scoped>\n",
       "    .dataframe tbody tr th:only-of-type {\n",
       "        vertical-align: middle;\n",
       "    }\n",
       "\n",
       "    .dataframe tbody tr th {\n",
       "        vertical-align: top;\n",
       "    }\n",
       "\n",
       "    .dataframe thead th {\n",
       "        text-align: right;\n",
       "    }\n",
       "</style>\n",
       "<table border=\"1\" class=\"dataframe\">\n",
       "  <thead>\n",
       "    <tr style=\"text-align: right;\">\n",
       "      <th></th>\n",
       "      <th>Predicted r/AskCulinary</th>\n",
       "      <th>Predicted r/Cooking</th>\n",
       "    </tr>\n",
       "  </thead>\n",
       "  <tbody>\n",
       "    <tr>\n",
       "      <th>Actual r/AskCulinary</th>\n",
       "      <td>409</td>\n",
       "      <td>63</td>\n",
       "    </tr>\n",
       "    <tr>\n",
       "      <th>Actual r/Cooking</th>\n",
       "      <td>231</td>\n",
       "      <td>118</td>\n",
       "    </tr>\n",
       "  </tbody>\n",
       "</table>\n",
       "</div>"
      ],
      "text/plain": [
       "                      Predicted r/AskCulinary  Predicted r/Cooking\n",
       "Actual r/AskCulinary                      409                   63\n",
       "Actual r/Cooking                          231                  118"
      ]
     },
     "execution_count": 47,
     "metadata": {},
     "output_type": "execute_result"
    }
   ],
   "source": [
    "# Generating a confusion matrix on the test results\n",
    "\n",
    "metrics.confusion_matrix_dataframe(y_test, \n",
    "                                   tvec_rf_preds,\n",
    "                                   columns = [\"Predicted r/AskCulinary\", \"Predicted r/Cooking\"],\n",
    "                                   index   = [\"Actual r/AskCulinary\", \"Actual r/Cooking\"])"
   ]
  },
  {
   "cell_type": "markdown",
   "metadata": {},
   "source": [
    "Interestingly this model had the same number of false positives and true negatives as the previous model, but a slight drop in true negatives and an increase in the false negatives."
   ]
  },
  {
   "cell_type": "markdown",
   "metadata": {},
   "source": [
    "[Top](#Table-Of-Contents)"
   ]
  },
  {
   "cell_type": "markdown",
   "metadata": {},
   "source": [
    "### XGBoost Classifier"
   ]
  },
  {
   "cell_type": "markdown",
   "metadata": {},
   "source": [
    "XGBoost is a tree-based boosting model that iteratively fits tree models on the errors of the previous model and uses gradient descent to help minimize the loss function.  Furthermore, the XGBoost is much more computationally efficient and can be parallelized unlike other boosting models."
   ]
  },
  {
   "cell_type": "markdown",
   "metadata": {},
   "source": [
    "#### Count Vectorizer"
   ]
  },
  {
   "cell_type": "code",
   "execution_count": 48,
   "metadata": {},
   "outputs": [],
   "source": [
    "# Creating the pipeline\n",
    "# The model's best parameters are shown\n",
    "\n",
    "cvec_xgbc_pipe = Pipeline([(\"cvec\", CountVectorizer()), \n",
    "                           (\"xgbc\", XGBClassifier(n_jobs                = 6,\n",
    "                                                  seed                  = 42,\n",
    "                                                  early_stopping_rounds = 10))])\n",
    "\n",
    "# Setting CVEC and pipeline hyperparameters\n",
    "\n",
    "cvec_pipe_params = {\"cvec__max_features\"   : [200], \n",
    "                    \"cvec__ngram_range\"    : [(1,3)], \n",
    "                    \"cvec__stop_words\"     : [None],\n",
    "                    \"xgbc__max_depth\"      : [3],\n",
    "                    \"xgbc__learning_rate\"  : [0.04],\n",
    "                    \"xgbc__n_estimators\"   : [175],\n",
    "                    \"xgbc__gamma\"          : [3.0]}\n",
    "\n",
    "# Instantiating the grid search\n",
    "\n",
    "cvec_xgbc_gs = GridSearchCV(cvec_xgbc_pipe, \n",
    "                            param_grid = cvec_pipe_params, \n",
    "                            cv         = 5,\n",
    "                            n_jobs     = 6)\n",
    "\n",
    "# Fitting the model to the testing data\n",
    "\n",
    "cvec_xgbc_gs.fit(X_train, y_train);"
   ]
  },
  {
   "cell_type": "code",
   "execution_count": 49,
   "metadata": {},
   "outputs": [],
   "source": [
    "# Generating training predictions\n",
    "\n",
    "cvec_xgbc_train_preds = cvec_xgbc_gs.predict(X_train)\n",
    "\n",
    "# Generating test predictions\n",
    "\n",
    "cvec_xgbc_preds       = cvec_xgbc_gs.predict(X_test) "
   ]
  },
  {
   "cell_type": "code",
   "execution_count": 50,
   "metadata": {
    "scrolled": true
   },
   "outputs": [
    {
     "data": {
      "text/html": [
       "<div>\n",
       "<style scoped>\n",
       "    .dataframe tbody tr th:only-of-type {\n",
       "        vertical-align: middle;\n",
       "    }\n",
       "\n",
       "    .dataframe tbody tr th {\n",
       "        vertical-align: top;\n",
       "    }\n",
       "\n",
       "    .dataframe thead th {\n",
       "        text-align: right;\n",
       "    }\n",
       "</style>\n",
       "<table border=\"1\" class=\"dataframe\">\n",
       "  <thead>\n",
       "    <tr style=\"text-align: right;\">\n",
       "      <th></th>\n",
       "      <th>Score</th>\n",
       "    </tr>\n",
       "  </thead>\n",
       "  <tbody>\n",
       "    <tr>\n",
       "      <th>Accuracy</th>\n",
       "      <td>0.759237</td>\n",
       "    </tr>\n",
       "    <tr>\n",
       "      <th>Sensitivity</th>\n",
       "      <td>0.552053</td>\n",
       "    </tr>\n",
       "    <tr>\n",
       "      <th>Specificity</th>\n",
       "      <td>0.733674</td>\n",
       "    </tr>\n",
       "    <tr>\n",
       "      <th>AUROC</th>\n",
       "      <td>0.508659</td>\n",
       "    </tr>\n",
       "    <tr>\n",
       "      <th>Matthews Corr. Coef.</th>\n",
       "      <td>0.732241</td>\n",
       "    </tr>\n",
       "  </tbody>\n",
       "</table>\n",
       "</div>"
      ],
      "text/plain": [
       "                         Score\n",
       "Accuracy              0.759237\n",
       "Sensitivity           0.552053\n",
       "Specificity           0.733674\n",
       "AUROC                 0.508659\n",
       "Matthews Corr. Coef.  0.732241"
      ]
     },
     "execution_count": 50,
     "metadata": {},
     "output_type": "execute_result"
    }
   ],
   "source": [
    "# Training metrics\n",
    "\n",
    "metrics.binary_classification_summary(y_train, cvec_xgbc_train_preds)"
   ]
  },
  {
   "cell_type": "code",
   "execution_count": 51,
   "metadata": {},
   "outputs": [
    {
     "data": {
      "text/html": [
       "<div>\n",
       "<style scoped>\n",
       "    .dataframe tbody tr th:only-of-type {\n",
       "        vertical-align: middle;\n",
       "    }\n",
       "\n",
       "    .dataframe tbody tr th {\n",
       "        vertical-align: top;\n",
       "    }\n",
       "\n",
       "    .dataframe thead th {\n",
       "        text-align: right;\n",
       "    }\n",
       "</style>\n",
       "<table border=\"1\" class=\"dataframe\">\n",
       "  <thead>\n",
       "    <tr style=\"text-align: right;\">\n",
       "      <th></th>\n",
       "      <th>Score</th>\n",
       "    </tr>\n",
       "  </thead>\n",
       "  <tbody>\n",
       "    <tr>\n",
       "      <th>Accuracy</th>\n",
       "      <td>0.650426</td>\n",
       "    </tr>\n",
       "    <tr>\n",
       "      <th>Sensitivity</th>\n",
       "      <td>0.449857</td>\n",
       "    </tr>\n",
       "    <tr>\n",
       "      <th>Specificity</th>\n",
       "      <td>0.662566</td>\n",
       "    </tr>\n",
       "    <tr>\n",
       "      <th>AUROC</th>\n",
       "      <td>0.266442</td>\n",
       "    </tr>\n",
       "    <tr>\n",
       "      <th>Matthews Corr. Coef.</th>\n",
       "      <td>0.624293</td>\n",
       "    </tr>\n",
       "  </tbody>\n",
       "</table>\n",
       "</div>"
      ],
      "text/plain": [
       "                         Score\n",
       "Accuracy              0.650426\n",
       "Sensitivity           0.449857\n",
       "Specificity           0.662566\n",
       "AUROC                 0.266442\n",
       "Matthews Corr. Coef.  0.624293"
      ]
     },
     "execution_count": 51,
     "metadata": {},
     "output_type": "execute_result"
    }
   ],
   "source": [
    "# Test metrics\n",
    "\n",
    "metrics.binary_classification_summary(y_test, cvec_xgbc_preds)"
   ]
  },
  {
   "cell_type": "markdown",
   "metadata": {},
   "source": [
    "We had expected the XGBoost classifier to be the best model because it is a boosting model: it fits models on the errors from each model it fits.  This model is bad not only because of how low the scores are, but because of how overfit the model is."
   ]
  },
  {
   "cell_type": "code",
   "execution_count": 52,
   "metadata": {},
   "outputs": [
    {
     "data": {
      "text/html": [
       "<div>\n",
       "<style scoped>\n",
       "    .dataframe tbody tr th:only-of-type {\n",
       "        vertical-align: middle;\n",
       "    }\n",
       "\n",
       "    .dataframe tbody tr th {\n",
       "        vertical-align: top;\n",
       "    }\n",
       "\n",
       "    .dataframe thead th {\n",
       "        text-align: right;\n",
       "    }\n",
       "</style>\n",
       "<table border=\"1\" class=\"dataframe\">\n",
       "  <thead>\n",
       "    <tr style=\"text-align: right;\">\n",
       "      <th></th>\n",
       "      <th>Predicted r/AskCulinary</th>\n",
       "      <th>Predicted r/Cooking</th>\n",
       "    </tr>\n",
       "  </thead>\n",
       "  <tbody>\n",
       "    <tr>\n",
       "      <th>Actual r/AskCulinary</th>\n",
       "      <td>377</td>\n",
       "      <td>95</td>\n",
       "    </tr>\n",
       "    <tr>\n",
       "      <th>Actual r/Cooking</th>\n",
       "      <td>192</td>\n",
       "      <td>157</td>\n",
       "    </tr>\n",
       "  </tbody>\n",
       "</table>\n",
       "</div>"
      ],
      "text/plain": [
       "                      Predicted r/AskCulinary  Predicted r/Cooking\n",
       "Actual r/AskCulinary                      377                   95\n",
       "Actual r/Cooking                          192                  157"
      ]
     },
     "execution_count": 52,
     "metadata": {},
     "output_type": "execute_result"
    }
   ],
   "source": [
    "# Generating a confusion matrix on the test results\n",
    "\n",
    "metrics.confusion_matrix_dataframe(y_test, \n",
    "                                   cvec_xgbc_preds,\n",
    "                                   columns = [\"Predicted r/AskCulinary\", \"Predicted r/Cooking\"],\n",
    "                                   index   = [\"Actual r/AskCulinary\", \"Actual r/Cooking\"])"
   ]
  },
  {
   "cell_type": "markdown",
   "metadata": {},
   "source": [
    "The matrices have been variable over previous models and this one is no different: true positives, true true negatives, and false negatives decreased while the false negatives increased."
   ]
  },
  {
   "cell_type": "markdown",
   "metadata": {},
   "source": [
    "[Top](#Table-Of-Contents)"
   ]
  },
  {
   "cell_type": "markdown",
   "metadata": {},
   "source": [
    "#### TFIDF Vectorizer"
   ]
  },
  {
   "cell_type": "code",
   "execution_count": 53,
   "metadata": {
    "scrolled": false
   },
   "outputs": [],
   "source": [
    "# Creating the pipeline\n",
    "# The model's best parameters are shown\n",
    "\n",
    "tvec_xgbc_pipe = Pipeline([(\"tvec\", TfidfVectorizer()), \n",
    "                           (\"xgbc\", XGBClassifier(n_jobs                = 6,\n",
    "                                                  seed                  = 42,\n",
    "                                                  early_stopping_rounds = 10))])\n",
    "\n",
    "# Setting the TFIDF and pipeline hyperparameters\n",
    "\n",
    "tvec_pipe_params = {\"tvec__max_features\"   : [525], \n",
    "                    \"tvec__ngram_range\"    : [(1,3)], \n",
    "                    \"tvec__stop_words\"     : [stopwords],\n",
    "                    \"xgbc__max_depth\"      : [3],\n",
    "                    \"xgbc__learning_rate\"  : [0.25],\n",
    "                    \"xgbc__n_estimators\"   : [139],\n",
    "                    \"xgbc__gamma\"          : [1.0]}\n",
    "\n",
    "# Instantiating the grid search\n",
    "\n",
    "tvec_xgbc_gs = GridSearchCV(tvec_xgbc_pipe, \n",
    "                            param_grid = tvec_pipe_params, \n",
    "                            cv         = 5,\n",
    "                            n_jobs     = 6)\n",
    "\n",
    "# Fitting the model to the testing data\n",
    "\n",
    "tvec_xgbc_gs.fit(X_train, y_train);"
   ]
  },
  {
   "cell_type": "code",
   "execution_count": 54,
   "metadata": {},
   "outputs": [],
   "source": [
    "# Generating training predictions\n",
    "\n",
    "tvec_xgbc_train_preds = tvec_xgbc_gs.predict(X_train)\n",
    "\n",
    "# Generating test predictions\n",
    "\n",
    "tvec_xgbc_preds       = tvec_xgbc_gs.predict(X_test) "
   ]
  },
  {
   "cell_type": "code",
   "execution_count": 55,
   "metadata": {},
   "outputs": [
    {
     "data": {
      "text/html": [
       "<div>\n",
       "<style scoped>\n",
       "    .dataframe tbody tr th:only-of-type {\n",
       "        vertical-align: middle;\n",
       "    }\n",
       "\n",
       "    .dataframe tbody tr th {\n",
       "        vertical-align: top;\n",
       "    }\n",
       "\n",
       "    .dataframe thead th {\n",
       "        text-align: right;\n",
       "    }\n",
       "</style>\n",
       "<table border=\"1\" class=\"dataframe\">\n",
       "  <thead>\n",
       "    <tr style=\"text-align: right;\">\n",
       "      <th></th>\n",
       "      <th>Score</th>\n",
       "    </tr>\n",
       "  </thead>\n",
       "  <tbody>\n",
       "    <tr>\n",
       "      <th>Accuracy</th>\n",
       "      <td>0.904588</td>\n",
       "    </tr>\n",
       "    <tr>\n",
       "      <th>Sensitivity</th>\n",
       "      <td>0.825215</td>\n",
       "    </tr>\n",
       "    <tr>\n",
       "      <th>Specificity</th>\n",
       "      <td>0.881707</td>\n",
       "    </tr>\n",
       "    <tr>\n",
       "      <th>AUROC</th>\n",
       "      <td>0.806509</td>\n",
       "    </tr>\n",
       "    <tr>\n",
       "      <th>Matthews Corr. Coef.</th>\n",
       "      <td>0.894246</td>\n",
       "    </tr>\n",
       "  </tbody>\n",
       "</table>\n",
       "</div>"
      ],
      "text/plain": [
       "                         Score\n",
       "Accuracy              0.904588\n",
       "Sensitivity           0.825215\n",
       "Specificity           0.881707\n",
       "AUROC                 0.806509\n",
       "Matthews Corr. Coef.  0.894246"
      ]
     },
     "execution_count": 55,
     "metadata": {},
     "output_type": "execute_result"
    }
   ],
   "source": [
    "# Training metrics\n",
    "\n",
    "metrics.binary_classification_summary(y_train, tvec_xgbc_train_preds)"
   ]
  },
  {
   "cell_type": "code",
   "execution_count": 56,
   "metadata": {},
   "outputs": [
    {
     "data": {
      "text/html": [
       "<div>\n",
       "<style scoped>\n",
       "    .dataframe tbody tr th:only-of-type {\n",
       "        vertical-align: middle;\n",
       "    }\n",
       "\n",
       "    .dataframe tbody tr th {\n",
       "        vertical-align: top;\n",
       "    }\n",
       "\n",
       "    .dataframe thead th {\n",
       "        text-align: right;\n",
       "    }\n",
       "</style>\n",
       "<table border=\"1\" class=\"dataframe\">\n",
       "  <thead>\n",
       "    <tr style=\"text-align: right;\">\n",
       "      <th></th>\n",
       "      <th>Score</th>\n",
       "    </tr>\n",
       "  </thead>\n",
       "  <tbody>\n",
       "    <tr>\n",
       "      <th>Accuracy</th>\n",
       "      <td>0.665043</td>\n",
       "    </tr>\n",
       "    <tr>\n",
       "      <th>Sensitivity</th>\n",
       "      <td>0.444126</td>\n",
       "    </tr>\n",
       "    <tr>\n",
       "      <th>Specificity</th>\n",
       "      <td>0.668376</td>\n",
       "    </tr>\n",
       "    <tr>\n",
       "      <th>AUROC</th>\n",
       "      <td>0.297674</td>\n",
       "    </tr>\n",
       "    <tr>\n",
       "      <th>Matthews Corr. Coef.</th>\n",
       "      <td>0.636258</td>\n",
       "    </tr>\n",
       "  </tbody>\n",
       "</table>\n",
       "</div>"
      ],
      "text/plain": [
       "                         Score\n",
       "Accuracy              0.665043\n",
       "Sensitivity           0.444126\n",
       "Specificity           0.668376\n",
       "AUROC                 0.297674\n",
       "Matthews Corr. Coef.  0.636258"
      ]
     },
     "execution_count": 56,
     "metadata": {},
     "output_type": "execute_result"
    }
   ],
   "source": [
    "# Test metrics\n",
    "\n",
    "metrics.binary_classification_summary(y_test, tvec_xgbc_preds)"
   ]
  },
  {
   "cell_type": "markdown",
   "metadata": {},
   "source": [
    "Again we were surprised by how poorly the XGBoost model did for the same reasons: it is extremely overfit and its metric scores are poor."
   ]
  },
  {
   "cell_type": "code",
   "execution_count": 57,
   "metadata": {},
   "outputs": [
    {
     "data": {
      "text/html": [
       "<div>\n",
       "<style scoped>\n",
       "    .dataframe tbody tr th:only-of-type {\n",
       "        vertical-align: middle;\n",
       "    }\n",
       "\n",
       "    .dataframe tbody tr th {\n",
       "        vertical-align: top;\n",
       "    }\n",
       "\n",
       "    .dataframe thead th {\n",
       "        text-align: right;\n",
       "    }\n",
       "</style>\n",
       "<table border=\"1\" class=\"dataframe\">\n",
       "  <thead>\n",
       "    <tr style=\"text-align: right;\">\n",
       "      <th></th>\n",
       "      <th>Predicted r/AskCulinary</th>\n",
       "      <th>Predicted r/Cooking</th>\n",
       "    </tr>\n",
       "  </thead>\n",
       "  <tbody>\n",
       "    <tr>\n",
       "      <th>Actual r/AskCulinary</th>\n",
       "      <td>391</td>\n",
       "      <td>81</td>\n",
       "    </tr>\n",
       "    <tr>\n",
       "      <th>Actual r/Cooking</th>\n",
       "      <td>194</td>\n",
       "      <td>155</td>\n",
       "    </tr>\n",
       "  </tbody>\n",
       "</table>\n",
       "</div>"
      ],
      "text/plain": [
       "                      Predicted r/AskCulinary  Predicted r/Cooking\n",
       "Actual r/AskCulinary                      391                   81\n",
       "Actual r/Cooking                          194                  155"
      ]
     },
     "execution_count": 57,
     "metadata": {},
     "output_type": "execute_result"
    }
   ],
   "source": [
    "# Generating a confusion matrix on the test results\n",
    "\n",
    "metrics.confusion_matrix_dataframe(y_test, \n",
    "                                   tvec_xgbc_preds,\n",
    "                                   columns = [\"Predicted r/AskCulinary\", \"Predicted r/Cooking\"],\n",
    "                                   index   = [\"Actual r/AskCulinary\", \"Actual r/Cooking\"])"
   ]
  },
  {
   "cell_type": "markdown",
   "metadata": {},
   "source": [
    "This matrix is dramatically worse than the previous: the true positives increased, the true negatives and false positives decreased, and the false negatives increased."
   ]
  },
  {
   "cell_type": "markdown",
   "metadata": {},
   "source": [
    "[Top](#Table-Of-Contents)"
   ]
  },
  {
   "cell_type": "markdown",
   "metadata": {},
   "source": [
    "## Evaluation"
   ]
  },
  {
   "cell_type": "markdown",
   "metadata": {},
   "source": [
    "### Evaluation Functions"
   ]
  },
  {
   "cell_type": "code",
   "execution_count": 58,
   "metadata": {},
   "outputs": [],
   "source": [
    "# This function allows for dataframes to be displayed side-by-side\n",
    "\n",
    "def display_side_by_side(*args):\n",
    "    html_str = ''\n",
    "    for df in args:\n",
    "        html_str += df.to_html()\n",
    "    display_html(html_str.replace('table', 'table style=\"display:inline\"'), raw = True)"
   ]
  },
  {
   "cell_type": "markdown",
   "metadata": {},
   "source": [
    "The code is from user `ntg` on StackOverflow.  [Here](https://stackoverflow.com/a/44923103) is the source."
   ]
  },
  {
   "cell_type": "markdown",
   "metadata": {},
   "source": [
    "### Dataframes"
   ]
  },
  {
   "cell_type": "code",
   "execution_count": 59,
   "metadata": {},
   "outputs": [],
   "source": [
    "# Count vectorizer metrics\n",
    "\n",
    "cvec_accuracy          = [accuracy_score(y_test, cvec_lr_preds), \n",
    "                          accuracy_score(y_test, cvec_svc_preds),\n",
    "                          accuracy_score(y_test, cvec_rf_preds), \n",
    "                          accuracy_score(y_test, cvec_xgbc_preds)]\n",
    "\n",
    "cvec_specificity       = [metrics.specificity(y_test, cvec_lr_preds), \n",
    "                          metrics.specificity(y_test, cvec_svc_preds),\n",
    "                          metrics.specificity(y_test, cvec_rf_preds), \n",
    "                          metrics.specificity(y_test, cvec_xgbc_preds)]\n",
    "\n",
    "cvec_sensitivity       = [recall_score(y_test, cvec_lr_preds), \n",
    "                          recall_score(y_test, cvec_svc_preds),\n",
    "                          recall_score(y_test, cvec_rf_preds), \n",
    "                          recall_score(y_test, cvec_xgbc_preds)]\n",
    "\n",
    "cvec_rocauc_score      = [roc_auc_score(y_test, cvec_lr_preds),\n",
    "                          roc_auc_score(y_test, cvec_svc_preds),\n",
    "                          roc_auc_score(y_test, cvec_rf_preds),\n",
    "                          roc_auc_score(y_test, cvec_xgbc_preds)]\n",
    "\n",
    "cvec_matthews_corrcoef = [matthews_corrcoef(y_test, cvec_lr_preds),\n",
    "                         matthews_corrcoef(y_test, cvec_svc_preds),\n",
    "                         matthews_corrcoef(y_test, cvec_rf_preds),\n",
    "                         matthews_corrcoef(y_test, cvec_xgbc_preds)]"
   ]
  },
  {
   "cell_type": "code",
   "execution_count": 60,
   "metadata": {},
   "outputs": [],
   "source": [
    "# TFIDF vectorizer metrics\n",
    "\n",
    "tvec_accuracy          = [accuracy_score(y_test, tvec_lr_preds), \n",
    "                          accuracy_score(y_test, tvec_svc_preds),\n",
    "                          accuracy_score(y_test, tvec_rf_preds), \n",
    "                          accuracy_score(y_test, tvec_xgbc_preds)]\n",
    "\n",
    "tvec_specificity       = [metrics.specificity(y_test, tvec_lr_preds), \n",
    "                          metrics.specificity(y_test, tvec_svc_preds),\n",
    "                          metrics.specificity(y_test, tvec_rf_preds), \n",
    "                          metrics.specificity(y_test, tvec_xgbc_preds)]\n",
    "\n",
    "tvec_sensitivity       = [recall_score(y_test, tvec_lr_preds), \n",
    "                          recall_score(y_test, tvec_svc_preds),\n",
    "                          recall_score(y_test, tvec_rf_preds), \n",
    "                          recall_score(y_test, tvec_xgbc_preds)]\n",
    "\n",
    "tvec_rocauc_score      = [roc_auc_score(y_test, tvec_lr_preds),\n",
    "                          roc_auc_score(y_test, tvec_svc_preds),\n",
    "                          roc_auc_score(y_test, tvec_rf_preds),\n",
    "                          roc_auc_score(y_test, tvec_xgbc_preds)]\n",
    "\n",
    "tvec_matthews_corrcoef = [matthews_corrcoef(y_test, tvec_lr_preds),\n",
    "                         matthews_corrcoef(y_test, tvec_svc_preds),\n",
    "                         matthews_corrcoef(y_test, tvec_rf_preds),\n",
    "                         matthews_corrcoef(y_test, tvec_xgbc_preds)]"
   ]
  },
  {
   "cell_type": "code",
   "execution_count": 61,
   "metadata": {},
   "outputs": [],
   "source": [
    "# Converting the lists into dataframes\n",
    "\n",
    "# A dataframe for the CVEC scores\n",
    "\n",
    "cvec_scores = pd.DataFrame(data    = [cvec_accuracy, cvec_specificity, \n",
    "                                      cvec_sensitivity, cvec_rocauc_score, \n",
    "                                      cvec_matthews_corrcoef],\n",
    "                           columns = [\"Log. Reg.\", \"SVC\", \"Random Forest\", \"XGBoost\"],\n",
    "                           index   = [\"Accuracy\", \"Specificity\", \n",
    "                                      \"Sensitivity\", \"AUROC Score\", \n",
    "                                      \"Matthews Corr. Coef.\"])\n",
    "\n",
    "# A dataframe for the TVEC scores\n",
    "\n",
    "tvec_scores = pd.DataFrame(data    = [tvec_accuracy, tvec_specificity, \n",
    "                                      tvec_sensitivity, tvec_rocauc_score,\n",
    "                                      tvec_matthews_corrcoef],\n",
    "                           columns = [\"Log. Reg.\", \"SVC\", \"Random Forest\", \"XGBoost\"],\n",
    "                           index   = [\"Accuracy\", \"Specificity\", \n",
    "                                      \"Sensitivity\", \"ROC-AUC Score\",\n",
    "                                      \"Matthews Corr. Coef.\"])"
   ]
  },
  {
   "cell_type": "code",
   "execution_count": 62,
   "metadata": {},
   "outputs": [
    {
     "data": {
      "text/html": [
       "<table style=\"display:inline\" border=\"1\" class=\"dataframe\">\n",
       "  <thead>\n",
       "    <tr style=\"text-align: right;\">\n",
       "      <th></th>\n",
       "      <th>Log. Reg.</th>\n",
       "      <th>SVC</th>\n",
       "      <th>Random Forest</th>\n",
       "      <th>XGBoost</th>\n",
       "    </tr>\n",
       "  </thead>\n",
       "  <tbody>\n",
       "    <tr>\n",
       "      <th>Accuracy</th>\n",
       "      <td>0.677223</td>\n",
       "      <td>0.680877</td>\n",
       "      <td>0.660171</td>\n",
       "      <td>0.650426</td>\n",
       "    </tr>\n",
       "    <tr>\n",
       "      <th>Specificity</th>\n",
       "      <td>0.699422</td>\n",
       "      <td>0.684211</td>\n",
       "      <td>0.649612</td>\n",
       "      <td>0.662566</td>\n",
       "    </tr>\n",
       "    <tr>\n",
       "      <th>Sensitivity</th>\n",
       "      <td>0.553009</td>\n",
       "      <td>0.484241</td>\n",
       "      <td>0.352436</td>\n",
       "      <td>0.449857</td>\n",
       "    </tr>\n",
       "    <tr>\n",
       "      <th>AUROC Score</th>\n",
       "      <td>0.661038</td>\n",
       "      <td>0.655256</td>\n",
       "      <td>0.620074</td>\n",
       "      <td>0.624293</td>\n",
       "    </tr>\n",
       "    <tr>\n",
       "      <th>Matthews Corr. Coef.</th>\n",
       "      <td>0.330184</td>\n",
       "      <td>0.333187</td>\n",
       "      <td>0.289285</td>\n",
       "      <td>0.266442</td>\n",
       "    </tr>\n",
       "  </tbody>\n",
       "</table style=\"display:inline\"><table style=\"display:inline\" border=\"1\" class=\"dataframe\">\n",
       "  <thead>\n",
       "    <tr style=\"text-align: right;\">\n",
       "      <th></th>\n",
       "      <th>Log. Reg.</th>\n",
       "      <th>SVC</th>\n",
       "      <th>Random Forest</th>\n",
       "      <th>XGBoost</th>\n",
       "    </tr>\n",
       "  </thead>\n",
       "  <tbody>\n",
       "    <tr>\n",
       "      <th>Accuracy</th>\n",
       "      <td>0.700365</td>\n",
       "      <td>0.609013</td>\n",
       "      <td>0.641900</td>\n",
       "      <td>0.665043</td>\n",
       "    </tr>\n",
       "    <tr>\n",
       "      <th>Specificity</th>\n",
       "      <td>0.698944</td>\n",
       "      <td>0.609898</td>\n",
       "      <td>0.639062</td>\n",
       "      <td>0.668376</td>\n",
       "    </tr>\n",
       "    <tr>\n",
       "      <th>Sensitivity</th>\n",
       "      <td>0.510029</td>\n",
       "      <td>0.232092</td>\n",
       "      <td>0.338109</td>\n",
       "      <td>0.444126</td>\n",
       "    </tr>\n",
       "    <tr>\n",
       "      <th>ROC-AUC Score</th>\n",
       "      <td>0.675565</td>\n",
       "      <td>0.559902</td>\n",
       "      <td>0.602317</td>\n",
       "      <td>0.636258</td>\n",
       "    </tr>\n",
       "    <tr>\n",
       "      <th>Matthews Corr. Coef.</th>\n",
       "      <td>0.375939</td>\n",
       "      <td>0.160259</td>\n",
       "      <td>0.244024</td>\n",
       "      <td>0.297674</td>\n",
       "    </tr>\n",
       "  </tbody>\n",
       "</table style=\"display:inline\">"
      ]
     },
     "metadata": {},
     "output_type": "display_data"
    }
   ],
   "source": [
    "# Displaying the two dataframes side by side\n",
    "\n",
    "display_side_by_side(cvec_scores,\n",
    "                     tvec_scores)\n",
    "\n",
    "# The first table is the CVEC scores\n",
    "# The second table is the TVEC scores"
   ]
  },
  {
   "cell_type": "markdown",
   "metadata": {},
   "source": [
    "[Top](#Table-Of-Contents)"
   ]
  },
  {
   "cell_type": "markdown",
   "metadata": {},
   "source": [
    "### Best Model Selection"
   ]
  },
  {
   "cell_type": "markdown",
   "metadata": {},
   "source": [
    "We knew that our best model would be with the TFIDF vectorizer because the scores are generally better than with the count vectorizer.  However, picking the individual model was the tricky part.  We knew that the logistic regression was generally better but did have one of the lowest sensitivity scores.  However, in the end we decided that the logistic regression is the best model."
   ]
  },
  {
   "cell_type": "markdown",
   "metadata": {},
   "source": [
    "### Plots"
   ]
  },
  {
   "cell_type": "markdown",
   "metadata": {},
   "source": [
    "#### Bar Plots"
   ]
  },
  {
   "cell_type": "code",
   "execution_count": 63,
   "metadata": {},
   "outputs": [
    {
     "data": {
      "image/png": "[encoded data removed]",
      "text/plain": [
       "<Figure size 1296x432 with 1 Axes>"
      ]
     },
     "metadata": {},
     "output_type": "display_data"
    }
   ],
   "source": [
    "graphs.barplot(df     = tvec_scores*100,\n",
    "               x      = tvec_scores.index,\n",
    "               y      = \"Log. Reg.\",\n",
    "               title  = \"Logistic Regression With TVEC\",\n",
    "               label  = \"Metrics\",\n",
    "               ylabel = \"Score\",\n",
    "               dim    = (18,6))"
   ]
  },
  {
   "cell_type": "markdown",
   "metadata": {},
   "source": [
    "Our baseline accuracy is 41.89%: if the accuracy was less than the baseline accuracy it would indicate the model performs worse than randomly guessing 41.89% of the data is from r/Cooking.  However, both the are greater than that percentage so it out-performed the baseline.  That being said, the scores are not good and we cannot say that this model is especially accurate even though the it performed better than the other seven we ran.  Despite that, it is a good sign that the accuracy and balanced accuracy are close to each other.\n",
    "\n",
    "\n",
    "As mentioned above, `specificity` is the how many negative predictions were correct and `Sensitivity` is how many positive predictions are correct.  As we said with the confusion matrices, the models were better at predicting the negative class which is easily seen here.\n",
    "\n",
    "The `ROC-AUC` score is okay, but it leaves a lot to be desired."
   ]
  },
  {
   "cell_type": "markdown",
   "metadata": {},
   "source": [
    "#### ROC Curve"
   ]
  },
  {
   "cell_type": "code",
   "execution_count": 64,
   "metadata": {},
   "outputs": [
    {
     "data": {
      "image/png": "[encoded data removed]",
      "text/plain": [
       "<Figure size 1008x576 with 1 Axes>"
      ]
     },
     "metadata": {},
     "output_type": "display_data"
    }
   ],
   "source": [
    "graphs.roc_curve(model_prob  = tvec_lr_gs,\n",
    "                 X_test      = X_test,\n",
    "                 y_test      = y_test,\n",
    "                 y_predicted = tvec_lr_preds,\n",
    "                 title       = \"ROC Curve For Logistic Regression\",\n",
    "                 dim         = (14,8))"
   ]
  },
  {
   "cell_type": "markdown",
   "metadata": {},
   "source": [
    "The ROC curve is a representation of the relationship between the true positives and the false positives.\n",
    "\n",
    "The low score indicates that the model is not very good at predicting the two classes, which we also saw from the confusion matrices.  Furthermore, the curve is close to the baseline; the baseline represents guessing which subreddit a post came from. Thus we hoped to have our curve be as far from the baseline as possible, ideally at a 90º angle.\n",
    "\n",
    "Because our best ROC-AUC score is 0.66419 it means that there is _significant_ overlap in the distributions of our classes."
   ]
  },
  {
   "cell_type": "markdown",
   "metadata": {},
   "source": [
    "[Top](#Table-Of-Contents)"
   ]
  }
 ],
 "metadata": {
  "kernelspec": {
   "display_name": "Python 3",
   "language": "python",
   "name": "python3"
  },
  "language_info": {
   "codemirror_mode": {
    "name": "ipython",
    "version": 3
   },
   "file_extension": ".py",
   "mimetype": "text/x-python",
   "name": "python",
   "nbconvert_exporter": "python",
   "pygments_lexer": "ipython3",
   "version": "3.6.8"
  }
 },
 "nbformat": 4,
 "nbformat_minor": 2
}
