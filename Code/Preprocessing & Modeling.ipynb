{
 "cells": [
  {
   "cell_type": "markdown",
   "metadata": {},
   "source": [
    "# Part 2: Preprocessing & Modeling"
   ]
  },
  {
   "cell_type": "markdown",
   "metadata": {},
   "source": [
    "## Imports"
   ]
  },
  {
   "cell_type": "code",
   "execution_count": 1,
   "metadata": {},
   "outputs": [
    {
     "data": {
      "text/html": [
       "<style>.container { width:95% !important; }</style>"
      ],
      "text/plain": [
       "<IPython.core.display.HTML object>"
      ]
     },
     "metadata": {},
     "output_type": "display_data"
    }
   ],
   "source": [
    "import nltk\n",
    "import pandas                        as pd\n",
    "import numpy                         as np\n",
    "import seaborn                       as sns\n",
    "import matplotlib.pyplot             as plt\n",
    "from nltk.corpus                     import stopwords\n",
    "from nltk.stem                       import WordNetLemmatizer\n",
    "from nltk.tokenize                   import RegexpTokenizer \n",
    "from sklearn.ensemble                import RandomForestClassifier\n",
    "from sklearn.feature_extraction.text import TfidfVectorizer, CountVectorizer\n",
    "from sklearn.linear_model            import LogisticRegression\n",
    "from sklearn.metrics                 import confusion_matrix, roc_auc_score \n",
    "from sklearn.metrics                 import accuracy_score, f1_score\n",
    "from sklearn.metrics                 import balanced_accuracy_score, recall_score\n",
    "from sklearn.model_selection         import GridSearchCV, train_test_split, cross_val_score\n",
    "from sklearn.pipeline                import Pipeline\n",
    "from sklearn.svm                     import SVC\n",
    "from sklearn.tree                    import DecisionTreeClassifier\n",
    "from xgboost                         import XGBClassifier\n",
    "from IPython.display                 import display_html\n",
    "from IPython.core.display            import display, HTML\n",
    "display(HTML(\"<style>.container { width:95% !important; }</style>\"))\n",
    "sns.set(style = \"white\", palette = \"deep\")\n",
    "%matplotlib inline"
   ]
  },
  {
   "cell_type": "markdown",
   "metadata": {},
   "source": [
    "## Table Of Contents\n",
    "\n",
    "\n",
    "\n",
    "- [Reading In The Data](#Reading-In-The-Data)\n",
    "    - [Overview](#Overview)\n",
    "    - [Visuals](#Visuals)\n",
    "    \n",
    "    \n",
    "- [Lemmatizing](#Lemmatizing)\n",
    "\n",
    "\n",
    "- [Establishing The Baseline](#Establishing-The-Baseline)\n",
    "\n",
    "\n",
    "- [Modeling](#Modeling)\n",
    "    - [Setting The X & y variables](#Setting-The-X-and-y-variables)\n",
    "    - [Running A Train-Test Split](#Running-A-Train-Test-Split)\n",
    "    - [Evaluation Formulas](#Evaluation-Formulas)\n",
    "    - [Logistic Regression](#Logistic-Regression)\n",
    "    - [Random Forest Classifier](#Random-Forest-Classifier)\n",
    "    - [Support Vector Classifier](#Support-Vector-Classifier)\n",
    "    - [XGBoost Classifier](#XGBoost-Classifier)\n",
    "    \n",
    "    \n",
    "- [Evaluation](#Evaluation)\n",
    "    - [Evaluation Functions](#Evaluation-Functions)\n",
    "    - [Dataframes](#Dataframes)\n",
    "    - [Best Model Selection](#Best-Model-Selection)\n",
    "    - [Plots](#Plots)\n",
    "        - [Bar Plot](#Bar-Plot)\n",
    "        - [ROC Curve](#ROC-Curve)"
   ]
  },
  {
   "cell_type": "markdown",
   "metadata": {},
   "source": [
    "## Reading In The Data"
   ]
  },
  {
   "cell_type": "markdown",
   "metadata": {},
   "source": [
    "### Overview"
   ]
  },
  {
   "cell_type": "code",
   "execution_count": 2,
   "metadata": {},
   "outputs": [],
   "source": [
    "model_data = pd.read_csv(\"../Data/model_data.csv\")"
   ]
  },
  {
   "cell_type": "code",
   "execution_count": 3,
   "metadata": {},
   "outputs": [
    {
     "data": {
      "text/html": [
       "<div>\n",
       "<style scoped>\n",
       "    .dataframe tbody tr th:only-of-type {\n",
       "        vertical-align: middle;\n",
       "    }\n",
       "\n",
       "    .dataframe tbody tr th {\n",
       "        vertical-align: top;\n",
       "    }\n",
       "\n",
       "    .dataframe thead th {\n",
       "        text-align: right;\n",
       "    }\n",
       "</style>\n",
       "<table border=\"1\" class=\"dataframe\">\n",
       "  <thead>\n",
       "    <tr style=\"text-align: right;\">\n",
       "      <th></th>\n",
       "      <th>id</th>\n",
       "      <th>author</th>\n",
       "      <th>source</th>\n",
       "      <th>text</th>\n",
       "      <th>target</th>\n",
       "    </tr>\n",
       "  </thead>\n",
       "  <tbody>\n",
       "    <tr>\n",
       "      <th>0</th>\n",
       "      <td>cbl354</td>\n",
       "      <td>bobs_aspergers</td>\n",
       "      <td>cooking</td>\n",
       "      <td>Does anyone else immediately distrust a recipe...</td>\n",
       "      <td>1</td>\n",
       "    </tr>\n",
       "    <tr>\n",
       "      <th>1</th>\n",
       "      <td>cbtuhn</td>\n",
       "      <td>Swigart</td>\n",
       "      <td>cooking</td>\n",
       "      <td>Mortar amp Pestle questions  Is marble dust sa...</td>\n",
       "      <td>1</td>\n",
       "    </tr>\n",
       "    <tr>\n",
       "      <th>2</th>\n",
       "      <td>cbmrz3</td>\n",
       "      <td>chuy1530</td>\n",
       "      <td>cooking</td>\n",
       "      <td>Weekly menusetting has changed my life Ive alw...</td>\n",
       "      <td>1</td>\n",
       "    </tr>\n",
       "    <tr>\n",
       "      <th>3</th>\n",
       "      <td>cb5pvy</td>\n",
       "      <td>Svargas05</td>\n",
       "      <td>cooking</td>\n",
       "      <td>This guy in India has a cooking channel where ...</td>\n",
       "      <td>1</td>\n",
       "    </tr>\n",
       "    <tr>\n",
       "      <th>4</th>\n",
       "      <td>cbjt6n</td>\n",
       "      <td>Tg8402</td>\n",
       "      <td>cooking</td>\n",
       "      <td>How do you sear a steak without filling your k...</td>\n",
       "      <td>1</td>\n",
       "    </tr>\n",
       "  </tbody>\n",
       "</table>\n",
       "</div>"
      ],
      "text/plain": [
       "       id          author   source  \\\n",
       "0  cbl354  bobs_aspergers  cooking   \n",
       "1  cbtuhn         Swigart  cooking   \n",
       "2  cbmrz3        chuy1530  cooking   \n",
       "3  cb5pvy       Svargas05  cooking   \n",
       "4  cbjt6n          Tg8402  cooking   \n",
       "\n",
       "                                                text  target  \n",
       "0  Does anyone else immediately distrust a recipe...       1  \n",
       "1  Mortar amp Pestle questions  Is marble dust sa...       1  \n",
       "2  Weekly menusetting has changed my life Ive alw...       1  \n",
       "3  This guy in India has a cooking channel where ...       1  \n",
       "4  How do you sear a steak without filling your k...       1  "
      ]
     },
     "execution_count": 3,
     "metadata": {},
     "output_type": "execute_result"
    }
   ],
   "source": [
    "# Checking the data's head\n",
    "\n",
    "model_data.head()"
   ]
  },
  {
   "cell_type": "code",
   "execution_count": 4,
   "metadata": {},
   "outputs": [
    {
     "data": {
      "text/plain": [
       "id        0\n",
       "author    0\n",
       "source    0\n",
       "text      0\n",
       "target    0\n",
       "dtype: int64"
      ]
     },
     "execution_count": 4,
     "metadata": {},
     "output_type": "execute_result"
    }
   ],
   "source": [
    "# Checking for null values\n",
    "\n",
    "model_data.isnull().sum()"
   ]
  },
  {
   "cell_type": "code",
   "execution_count": 5,
   "metadata": {},
   "outputs": [
    {
     "name": "stdout",
     "output_type": "stream",
     "text": [
      "<class 'pandas.core.frame.DataFrame'>\n",
      "RangeIndex: 3249 entries, 0 to 3248\n",
      "Data columns (total 5 columns):\n",
      "id        3249 non-null object\n",
      "author    3249 non-null object\n",
      "source    3249 non-null object\n",
      "text      3249 non-null object\n",
      "target    3249 non-null int64\n",
      "dtypes: int64(1), object(4)\n",
      "memory usage: 127.0+ KB\n"
     ]
    }
   ],
   "source": [
    "# Checking data types\n",
    "\n",
    "model_data.info()"
   ]
  },
  {
   "cell_type": "markdown",
   "metadata": {},
   "source": [
    "### Visuals"
   ]
  },
  {
   "cell_type": "markdown",
   "metadata": {},
   "source": [
    "#### Functions"
   ]
  },
  {
   "cell_type": "code",
   "execution_count": 6,
   "metadata": {},
   "outputs": [],
   "source": [
    "def plot_text_length_dist(text_list):\n",
    "    \n",
    "    # Setting the figure size\n",
    "    plt.figure(figsize = (18,6))\n",
    "    \n",
    "    # Plotting the histogram\n",
    "    sns.distplot(text_list, kde = False, color = \"black\",\n",
    "                 bins = 75)\n",
    "    \n",
    "    # Setting graph parameters\n",
    "    plt.title(f\"Distribution Of Text Lengths\", size = 18)\n",
    "    plt.xlabel(\"Length\", size = 16)\n",
    "    plt.ylabel(\"Frequency\", size = 16)\n",
    "    plt.xticks(np.arange(0,23500,1500), size = 14)\n",
    "    plt.yticks(size = 14)\n",
    "    plt.tight_layout()\n",
    "    plt.show();"
   ]
  },
  {
   "cell_type": "code",
   "execution_count": 7,
   "metadata": {},
   "outputs": [],
   "source": [
    "def plot_most_frequent_authors(df, col):\n",
    "    \n",
    "    # Setting the figure size\n",
    "    plt.figure(figsize = (20,6))\n",
    "    \n",
    "    # Creating the bar chart\n",
    "    sns.barplot(x = df.index,\n",
    "                y = col,\n",
    "                data = df)\n",
    "    \n",
    "    # Setting graph parameters\n",
    "    plt.title(\"Most Common Posters\", size = 18)\n",
    "    plt.xlabel(\"Reddit User\", size = 16)\n",
    "    plt.ylabel(\"Number Of Posts\", size = 16)\n",
    "    plt.xticks(size = 13)\n",
    "    plt.yticks(size = 14);"
   ]
  },
  {
   "cell_type": "markdown",
   "metadata": {},
   "source": [
    "[Top](#Table-Of-Contents)"
   ]
  },
  {
   "cell_type": "markdown",
   "metadata": {},
   "source": [
    "#### Text Length"
   ]
  },
  {
   "cell_type": "code",
   "execution_count": 8,
   "metadata": {},
   "outputs": [
    {
     "data": {
      "image/png": "[encoded data removed]",
      "text/plain": [
       "<Figure size 1296x432 with 1 Axes>"
      ]
     },
     "metadata": {
      "needs_background": "light"
     },
     "output_type": "display_data"
    }
   ],
   "source": [
    "# Generating a list of text lengths\n",
    "\n",
    "length_list = [len(text) for text in model_data[\"text\"]]\n",
    "\n",
    "plot_text_length_dist(length_list)"
   ]
  },
  {
   "cell_type": "markdown",
   "metadata": {},
   "source": [
    "Most of the posts are less than 3,000 words which was expected, but there are a few that are extremely long (more than 20,000 words.)"
   ]
  },
  {
   "cell_type": "markdown",
   "metadata": {},
   "source": [
    "####  Most Frequent Authors"
   ]
  },
  {
   "cell_type": "code",
   "execution_count": 9,
   "metadata": {},
   "outputs": [
    {
     "data": {
      "image/png": "[encoded data removed]",
      "text/plain": [
       "<Figure size 1440x432 with 1 Axes>"
      ]
     },
     "metadata": {
      "needs_background": "light"
     },
     "output_type": "display_data"
    }
   ],
   "source": [
    "# Creating a dataframe of the most active unique authors\n",
    "\n",
    "author_count = pd.DataFrame(model_data[\"author\"].value_counts().head(10))\n",
    "\n",
    "# Plotting the dataframe\n",
    "\n",
    "plot_most_frequent_authors(df  = author_count, \n",
    "                           col = \"author\")"
   ]
  },
  {
   "cell_type": "markdown",
   "metadata": {},
   "source": [
    "We did not really know what to expect when we plotted this graph, because it is generally the case that a few users post most frequently and most barely post at all.  We would have like to look at the number of comments by each user in both subreddits as a measure of activity, but that is beyond the scope of this project."
   ]
  },
  {
   "cell_type": "markdown",
   "metadata": {},
   "source": [
    "#### Subreddit Of Origin"
   ]
  },
  {
   "cell_type": "code",
   "execution_count": 10,
   "metadata": {},
   "outputs": [
    {
     "data": {
      "image/png": "[encoded data removed]",
      "text/plain": [
       "<Figure size 720x360 with 1 Axes>"
      ]
     },
     "metadata": {
      "needs_background": "light"
     },
     "output_type": "display_data"
    }
   ],
   "source": [
    "tick_labels = [\"r/Cooking\", \"r/AskCulinary\"]\n",
    "\n",
    "# Setting the figure size\n",
    "plt.figure(figsize = (10,5))\n",
    "\n",
    "# Plotting the graph\n",
    "sns.countplot(model_data[\"source\"])\n",
    "\n",
    "# Setting graph parameters\n",
    "plt.title(\"Post Origin\", size = 18)\n",
    "plt.xlabel(\"Source\", size = 16)\n",
    "plt.ylabel(\"Number Of Posts\", size = 16)\n",
    "\n",
    "# Making sure the only ticks are 0 and 1\n",
    "plt.xticks(np.arange(0,2,1), \n",
    "           labels = tick_labels, \n",
    "           size   = 14)\n",
    "plt.yticks(size = 14);"
   ]
  },
  {
   "cell_type": "markdown",
   "metadata": {},
   "source": [
    "We were a little surprised that there are more r/AskCulinary posts because we initially had roughly equal numbers of pulls from each subreddit."
   ]
  },
  {
   "cell_type": "markdown",
   "metadata": {},
   "source": [
    "[Top](#Table-Of-Contents)"
   ]
  },
  {
   "cell_type": "markdown",
   "metadata": {},
   "source": [
    "#### Visualizing Most Common Words"
   ]
  },
  {
   "cell_type": "markdown",
   "metadata": {},
   "source": [
    "Before we start modeling, we need to know what the most frequent words are in each subreddit are because it might be harder for our model to predict with those words in the dataframe.\n",
    "\n",
    "We will subset the dataframe into posts from r/Cooking and r/AskCulinary and use count vectorizer to determine the most frequent words.  The words that occur most frequently will be appended to the set of stop words we will use in our grid searches."
   ]
  },
  {
   "cell_type": "code",
   "execution_count": 11,
   "metadata": {},
   "outputs": [],
   "source": [
    "def plot_most_frequent_words(dataframes, titles):\n",
    "    \n",
    "    # The count inidcates where in the subplot to go\n",
    "    count = 0\n",
    "    fig   = plt.figure(figsize   = (24,20),\n",
    "                       facecolor = \"white\")\n",
    "    \n",
    "    # Enumerating allows for the list of titles to be referenced\n",
    "    for d, dataframe in enumerate(dataframes):\n",
    "        \n",
    "        # Updating the location\n",
    "        count += 1\n",
    "        ax    = fig.add_subplot(2, 2, count)\n",
    "        \n",
    "        # Creating the graph\n",
    "        sns.barplot(x       = 0,\n",
    "                    y       = dataframe.index,\n",
    "                    data    = dataframe,\n",
    "                    palette = \"deep\")\n",
    "        \n",
    "        # Setting the graph parameters\n",
    "        plt.title(f\"Most Common Words From {titles[d]}\", size = 20)\n",
    "        plt.xlabel(\"Number Of Occurences\", size = 18)\n",
    "        plt.ylabel(\"Word\", size = 18)\n",
    "        plt.xticks(size = 16)\n",
    "        plt.yticks(size = 17)"
   ]
  },
  {
   "cell_type": "markdown",
   "metadata": {},
   "source": [
    "We removed stop words here because they would distort our most common words."
   ]
  },
  {
   "cell_type": "code",
   "execution_count": 12,
   "metadata": {},
   "outputs": [],
   "source": [
    "# Instantiating the count vectorizer\n",
    "\n",
    "vectorizer = CountVectorizer()\n",
    "\n",
    "# Masking the vectorizer with English stop words\n",
    "\n",
    "cvec_cooking     = CountVectorizer(stop_words = \"english\")\n",
    "cvec_askculinary = CountVectorizer(stop_words = \"english\")\n",
    "\n",
    "# Subsetting the dataframe\n",
    "\n",
    "cooking     = model_data[model_data[\"target\"] == 1]\n",
    "askculinary = model_data[model_data[\"target\"] == 0]\n",
    "\n",
    "# Fit-transforming the vectorizer\n",
    "\n",
    "vec_cooking     = cvec_cooking.fit_transform(cooking[\"text\"])\n",
    "vec_askculinary = cvec_askculinary.fit_transform(askculinary[\"text\"])"
   ]
  },
  {
   "cell_type": "code",
   "execution_count": 13,
   "metadata": {},
   "outputs": [
    {
     "data": {
      "image/png": "[encoded data removed]",
      "text/plain": [
       "<Figure size 1728x1440 with 2 Axes>"
      ]
     },
     "metadata": {},
     "output_type": "display_data"
    }
   ],
   "source": [
    "# Saving the vectorized dfs to a new dataframe\n",
    "\n",
    "cooking_vectorized     = pd.DataFrame(vec_cooking.toarray(), \n",
    "                                      columns = cvec_cooking.get_feature_names())\n",
    "askculinary_vectorized = pd.DataFrame(vec_askculinary.toarray(), \n",
    "                                      columns = cvec_askculinary.get_feature_names())\n",
    "\n",
    "# Getting the 15 most frequent words from each\n",
    "\n",
    "vectorized_cooking     = pd.DataFrame(cooking_vectorized.sum().sort_values(ascending = False).head(15))\n",
    "vectorized_askculinary = pd.DataFrame(askculinary_vectorized.sum().sort_values(ascending = False).head(15))\n",
    "\n",
    "# Plotting the most common words\n",
    "\n",
    "plot_most_frequent_words(dataframes = [vectorized_cooking, \n",
    "                                       vectorized_askculinary],\n",
    "                         titles     = [\"r/Cooking\", \n",
    "                                       \"r/AskCulinary\"])"
   ]
  },
  {
   "cell_type": "markdown",
   "metadata": {},
   "source": [
    "We can see that there are a lot of words that occur in both subreddits.  We decided that we should create a list of customized stop words.  Furthermore, we noticed that we must lemmatize or stem the text columns because of there are multiple forms of words in the most frequent words such as 'make' & 'making' or 'recipe' and 'recipes'."
   ]
  },
  {
   "cell_type": "code",
   "execution_count": 14,
   "metadata": {},
   "outputs": [
    {
     "name": "stderr",
     "output_type": "stream",
     "text": [
      "[nltk_data] Downloading package stopwords to\n",
      "[nltk_data]     C:\\Users\\andre\\AppData\\Roaming\\nltk_data...\n",
      "[nltk_data]   Package stopwords is already up-to-date!\n"
     ]
    }
   ],
   "source": [
    "# Downloading the default stopwords\n",
    "\n",
    "nltk.download(\"stopwords\");\n",
    "\n",
    "# Adding our stopwords to the English set\n",
    "\n",
    "new_stopwords = [\"like\", \"just\", \"make\", \"cook\",\n",
    "                 \"use\", \"chicken\", \"recipe\", \"sauce\"]\n",
    "\n",
    "stopwords     = stopwords.words('english')\n",
    "\n",
    "stopwords.extend(new_stopwords)"
   ]
  },
  {
   "cell_type": "markdown",
   "metadata": {},
   "source": [
    "[Top](#Table-Of-Contents)"
   ]
  },
  {
   "cell_type": "markdown",
   "metadata": {},
   "source": [
    "## Lemmatizing"
   ]
  },
  {
   "cell_type": "markdown",
   "metadata": {},
   "source": [
    "We felt that lemmatizing is a better option than stemming because the lemma form (dictionary entry) of a word is more likely to result in an actual English word than trying to find a word's stem: there are so many irregularities in English that it is not always easy to find the stem."
   ]
  },
  {
   "cell_type": "code",
   "execution_count": 15,
   "metadata": {},
   "outputs": [
    {
     "data": {
      "text/html": [
       "<div>\n",
       "<style scoped>\n",
       "    .dataframe tbody tr th:only-of-type {\n",
       "        vertical-align: middle;\n",
       "    }\n",
       "\n",
       "    .dataframe tbody tr th {\n",
       "        vertical-align: top;\n",
       "    }\n",
       "\n",
       "    .dataframe thead th {\n",
       "        text-align: right;\n",
       "    }\n",
       "</style>\n",
       "<table border=\"1\" class=\"dataframe\">\n",
       "  <thead>\n",
       "    <tr style=\"text-align: right;\">\n",
       "      <th></th>\n",
       "      <th>id</th>\n",
       "      <th>author</th>\n",
       "      <th>source</th>\n",
       "      <th>text</th>\n",
       "      <th>target</th>\n",
       "      <th>lemmatized_text</th>\n",
       "    </tr>\n",
       "  </thead>\n",
       "  <tbody>\n",
       "    <tr>\n",
       "      <th>0</th>\n",
       "      <td>cbl354</td>\n",
       "      <td>bobs_aspergers</td>\n",
       "      <td>cooking</td>\n",
       "      <td>Does anyone else immediately distrust a recipe...</td>\n",
       "      <td>1</td>\n",
       "      <td>Does anyone else immediately distrust a recipe...</td>\n",
       "    </tr>\n",
       "    <tr>\n",
       "      <th>1</th>\n",
       "      <td>cbtuhn</td>\n",
       "      <td>Swigart</td>\n",
       "      <td>cooking</td>\n",
       "      <td>Mortar amp Pestle questions  Is marble dust sa...</td>\n",
       "      <td>1</td>\n",
       "      <td>Mortar amp Pestle question Is marble dust safe...</td>\n",
       "    </tr>\n",
       "    <tr>\n",
       "      <th>2</th>\n",
       "      <td>cbmrz3</td>\n",
       "      <td>chuy1530</td>\n",
       "      <td>cooking</td>\n",
       "      <td>Weekly menusetting has changed my life Ive alw...</td>\n",
       "      <td>1</td>\n",
       "      <td>Weekly menusetting ha changed my life Ive alwa...</td>\n",
       "    </tr>\n",
       "    <tr>\n",
       "      <th>3</th>\n",
       "      <td>cb5pvy</td>\n",
       "      <td>Svargas05</td>\n",
       "      <td>cooking</td>\n",
       "      <td>This guy in India has a cooking channel where ...</td>\n",
       "      <td>1</td>\n",
       "      <td>This guy in India ha a cooking channel where h...</td>\n",
       "    </tr>\n",
       "    <tr>\n",
       "      <th>4</th>\n",
       "      <td>cbjt6n</td>\n",
       "      <td>Tg8402</td>\n",
       "      <td>cooking</td>\n",
       "      <td>How do you sear a steak without filling your k...</td>\n",
       "      <td>1</td>\n",
       "      <td>How do you sear a steak without filling your k...</td>\n",
       "    </tr>\n",
       "  </tbody>\n",
       "</table>\n",
       "</div>"
      ],
      "text/plain": [
       "       id          author   source  \\\n",
       "0  cbl354  bobs_aspergers  cooking   \n",
       "1  cbtuhn         Swigart  cooking   \n",
       "2  cbmrz3        chuy1530  cooking   \n",
       "3  cb5pvy       Svargas05  cooking   \n",
       "4  cbjt6n          Tg8402  cooking   \n",
       "\n",
       "                                                text  target  \\\n",
       "0  Does anyone else immediately distrust a recipe...       1   \n",
       "1  Mortar amp Pestle questions  Is marble dust sa...       1   \n",
       "2  Weekly menusetting has changed my life Ive alw...       1   \n",
       "3  This guy in India has a cooking channel where ...       1   \n",
       "4  How do you sear a steak without filling your k...       1   \n",
       "\n",
       "                                     lemmatized_text  \n",
       "0  Does anyone else immediately distrust a recipe...  \n",
       "1  Mortar amp Pestle question Is marble dust safe...  \n",
       "2  Weekly menusetting ha changed my life Ive alwa...  \n",
       "3  This guy in India ha a cooking channel where h...  \n",
       "4  How do you sear a steak without filling your k...  "
      ]
     },
     "execution_count": 15,
     "metadata": {},
     "output_type": "execute_result"
    }
   ],
   "source": [
    "# Instantiating the lemmatizier and tokenizer\n",
    "# The tokenizer will only keep text\n",
    "\n",
    "lemmatizer = WordNetLemmatizer()\n",
    "tokenizer  = RegexpTokenizer(r'\\w+')\n",
    "\n",
    "# Setting up the lemmatizer\n",
    "\n",
    "lemmatized_posts = []\n",
    "\n",
    "for post in model_data[\"text\"]:\n",
    "    tokens = tokenizer.tokenize(post)\n",
    "    post   = [lemmatizer.lemmatize(post) for post in tokens]\n",
    "    lemmatized_posts.append(\" \".join(post))\n",
    "    \n",
    "# Appending the lemmatized posts to the dataframe\n",
    "\n",
    "model_data[\"lemmatized_text\"] = lemmatized_posts\n",
    "\n",
    "# Checking the head of the dataframe\n",
    "\n",
    "model_data.head()"
   ]
  },
  {
   "cell_type": "markdown",
   "metadata": {},
   "source": [
    "While checking the results from the cell above, we noticed that in `lemmatized_text` there are some URLs which need to be removed.  We used a regular expression to remove all URLs."
   ]
  },
  {
   "cell_type": "code",
   "execution_count": 16,
   "metadata": {},
   "outputs": [],
   "source": [
    "model_data[\"lemmatized_text\"] = model_data[\"lemmatized_text\"].str.replace(\"http\\S+\", \"\")"
   ]
  },
  {
   "cell_type": "markdown",
   "metadata": {},
   "source": [
    "## Establishing The Baseline"
   ]
  },
  {
   "cell_type": "markdown",
   "metadata": {},
   "source": [
    "A baseline in classification gives us an idea of how exactly the model is performing.  The baseline is simply the percentage of occurrences of our target in the data; in this case it will be what percentage of posts are from r/Cooking.\n",
    "\n",
    "\n",
    "If our model has an accuracy of greater than 41.89% we know that it is better than simply guessing the class of a post."
   ]
  },
  {
   "cell_type": "code",
   "execution_count": 17,
   "metadata": {},
   "outputs": [
    {
     "data": {
      "text/plain": [
       "0    58.11\n",
       "1    41.89\n",
       "Name: target, dtype: float64"
      ]
     },
     "execution_count": 17,
     "metadata": {},
     "output_type": "execute_result"
    }
   ],
   "source": [
    "round(model_data[\"target\"].value_counts(normalize = True)*100, 2)"
   ]
  },
  {
   "cell_type": "markdown",
   "metadata": {},
   "source": [
    "The classes are unbalanced, but not severely.  The metrics we use will take the imbalance into account."
   ]
  },
  {
   "cell_type": "markdown",
   "metadata": {},
   "source": [
    "## Modeling"
   ]
  },
  {
   "cell_type": "markdown",
   "metadata": {},
   "source": [
    "Now that our text is in the format we want, we can begin the process of modeling.\n",
    "\n",
    "There are a few steps we must do before we start running models: we have to define the X and y variables and run a train-test split on the data."
   ]
  },
  {
   "cell_type": "markdown",
   "metadata": {},
   "source": [
    "### Setting The X & y variables"
   ]
  },
  {
   "cell_type": "code",
   "execution_count": 18,
   "metadata": {},
   "outputs": [],
   "source": [
    "X = model_data[\"lemmatized_text\"]\n",
    "y = model_data[\"target\"]"
   ]
  },
  {
   "cell_type": "markdown",
   "metadata": {},
   "source": [
    "### Running A Train-Test Split"
   ]
  },
  {
   "cell_type": "markdown",
   "metadata": {},
   "source": [
    "A train-test split is important because it allows us to reserve a portion of our data for test so that the model does not see all data before predicting.  In this case we want to preserve the distribution of the classes, so we will stratify the data to match the distribution of the classes."
   ]
  },
  {
   "cell_type": "code",
   "execution_count": 19,
   "metadata": {},
   "outputs": [],
   "source": [
    "# The random state ensures reproducability\n",
    "# The stratify argument preserves the distribution of classes\n",
    "\n",
    "X_train, X_test, y_train, y_test = train_test_split(X,\n",
    "                                                    y,\n",
    "                                                    random_state = 42,\n",
    "                                                    stratify     = y)"
   ]
  },
  {
   "cell_type": "markdown",
   "metadata": {},
   "source": [
    "Each of the three models we will use will be gridsearched so that we can experiment with different combinations of hyperparameters (parameters we have to define).  Additionally, each model will be fit with a count vectorizer and a TFIDF (Term Frequency-Inverse Document Frequency) vectorizer."
   ]
  },
  {
   "cell_type": "markdown",
   "metadata": {},
   "source": [
    "[Top](#Table-Of-Contents)"
   ]
  },
  {
   "cell_type": "markdown",
   "metadata": {},
   "source": [
    "### Evaluation Formulas"
   ]
  },
  {
   "cell_type": "markdown",
   "metadata": {},
   "source": [
    "A confusion matrix allows us to look at how our model classified our data: it plots the true y values and the predicted y values so that we can have an idea of how the model performs with each class."
   ]
  },
  {
   "cell_type": "code",
   "execution_count": 20,
   "metadata": {},
   "outputs": [],
   "source": [
    "# We converted the confusion matrix to a dataframe to make it easier to read\n",
    "\n",
    "def create_confusion_matrix(y, y_preds):\n",
    "    cm     = confusion_matrix(y, y_preds)\n",
    "    matrix = pd.DataFrame(cm, \n",
    "                          columns = [\"Predicted r/AskCulinary\", \"Predicted r/Cooking\"], \n",
    "                          index   = [\"Actual r/AskCulinary\", \"Actual r/Cooking\"])\n",
    "    return matrix"
   ]
  },
  {
   "cell_type": "markdown",
   "metadata": {},
   "source": [
    "We chose to create a function which calculates specificity; we will explain what they are two cells down.\n",
    "\n",
    "The formula references specific parts of the matrix."
   ]
  },
  {
   "cell_type": "code",
   "execution_count": 21,
   "metadata": {},
   "outputs": [],
   "source": [
    "# Calculating specificity from a confusion matrix\n",
    "\n",
    "def specificity(y, y_hat):\n",
    "    cm          = confusion_matrix(y, y_hat)  \n",
    "    specificity = cm[0,0] / (cm[0,0] + cm[0,1])\n",
    "    return specificity"
   ]
  },
  {
   "cell_type": "markdown",
   "metadata": {},
   "source": [
    "For each model we will calculate a ROC-AUC score.  The ROC (receiver operating characteristic) shows us a binary classification model's ability to distinguish between two classes.  The curve, which will be plotted for our best model, shows us the distribution of the two classes.  The AUC (area under the curve) is how we measure the distribution of the classes: 0.5 is the lowest possible and 1.0 is the highest.\n",
    "\n",
    "This image from [GreyAtom](https://medium.com/greyatom/lets-learn-about-auc-roc-curve-4a94b4d88152) illustrates the AUC-ROC well:\n",
    "\n",
    "<img src = \"../Images/ROC_AUC 0.8 0.9.png\" alt = \"high auc_roc scores\" height = \"350\" width = \"350\">\n",
    "\n",
    "<img src = \"../Images/ROC_AUC 0.5 0.7.png\" alt = \"low auc_roc scores\"  height = \"350\" width = \"350\">"
   ]
  },
  {
   "cell_type": "markdown",
   "metadata": {},
   "source": [
    "Accuracy is not the most informative metric because we want to know how well the model is performing on both classes.  In order to do that we decided to look at five metrics in addition to general accuracy.\n",
    "\n",
    " \n",
    "| Metric                | Definition                                                       | Scale    |\n",
    "|:----------------------|:-----------------------------------------------------------------|:---------|\n",
    "| **Accuracy**          | The overall accuracy of the model                                | 0 to 1   | \n",
    "| **Balanced Accuracy** | The average of the recall on each class                          | 0 to 1   | \n",
    "| **Specificity**       | How many negative predictions are correct                        | 0 to 1   | \n",
    "| **Sensitivity**       | How many positive predictions are correct (also known as recall) | 0 to 1   | \n",
    "| **F1 Score**          | Accuracy that takes into account the specificity & sensitivity   | 0 to 1   | \n",
    "| **ROC-AUC Score**     | A measure of the model's ability to distinguish classes          | 0.5 to 1 |\n",
    "\n",
    "\n",
    "While we are taking a holistic approach to evaluation, we believe our most import metric is the ROC-AUC score because it shows us how much our classes overlap; ideally our ROC-AUC scores will be as close to 1.0 as possible."
   ]
  },
  {
   "cell_type": "code",
   "execution_count": 22,
   "metadata": {},
   "outputs": [],
   "source": [
    "# Generating the matrix scores\n",
    "\n",
    "def generate_model_eval(y, y_hat):\n",
    "    print(f\"The accuracy score is         : {round(accuracy_score(y, y_hat), 5)}\")\n",
    "    print(f\"The balanced accuracy score is: {round(balanced_accuracy_score(y, y_hat), 5)}\")\n",
    "    print(f\"The specificity score is      : {round(specificity(y, y_hat), 5)}\")\n",
    "    print(f\"The sensitivity score is      : {round(recall_score(y, y_hat), 5)}\")\n",
    "    print(f\"The F1 score is               : {round(f1_score(y, y_hat), 5)}\")\n",
    "    print(f\"The ROC-AUC score is          : {round(roc_auc_score(y, y_hat), 5)}\")"
   ]
  },
  {
   "cell_type": "markdown",
   "metadata": {},
   "source": [
    "[Top](#Table-Of-Contents)"
   ]
  },
  {
   "cell_type": "markdown",
   "metadata": {},
   "source": [
    "The models will be run with two vectorizers.  In the context of natural language processing, a vectorizer simply extracts features from a set of text.  For this project we decided to use two vectorizers: count vectorization and TFIDF vectorization.\n",
    "\n",
    "- **Count vectorization**: turns each word into a feature and counts how many times it occurs\n",
    "\n",
    "\n",
    "- **TFIDF vectorization**: TFIDF (term frequency-inverse document frequency) turns each word into a feature but instead of a number, it returns a percentage of how much of the text it makes up.  Then it scales that percentage by how often it occurs in the entire corpus of text.  It thus has the effect of making uncommon words very significant.\n",
    "\n",
    "Additionally, the hyperparameters shown in the grid-searches are the optimized hyperparameters."
   ]
  },
  {
   "cell_type": "markdown",
   "metadata": {},
   "source": [
    "### Logistic Regression"
   ]
  },
  {
   "cell_type": "markdown",
   "metadata": {},
   "source": [
    "The logistic regression is very similar to the linear regression, but it uses a logit function to bend the line so that it can predict either 0 or 1.\n",
    "\n",
    "\n",
    "The gridsearch will be searching hyperparameters for the vectorizers, not the logistic regression."
   ]
  },
  {
   "cell_type": "markdown",
   "metadata": {},
   "source": [
    "#### Count Vectorizer"
   ]
  },
  {
   "cell_type": "code",
   "execution_count": 23,
   "metadata": {},
   "outputs": [
    {
     "name": "stderr",
     "output_type": "stream",
     "text": [
      "C:\\Users\\andre\\Anaconda3\\lib\\site-packages\\sklearn\\linear_model\\logistic.py:432: FutureWarning: Default solver will be changed to 'lbfgs' in 0.22. Specify a solver to silence this warning.\n",
      "  FutureWarning)\n"
     ]
    }
   ],
   "source": [
    "# Setting up the pipeline\n",
    "\n",
    "cvec_lr_pipe = Pipeline([(\"cvec\", CountVectorizer()), \n",
    "                         (\"log_reg\", LogisticRegression())])\n",
    "\n",
    "# Setting the CVEC hyperparameters\n",
    "\n",
    "cvec_pipe_params = {\"cvec__max_features\": [125], \n",
    "                    \"cvec__ngram_range\" : [(1,2)], \n",
    "                    \"cvec__stop_words\"  : [None]}\n",
    "\n",
    "# Instantiating the grid search\n",
    "\n",
    "cvec_lr_gs = GridSearchCV(cvec_lr_pipe, \n",
    "                          param_grid = cvec_pipe_params, \n",
    "                          cv         = 5)\n",
    "\n",
    "# Fitting the model to the training data\n",
    "\n",
    "cvec_lr_gs.fit(X_train, y_train);\n",
    "\n",
    "# The warning is a futurewarning and can be ignored"
   ]
  },
  {
   "cell_type": "code",
   "execution_count": 24,
   "metadata": {},
   "outputs": [],
   "source": [
    "# Generating training predictions\n",
    "\n",
    "cvec_lr_train_preds = cvec_lr_gs.predict(X_train)\n",
    "\n",
    "# Generating test predictions\n",
    "\n",
    "cvec_lr_preds       = cvec_lr_gs.predict(X_test)\n",
    "cvec_lr_proba       = cvec_lr_gs.predict_proba"
   ]
  },
  {
   "cell_type": "code",
   "execution_count": 25,
   "metadata": {},
   "outputs": [
    {
     "name": "stdout",
     "output_type": "stream",
     "text": [
      "The accuracy score is         : 0.68514\n",
      "The balanced accuracy score is: 0.65898\n",
      "The specificity score is      : 0.81992\n",
      "The sensitivity score is      : 0.49804\n",
      "The F1 score is               : 0.56983\n",
      "The ROC-AUC score is          : 0.65898\n"
     ]
    }
   ],
   "source": [
    "# Training metrics\n",
    "\n",
    "generate_model_eval(y_train, cvec_lr_train_preds)"
   ]
  },
  {
   "cell_type": "code",
   "execution_count": 26,
   "metadata": {},
   "outputs": [
    {
     "name": "stdout",
     "output_type": "stream",
     "text": [
      "The accuracy score is         : 0.65683\n",
      "The balanced accuracy score is: 0.63445\n",
      "The specificity score is      : 0.77331\n",
      "The sensitivity score is      : 0.4956\n",
      "The F1 score is               : 0.54781\n",
      "The ROC-AUC score is          : 0.63445\n"
     ]
    }
   ],
   "source": [
    "# Test metrics\n",
    "\n",
    "generate_model_eval(y_test, cvec_lr_preds)"
   ]
  },
  {
   "cell_type": "markdown",
   "metadata": {},
   "source": [
    "Overall the test scores are poor, although we found it surprising at how consistent they are.  We had expected a degree of overfitting due to the type of model: linear models are simple and tend to high bias.\n",
    "\n",
    "Our biggest concern is the ROC-AUC score: the scores are close to the lowest possible score and thus the model is not doing a very good job at distinguishing between the posts from r/Cooking and r/AskCulinary."
   ]
  },
  {
   "cell_type": "code",
   "execution_count": 27,
   "metadata": {},
   "outputs": [
    {
     "data": {
      "text/html": [
       "<div>\n",
       "<style scoped>\n",
       "    .dataframe tbody tr th:only-of-type {\n",
       "        vertical-align: middle;\n",
       "    }\n",
       "\n",
       "    .dataframe tbody tr th {\n",
       "        vertical-align: top;\n",
       "    }\n",
       "\n",
       "    .dataframe thead th {\n",
       "        text-align: right;\n",
       "    }\n",
       "</style>\n",
       "<table border=\"1\" class=\"dataframe\">\n",
       "  <thead>\n",
       "    <tr style=\"text-align: right;\">\n",
       "      <th></th>\n",
       "      <th>Predicted r/AskCulinary</th>\n",
       "      <th>Predicted r/Cooking</th>\n",
       "    </tr>\n",
       "  </thead>\n",
       "  <tbody>\n",
       "    <tr>\n",
       "      <th>Actual r/AskCulinary</th>\n",
       "      <td>365</td>\n",
       "      <td>107</td>\n",
       "    </tr>\n",
       "    <tr>\n",
       "      <th>Actual r/Cooking</th>\n",
       "      <td>172</td>\n",
       "      <td>169</td>\n",
       "    </tr>\n",
       "  </tbody>\n",
       "</table>\n",
       "</div>"
      ],
      "text/plain": [
       "                      Predicted r/AskCulinary  Predicted r/Cooking\n",
       "Actual r/AskCulinary                      365                  107\n",
       "Actual r/Cooking                          172                  169"
      ]
     },
     "execution_count": 27,
     "metadata": {},
     "output_type": "execute_result"
    }
   ],
   "source": [
    "# Generating a confusion matrix on the test results\n",
    "\n",
    "create_confusion_matrix(y_test, cvec_lr_preds)"
   ]
  },
  {
   "cell_type": "markdown",
   "metadata": {},
   "source": [
    "The confusion matrix contains the following:\n",
    "\n",
    "\n",
    "|                     | Predicted Positive | Predicted Negative |\n",
    "|:--------------------|:------------------:|:------------------:|\n",
    "| **Actual Positive** | True Negative      | False Negative     |\n",
    "| **Actual Negative** | False Positive     | True Positive      |\n",
    "\n",
    "\n",
    "Based on the matrix, it is easy to see that the model is better at predicting posts from r/AskCulinary than from r/Cooking.  We did not find that surprising at all because there are more posts from r/AskCulinary."
   ]
  },
  {
   "cell_type": "markdown",
   "metadata": {},
   "source": [
    "[Top](#Table-Of-Contents)"
   ]
  },
  {
   "cell_type": "markdown",
   "metadata": {},
   "source": [
    "#### TFIDF Vectorization"
   ]
  },
  {
   "cell_type": "code",
   "execution_count": 28,
   "metadata": {},
   "outputs": [
    {
     "name": "stderr",
     "output_type": "stream",
     "text": [
      "C:\\Users\\andre\\Anaconda3\\lib\\site-packages\\sklearn\\linear_model\\logistic.py:432: FutureWarning: Default solver will be changed to 'lbfgs' in 0.22. Specify a solver to silence this warning.\n",
      "  FutureWarning)\n"
     ]
    }
   ],
   "source": [
    "# Setting up the pipeline\n",
    "\n",
    "tvec_lr_pipe = Pipeline([(\"tvec\", TfidfVectorizer()), \n",
    "                         (\"log_reg\", LogisticRegression())])\n",
    "\n",
    "# Setting TFIDF hyperparameters\n",
    "\n",
    "tvec_pipe_params = {\"tvec__max_features\": [650], \n",
    "                    \"tvec__ngram_range\" : [(1,1)], \n",
    "                    \"tvec__stop_words\"  : [None]}\n",
    "                    \n",
    "# Instantiating the grid search\n",
    "\n",
    "tvec_lr_gs = GridSearchCV(tvec_lr_pipe, \n",
    "                          param_grid = tvec_pipe_params, \n",
    "                          cv         = 5)\n",
    "\n",
    "# Fitting the model to the training data\n",
    "\n",
    "tvec_lr_gs.fit(X_train, y_train);\n",
    "\n",
    "# The warning is a futurewarning and can be ignored"
   ]
  },
  {
   "cell_type": "code",
   "execution_count": 29,
   "metadata": {},
   "outputs": [],
   "source": [
    "# Generating training predictions\n",
    "\n",
    "tvec_lr_train_preds = tvec_lr_gs.predict(X_train)\n",
    "\n",
    "# Generating test predictions\n",
    "\n",
    "tvec_lr_preds       = tvec_lr_gs.predict(X_test) "
   ]
  },
  {
   "cell_type": "code",
   "execution_count": 30,
   "metadata": {},
   "outputs": [
    {
     "name": "stdout",
     "output_type": "stream",
     "text": [
      "The accuracy score is         : 0.76026\n",
      "The balanced accuracy score is: 0.7358\n",
      "The specificity score is      : 0.8863\n",
      "The sensitivity score is      : 0.58529\n",
      "The F1 score is               : 0.67154\n",
      "The ROC-AUC score is          : 0.7358\n"
     ]
    }
   ],
   "source": [
    "# Training metrics\n",
    "\n",
    "generate_model_eval(y_train, tvec_lr_train_preds)"
   ]
  },
  {
   "cell_type": "code",
   "execution_count": 31,
   "metadata": {},
   "outputs": [
    {
     "name": "stdout",
     "output_type": "stream",
     "text": [
      "The accuracy score is         : 0.68758\n",
      "The balanced accuracy score is: 0.66419\n",
      "The specificity score is      : 0.80932\n",
      "The sensitivity score is      : 0.51906\n",
      "The F1 score is               : 0.58224\n",
      "The ROC-AUC score is          : 0.66419\n"
     ]
    }
   ],
   "source": [
    "# Test metrics\n",
    "\n",
    "generate_model_eval(y_test, tvec_lr_preds)"
   ]
  },
  {
   "cell_type": "markdown",
   "metadata": {},
   "source": [
    "This model with the TFIDF vectorizer performed a bit better on the test data than the same model with count vectorization.  Nevertheless, this model is more overfit.  The improvement in the ROC-AUC scores is good, but the score is still low."
   ]
  },
  {
   "cell_type": "code",
   "execution_count": 32,
   "metadata": {},
   "outputs": [
    {
     "data": {
      "text/html": [
       "<div>\n",
       "<style scoped>\n",
       "    .dataframe tbody tr th:only-of-type {\n",
       "        vertical-align: middle;\n",
       "    }\n",
       "\n",
       "    .dataframe tbody tr th {\n",
       "        vertical-align: top;\n",
       "    }\n",
       "\n",
       "    .dataframe thead th {\n",
       "        text-align: right;\n",
       "    }\n",
       "</style>\n",
       "<table border=\"1\" class=\"dataframe\">\n",
       "  <thead>\n",
       "    <tr style=\"text-align: right;\">\n",
       "      <th></th>\n",
       "      <th>Predicted r/AskCulinary</th>\n",
       "      <th>Predicted r/Cooking</th>\n",
       "    </tr>\n",
       "  </thead>\n",
       "  <tbody>\n",
       "    <tr>\n",
       "      <th>Actual r/AskCulinary</th>\n",
       "      <td>382</td>\n",
       "      <td>90</td>\n",
       "    </tr>\n",
       "    <tr>\n",
       "      <th>Actual r/Cooking</th>\n",
       "      <td>164</td>\n",
       "      <td>177</td>\n",
       "    </tr>\n",
       "  </tbody>\n",
       "</table>\n",
       "</div>"
      ],
      "text/plain": [
       "                      Predicted r/AskCulinary  Predicted r/Cooking\n",
       "Actual r/AskCulinary                      382                   90\n",
       "Actual r/Cooking                          164                  177"
      ]
     },
     "execution_count": 32,
     "metadata": {},
     "output_type": "execute_result"
    }
   ],
   "source": [
    "# Generating a confusion matrix on the test results\n",
    "\n",
    "create_confusion_matrix(y_test, tvec_lr_preds)"
   ]
  },
  {
   "cell_type": "markdown",
   "metadata": {},
   "source": [
    "Compared to the confusion matrix for the CVEC predictions, the number of true positives and true negatives have increased while the numbers of false positives and false negatives have decreased as well meaning that the model's predictive power has increased; this reflects what we saw with the model's metrics.  It still predicts the negative class better, which is not surprising."
   ]
  },
  {
   "cell_type": "markdown",
   "metadata": {},
   "source": [
    "[Top](#Table-Of-Contents)"
   ]
  },
  {
   "cell_type": "markdown",
   "metadata": {},
   "source": [
    "### Support Vector Classifier"
   ]
  },
  {
   "cell_type": "markdown",
   "metadata": {},
   "source": [
    "A support vector machine (in this case a classifier) is at its core a linear model.  However, instead of running like a logistic regression, it seeks to linearly separate the data.  To do that, it uses a kernel to raise the data into _n_-dimensional space.  It then uses a line, plane (3-dimensional line), or hyperplane (greater than 3-dimensions) to delineate the data."
   ]
  },
  {
   "cell_type": "markdown",
   "metadata": {},
   "source": [
    "#### Count Vectorizer"
   ]
  },
  {
   "cell_type": "code",
   "execution_count": 33,
   "metadata": {},
   "outputs": [],
   "source": [
    "# Setting up the pipeline\n",
    "\n",
    "cvec_svc_pipe = Pipeline([(\"cvec\", CountVectorizer()), \n",
    "                         (\"svc\", SVC())])\n",
    "\n",
    "# Setting CVEC and pipe hyperparameters\n",
    "\n",
    "cvec_pipe_params = {\"cvec__max_features\": [319], \n",
    "                    \"cvec__ngram_range\" : [(1,2)], \n",
    "                    \"cvec__stop_words\"  : [None],\n",
    "                    \"svc__C\"            : [1.0],\n",
    "                    \"svc__kernel\"       : [\"rbf\"],\n",
    "                    \"svc__gamma\"        : [\"auto\"]}\n",
    "                    \n",
    "# Instantiating the grid search\n",
    "\n",
    "cvec_svc_gs = GridSearchCV(cvec_svc_pipe, \n",
    "                           param_grid = cvec_pipe_params, \n",
    "                           cv         = 5)\n",
    "\n",
    "# Fitting the model to the training data\n",
    "\n",
    "cvec_svc_gs.fit(X_train, y_train);"
   ]
  },
  {
   "cell_type": "code",
   "execution_count": 34,
   "metadata": {},
   "outputs": [],
   "source": [
    "# Generating training predictions\n",
    "\n",
    "cvec_svc_train_preds = cvec_svc_gs.predict(X_train)\n",
    "\n",
    "# Generating test predictions\n",
    "\n",
    "cvec_svc_preds       = cvec_svc_gs.predict(X_test) "
   ]
  },
  {
   "cell_type": "code",
   "execution_count": 35,
   "metadata": {},
   "outputs": [
    {
     "name": "stdout",
     "output_type": "stream",
     "text": [
      "The accuracy score is         : 0.74631\n",
      "The balanced accuracy score is: 0.7194\n",
      "The specificity score is      : 0.88489\n",
      "The sensitivity score is      : 0.55392\n",
      "The F1 score is               : 0.64645\n",
      "The ROC-AUC score is          : 0.7194\n"
     ]
    }
   ],
   "source": [
    "# Training metrics\n",
    "\n",
    "generate_model_eval(y_train, cvec_svc_train_preds)"
   ]
  },
  {
   "cell_type": "code",
   "execution_count": 36,
   "metadata": {},
   "outputs": [
    {
     "name": "stdout",
     "output_type": "stream",
     "text": [
      "The accuracy score is         : 0.66544\n",
      "The balanced accuracy score is: 0.63617\n",
      "The specificity score is      : 0.8178\n",
      "The sensitivity score is      : 0.45455\n",
      "The F1 score is               : 0.53265\n",
      "The ROC-AUC score is          : 0.63617\n"
     ]
    }
   ],
   "source": [
    "# Test metrics\n",
    "\n",
    "generate_model_eval(y_test, cvec_svc_preds)"
   ]
  },
  {
   "cell_type": "markdown",
   "metadata": {},
   "source": [
    "We were surprised that a support vector machine performed worse than the logistic regression: we had expected dramatic improvements over the logistic regression.  While we did note improvements in metric scores, we also noticed that the ROC-AUC score is worse than the logistic regressions.  Because the ROC-AUC score measures the distinction between classes, we were reluctant to say this model is better than the logistic regression.  Furthermore, this model is slightly more overfit than the logistic regression."
   ]
  },
  {
   "cell_type": "code",
   "execution_count": 37,
   "metadata": {},
   "outputs": [
    {
     "data": {
      "text/html": [
       "<div>\n",
       "<style scoped>\n",
       "    .dataframe tbody tr th:only-of-type {\n",
       "        vertical-align: middle;\n",
       "    }\n",
       "\n",
       "    .dataframe tbody tr th {\n",
       "        vertical-align: top;\n",
       "    }\n",
       "\n",
       "    .dataframe thead th {\n",
       "        text-align: right;\n",
       "    }\n",
       "</style>\n",
       "<table border=\"1\" class=\"dataframe\">\n",
       "  <thead>\n",
       "    <tr style=\"text-align: right;\">\n",
       "      <th></th>\n",
       "      <th>Predicted r/AskCulinary</th>\n",
       "      <th>Predicted r/Cooking</th>\n",
       "    </tr>\n",
       "  </thead>\n",
       "  <tbody>\n",
       "    <tr>\n",
       "      <th>Actual r/AskCulinary</th>\n",
       "      <td>386</td>\n",
       "      <td>86</td>\n",
       "    </tr>\n",
       "    <tr>\n",
       "      <th>Actual r/Cooking</th>\n",
       "      <td>186</td>\n",
       "      <td>155</td>\n",
       "    </tr>\n",
       "  </tbody>\n",
       "</table>\n",
       "</div>"
      ],
      "text/plain": [
       "                      Predicted r/AskCulinary  Predicted r/Cooking\n",
       "Actual r/AskCulinary                      386                   86\n",
       "Actual r/Cooking                          186                  155"
      ]
     },
     "execution_count": 37,
     "metadata": {},
     "output_type": "execute_result"
    }
   ],
   "source": [
    "# Generating a confusion matrix on the test results\n",
    "\n",
    "create_confusion_matrix(y_test, cvec_svc_preds)"
   ]
  },
  {
   "cell_type": "markdown",
   "metadata": {},
   "source": [
    "This model predicts the r/Cooking more than the r/AskCulinary which again we found surprising.  While it did a better job with the true positives, the model predicted more false positives and less of the negative cases overall."
   ]
  },
  {
   "cell_type": "markdown",
   "metadata": {},
   "source": [
    "[Top](#Table-Of-Contents)"
   ]
  },
  {
   "cell_type": "markdown",
   "metadata": {},
   "source": [
    "#### TFIDF Vectorizer"
   ]
  },
  {
   "cell_type": "code",
   "execution_count": 38,
   "metadata": {},
   "outputs": [],
   "source": [
    "# Setting up the pipeline\n",
    "\n",
    "tvec_svc_pipe = Pipeline([(\"tvec\", TfidfVectorizer()), \n",
    "                         (\"svc\", SVC())])\n",
    "\n",
    "# Setting TFIDF and pipe hyperparameters\n",
    "\n",
    "tvec_pipe_params = {\"tvec__max_features\": [1], \n",
    "                    \"tvec__ngram_range\" : [(1,1)], \n",
    "                    \"tvec__stop_words\"  : [None],\n",
    "                    \"svc__C\"            : [1.0],\n",
    "                    \"svc__kernel\"       : [\"rbf\"],\n",
    "                    \"svc__gamma\"        : [\"auto\"]}\n",
    "                    \n",
    "# Instantiating the grid search\n",
    "\n",
    "tvec_svc_gs = GridSearchCV(tvec_svc_pipe, \n",
    "                           param_grid = tvec_pipe_params, \n",
    "                           cv         = 5)\n",
    "\n",
    "# Fitting the model to the training data\n",
    "\n",
    "tvec_svc_gs.fit(X_train, y_train);"
   ]
  },
  {
   "cell_type": "code",
   "execution_count": 39,
   "metadata": {},
   "outputs": [],
   "source": [
    "# Generating training predictions\n",
    "\n",
    "tvec_svc_train_preds = tvec_svc_gs.predict(X_train)\n",
    "\n",
    "# Generating test predictions\n",
    "\n",
    "tvec_svc_preds       = tvec_svc_gs.predict(X_test) "
   ]
  },
  {
   "cell_type": "code",
   "execution_count": 40,
   "metadata": {},
   "outputs": [
    {
     "name": "stdout",
     "output_type": "stream",
     "text": [
      "The accuracy score is         : 0.60099\n",
      "The balanced accuracy score is: 0.5504\n",
      "The specificity score is      : 0.86158\n",
      "The sensitivity score is      : 0.23922\n",
      "The F1 score is               : 0.33425\n",
      "The ROC-AUC score is          : 0.5504\n"
     ]
    }
   ],
   "source": [
    "# Training metrics\n",
    "\n",
    "generate_model_eval(y_train, tvec_svc_train_preds)"
   ]
  },
  {
   "cell_type": "code",
   "execution_count": 41,
   "metadata": {},
   "outputs": [
    {
     "name": "stdout",
     "output_type": "stream",
     "text": [
      "The accuracy score is         : 0.60271\n",
      "The balanced accuracy score is: 0.55244\n",
      "The specificity score is      : 0.86441\n",
      "The sensitivity score is      : 0.24047\n",
      "The F1 score is               : 0.33676\n",
      "The ROC-AUC score is          : 0.55244\n"
     ]
    }
   ],
   "source": [
    "# Test metrics\n",
    "\n",
    "generate_model_eval(y_test, tvec_svc_preds)"
   ]
  },
  {
   "cell_type": "markdown",
   "metadata": {},
   "source": [
    "Considering the performance of the SVC with count vectorization, we were surprised by how much more poorly this model performed: scores in the range of 0.2 to 0.4 are simply unacceptable.  We expected these scores to be slightly higher than the count vectorized scores because in the case of the logistic regression the scores improved with TFIDF vectorization.  Nevertheless, the model is is not overfit at all and in a few cases performed slightly better on the test data."
   ]
  },
  {
   "cell_type": "code",
   "execution_count": 42,
   "metadata": {},
   "outputs": [
    {
     "data": {
      "text/html": [
       "<div>\n",
       "<style scoped>\n",
       "    .dataframe tbody tr th:only-of-type {\n",
       "        vertical-align: middle;\n",
       "    }\n",
       "\n",
       "    .dataframe tbody tr th {\n",
       "        vertical-align: top;\n",
       "    }\n",
       "\n",
       "    .dataframe thead th {\n",
       "        text-align: right;\n",
       "    }\n",
       "</style>\n",
       "<table border=\"1\" class=\"dataframe\">\n",
       "  <thead>\n",
       "    <tr style=\"text-align: right;\">\n",
       "      <th></th>\n",
       "      <th>Predicted r/AskCulinary</th>\n",
       "      <th>Predicted r/Cooking</th>\n",
       "    </tr>\n",
       "  </thead>\n",
       "  <tbody>\n",
       "    <tr>\n",
       "      <th>Actual r/AskCulinary</th>\n",
       "      <td>408</td>\n",
       "      <td>64</td>\n",
       "    </tr>\n",
       "    <tr>\n",
       "      <th>Actual r/Cooking</th>\n",
       "      <td>259</td>\n",
       "      <td>82</td>\n",
       "    </tr>\n",
       "  </tbody>\n",
       "</table>\n",
       "</div>"
      ],
      "text/plain": [
       "                      Predicted r/AskCulinary  Predicted r/Cooking\n",
       "Actual r/AskCulinary                      408                   64\n",
       "Actual r/Cooking                          259                   82"
      ]
     },
     "execution_count": 42,
     "metadata": {},
     "output_type": "execute_result"
    }
   ],
   "source": [
    "# Generating a confusion matrix on the test results\n",
    "\n",
    "create_confusion_matrix(y_test, tvec_svc_preds)"
   ]
  },
  {
   "cell_type": "markdown",
   "metadata": {},
   "source": [
    "We can see in an increase in the number of true negatives, false positives, but a decrease in true positives and false negatives.  While we welcome a decrease in false negatives, we were surprised by a significant drop in the true positives."
   ]
  },
  {
   "cell_type": "markdown",
   "metadata": {},
   "source": [
    "[Top](#Table-Of-Contents)"
   ]
  },
  {
   "cell_type": "markdown",
   "metadata": {},
   "source": [
    "### Random Forest Classifier"
   ]
  },
  {
   "cell_type": "markdown",
   "metadata": {},
   "source": [
    "A random forest classifier is a decision tree-based classification method.  However, it has advantages over other tree-based models.  Firstly, it bootstraps the dataframe to have a random subset of the data, but it also takes a random subset of the features.  Having two levels of randomness in the model reduces the likelihood of the model being overfit on training data but it also allows the model to be less prone to variance caused by many features."
   ]
  },
  {
   "cell_type": "markdown",
   "metadata": {},
   "source": [
    "#### Count Vectorizer"
   ]
  },
  {
   "cell_type": "code",
   "execution_count": 43,
   "metadata": {},
   "outputs": [],
   "source": [
    "# Creating the pipeline\n",
    "\n",
    "cvec_rf_pipe = Pipeline([(\"cvec\", CountVectorizer()), \n",
    "                         (\"rf\", RandomForestClassifier(random_state = 42))])\n",
    "\n",
    "# Setting CVEC and pipeline hyperparameters\n",
    "\n",
    "cvec_pipe_params = {\"cvec__max_features\"   : [1000], \n",
    "                    \"cvec__ngram_range\"    : [(1,1)], \n",
    "                    \"cvec__stop_words\"     : [None],\n",
    "                    \"rf__n_estimators\"     : [72],\n",
    "                    \"rf__min_samples_split\": [6],\n",
    "                    \"rf__min_samples_leaf\" : [2],\n",
    "                    \"rf__max_depth\"        : [20]}\n",
    "\n",
    "# Instantiating the grid search\n",
    "\n",
    "cvec_rf_gs = GridSearchCV(cvec_rf_pipe, \n",
    "                          param_grid = cvec_pipe_params, \n",
    "                          cv         = 5,\n",
    "                          n_jobs     = 6)\n",
    "\n",
    "# Fitting the model to the training data\n",
    "\n",
    "cvec_rf_gs.fit(X_train, y_train);"
   ]
  },
  {
   "cell_type": "code",
   "execution_count": 44,
   "metadata": {},
   "outputs": [],
   "source": [
    "# Generating training predictions\n",
    "\n",
    "cvec_rf_train_preds = cvec_rf_gs.predict(X_train)\n",
    "\n",
    "# Generating test predictions\n",
    "\n",
    "cvec_rf_preds       = cvec_rf_gs.predict(X_test) "
   ]
  },
  {
   "cell_type": "code",
   "execution_count": 45,
   "metadata": {},
   "outputs": [
    {
     "name": "stdout",
     "output_type": "stream",
     "text": [
      "The accuracy score is         : 0.90394\n",
      "The balanced accuracy score is: 0.8879\n",
      "The specificity score is      : 0.98658\n",
      "The sensitivity score is      : 0.78922\n",
      "The F1 score is               : 0.8731\n",
      "The ROC-AUC score is          : 0.8879\n"
     ]
    }
   ],
   "source": [
    "# Training metrics\n",
    "\n",
    "generate_model_eval(y_train, cvec_rf_train_preds)"
   ]
  },
  {
   "cell_type": "code",
   "execution_count": 46,
   "metadata": {},
   "outputs": [
    {
     "name": "stdout",
     "output_type": "stream",
     "text": [
      "The accuracy score is         : 0.66421\n",
      "The balanced accuracy score is: 0.61924\n",
      "The specificity score is      : 0.89831\n",
      "The sensitivity score is      : 0.34018\n",
      "The F1 score is               : 0.45941\n",
      "The ROC-AUC score is          : 0.61924\n"
     ]
    }
   ],
   "source": [
    "# Test metrics\n",
    "\n",
    "generate_model_eval(y_test, cvec_rf_preds)"
   ]
  },
  {
   "cell_type": "markdown",
   "metadata": {},
   "source": [
    "This random forest model is significantly overfit, which we did not expect because the random forest's two-level randomness is designed to help prevent overfitting; overall this model performed poorly.  Despite the model's poor performance and significant overfitting, this model has by far the best specificity score so far."
   ]
  },
  {
   "cell_type": "code",
   "execution_count": 47,
   "metadata": {},
   "outputs": [
    {
     "data": {
      "text/html": [
       "<div>\n",
       "<style scoped>\n",
       "    .dataframe tbody tr th:only-of-type {\n",
       "        vertical-align: middle;\n",
       "    }\n",
       "\n",
       "    .dataframe tbody tr th {\n",
       "        vertical-align: top;\n",
       "    }\n",
       "\n",
       "    .dataframe thead th {\n",
       "        text-align: right;\n",
       "    }\n",
       "</style>\n",
       "<table border=\"1\" class=\"dataframe\">\n",
       "  <thead>\n",
       "    <tr style=\"text-align: right;\">\n",
       "      <th></th>\n",
       "      <th>Predicted r/AskCulinary</th>\n",
       "      <th>Predicted r/Cooking</th>\n",
       "    </tr>\n",
       "  </thead>\n",
       "  <tbody>\n",
       "    <tr>\n",
       "      <th>Actual r/AskCulinary</th>\n",
       "      <td>424</td>\n",
       "      <td>48</td>\n",
       "    </tr>\n",
       "    <tr>\n",
       "      <th>Actual r/Cooking</th>\n",
       "      <td>225</td>\n",
       "      <td>116</td>\n",
       "    </tr>\n",
       "  </tbody>\n",
       "</table>\n",
       "</div>"
      ],
      "text/plain": [
       "                      Predicted r/AskCulinary  Predicted r/Cooking\n",
       "Actual r/AskCulinary                      424                   48\n",
       "Actual r/Cooking                          225                  116"
      ]
     },
     "execution_count": 47,
     "metadata": {},
     "output_type": "execute_result"
    }
   ],
   "source": [
    "# Generating a confusion matrix on the test results\n",
    "\n",
    "create_confusion_matrix(y_test, cvec_rf_preds)"
   ]
  },
  {
   "cell_type": "markdown",
   "metadata": {},
   "source": [
    "Here we can see that the true positives and negatives increased while the false negatives and positives decreased.  This is an improvement over the previous model, but it is still not great by any means."
   ]
  },
  {
   "cell_type": "markdown",
   "metadata": {},
   "source": [
    "[Top](#Table-Of-Contents)"
   ]
  },
  {
   "cell_type": "markdown",
   "metadata": {},
   "source": [
    "#### TFIDF Vectorizer"
   ]
  },
  {
   "cell_type": "code",
   "execution_count": 48,
   "metadata": {},
   "outputs": [],
   "source": [
    "# Creating the pipeline\n",
    "\n",
    "tvec_rf_pipe = Pipeline([(\"tvec\", TfidfVectorizer()), \n",
    "                         (\"rf\", RandomForestClassifier(random_state = 42))])\n",
    "\n",
    "# Setting the TVEC and pipeline hyperparameters\n",
    "\n",
    "tvec_pipe_params = {\"tvec__max_features\"   : [250], \n",
    "                    \"tvec__ngram_range\"    : [(1,2)], \n",
    "                    \"tvec__stop_words\"     : [None],\n",
    "                    \"rf__n_estimators\"     : [30],\n",
    "                    \"rf__min_samples_split\": [6],\n",
    "                    \"rf__min_samples_leaf\" : [2],\n",
    "                    \"rf__max_depth\"        : [12]}\n",
    "\n",
    "# Instantiating the grid search\n",
    "\n",
    "tvec_rf_gs = GridSearchCV(tvec_rf_pipe, \n",
    "                          param_grid = tvec_pipe_params, \n",
    "                          cv         = 5,\n",
    "                          n_jobs     = 6)\n",
    "\n",
    "# Fitting the model to the testing data\n",
    "\n",
    "tvec_rf_gs.fit(X_train, y_train);"
   ]
  },
  {
   "cell_type": "code",
   "execution_count": 49,
   "metadata": {},
   "outputs": [],
   "source": [
    "# Generating training predictions\n",
    "\n",
    "tvec_rf_train_preds = tvec_rf_gs.predict(X_train)\n",
    "\n",
    "# Generating test predictions\n",
    "\n",
    "tvec_rf_preds       = tvec_rf_gs.predict(X_test) "
   ]
  },
  {
   "cell_type": "code",
   "execution_count": 50,
   "metadata": {},
   "outputs": [
    {
     "name": "stdout",
     "output_type": "stream",
     "text": [
      "The accuracy score is         : 0.84113\n",
      "The balanced accuracy score is: 0.81262\n",
      "The specificity score is      : 0.98799\n",
      "The sensitivity score is      : 0.63725\n",
      "The F1 score is               : 0.7706\n",
      "The ROC-AUC score is          : 0.81262\n"
     ]
    }
   ],
   "source": [
    "# Training metrics\n",
    "\n",
    "generate_model_eval(y_train, tvec_rf_train_preds)"
   ]
  },
  {
   "cell_type": "code",
   "execution_count": 51,
   "metadata": {},
   "outputs": [
    {
     "name": "stdout",
     "output_type": "stream",
     "text": [
      "The accuracy score is         : 0.64084\n",
      "The balanced accuracy score is: 0.59911\n",
      "The specificity score is      : 0.85805\n",
      "The sensitivity score is      : 0.34018\n",
      "The F1 score is               : 0.44275\n",
      "The ROC-AUC score is          : 0.59911\n"
     ]
    }
   ],
   "source": [
    "# Test metrics\n",
    "\n",
    "generate_model_eval(y_test, tvec_rf_preds)"
   ]
  },
  {
   "cell_type": "markdown",
   "metadata": {},
   "source": [
    "Again, this model is very overfit and performed poorly.  Again, we were surprised by how high the specificity is given the performance of the model otherwise."
   ]
  },
  {
   "cell_type": "code",
   "execution_count": 52,
   "metadata": {},
   "outputs": [
    {
     "data": {
      "text/html": [
       "<div>\n",
       "<style scoped>\n",
       "    .dataframe tbody tr th:only-of-type {\n",
       "        vertical-align: middle;\n",
       "    }\n",
       "\n",
       "    .dataframe tbody tr th {\n",
       "        vertical-align: top;\n",
       "    }\n",
       "\n",
       "    .dataframe thead th {\n",
       "        text-align: right;\n",
       "    }\n",
       "</style>\n",
       "<table border=\"1\" class=\"dataframe\">\n",
       "  <thead>\n",
       "    <tr style=\"text-align: right;\">\n",
       "      <th></th>\n",
       "      <th>Predicted r/AskCulinary</th>\n",
       "      <th>Predicted r/Cooking</th>\n",
       "    </tr>\n",
       "  </thead>\n",
       "  <tbody>\n",
       "    <tr>\n",
       "      <th>Actual r/AskCulinary</th>\n",
       "      <td>405</td>\n",
       "      <td>67</td>\n",
       "    </tr>\n",
       "    <tr>\n",
       "      <th>Actual r/Cooking</th>\n",
       "      <td>225</td>\n",
       "      <td>116</td>\n",
       "    </tr>\n",
       "  </tbody>\n",
       "</table>\n",
       "</div>"
      ],
      "text/plain": [
       "                      Predicted r/AskCulinary  Predicted r/Cooking\n",
       "Actual r/AskCulinary                      405                   67\n",
       "Actual r/Cooking                          225                  116"
      ]
     },
     "execution_count": 52,
     "metadata": {},
     "output_type": "execute_result"
    }
   ],
   "source": [
    "# Generating a confusion matrix on the test results\n",
    "\n",
    "create_confusion_matrix(y_test, tvec_rf_preds)"
   ]
  },
  {
   "cell_type": "markdown",
   "metadata": {},
   "source": [
    "Interestingly this model had the same number of false positives and true negatives as the previous model, but a slight drop in true negatives and an increase in the false negatives."
   ]
  },
  {
   "cell_type": "markdown",
   "metadata": {},
   "source": [
    "[Top](#Table-Of-Contents)"
   ]
  },
  {
   "cell_type": "markdown",
   "metadata": {},
   "source": [
    "### XGBoost Classifier"
   ]
  },
  {
   "cell_type": "markdown",
   "metadata": {},
   "source": [
    "XGBoost is a tree-based boosting model that iteratively fits tree models on the errors of the previous model and uses gradient descent to help minimize the loss function.  Furthermore, the XGBoost is much more computationally efficient and can be parallelized unlike other boosting models."
   ]
  },
  {
   "cell_type": "markdown",
   "metadata": {},
   "source": [
    "#### Count Vectorizer"
   ]
  },
  {
   "cell_type": "code",
   "execution_count": 53,
   "metadata": {},
   "outputs": [],
   "source": [
    "# Creating the pipeline\n",
    "# The model's best parameters are shown\n",
    "\n",
    "cvec_xgbc_pipe = Pipeline([(\"cvec\", CountVectorizer()), \n",
    "                           (\"xgbc\", XGBClassifier(n_jobs                = 6,\n",
    "                                                  seed                  = 42,\n",
    "                                                  early_stopping_rounds = 10))])\n",
    "\n",
    "# Setting CVEC and pipeline hyperparameters\n",
    "\n",
    "cvec_pipe_params = {\"cvec__max_features\"   : [200], \n",
    "                    \"cvec__ngram_range\"    : [(1,3)], \n",
    "                    \"cvec__stop_words\"     : [None],\n",
    "                    \"xgbc__max_depth\"      : [3],\n",
    "                    \"xgbc__learning_rate\"  : [0.04],\n",
    "                    \"xgbc__n_estimators\"   : [175],\n",
    "                    \"xgbc__gamma\"          : [3.0]}\n",
    "\n",
    "# Instantiating the grid search\n",
    "\n",
    "cvec_xgbc_gs = GridSearchCV(cvec_xgbc_pipe, \n",
    "                            param_grid = cvec_pipe_params, \n",
    "                            cv         = 5,\n",
    "                            n_jobs     = 6)\n",
    "\n",
    "# Fitting the model to the testing data\n",
    "\n",
    "cvec_xgbc_gs.fit(X_train, y_train);"
   ]
  },
  {
   "cell_type": "code",
   "execution_count": 54,
   "metadata": {},
   "outputs": [],
   "source": [
    "# Generating training predictions\n",
    "\n",
    "cvec_xgbc_train_preds = cvec_xgbc_gs.predict(X_train)\n",
    "\n",
    "# Generating test predictions\n",
    "\n",
    "cvec_xgbc_preds       = cvec_xgbc_gs.predict(X_test) "
   ]
  },
  {
   "cell_type": "code",
   "execution_count": 55,
   "metadata": {
    "scrolled": true
   },
   "outputs": [
    {
     "name": "stdout",
     "output_type": "stream",
     "text": [
      "The accuracy score is         : 0.75739\n",
      "The balanced accuracy score is: 0.72565\n",
      "The specificity score is      : 0.9209\n",
      "The sensitivity score is      : 0.53039\n",
      "The F1 score is               : 0.64674\n",
      "The ROC-AUC score is          : 0.72565\n"
     ]
    }
   ],
   "source": [
    "# Training metrics\n",
    "\n",
    "generate_model_eval(y_train, cvec_xgbc_train_preds)"
   ]
  },
  {
   "cell_type": "code",
   "execution_count": 56,
   "metadata": {},
   "outputs": [
    {
     "name": "stdout",
     "output_type": "stream",
     "text": [
      "The accuracy score is         : 0.64945\n",
      "The balanced accuracy score is: 0.61548\n",
      "The specificity score is      : 0.82627\n",
      "The sensitivity score is      : 0.40469\n",
      "The F1 score is               : 0.49198\n",
      "The ROC-AUC score is          : 0.61548\n"
     ]
    }
   ],
   "source": [
    "# Test metrics\n",
    "\n",
    "generate_model_eval(y_test, cvec_xgbc_preds)"
   ]
  },
  {
   "cell_type": "markdown",
   "metadata": {},
   "source": [
    "We had expected the XGBoost classifier to be the best model because it is a boosting model: it fits models on the errors from each model it fits.  This model is bad not only because of how low the scores are, but because of how overfit the model is."
   ]
  },
  {
   "cell_type": "code",
   "execution_count": 57,
   "metadata": {},
   "outputs": [
    {
     "data": {
      "text/html": [
       "<div>\n",
       "<style scoped>\n",
       "    .dataframe tbody tr th:only-of-type {\n",
       "        vertical-align: middle;\n",
       "    }\n",
       "\n",
       "    .dataframe tbody tr th {\n",
       "        vertical-align: top;\n",
       "    }\n",
       "\n",
       "    .dataframe thead th {\n",
       "        text-align: right;\n",
       "    }\n",
       "</style>\n",
       "<table border=\"1\" class=\"dataframe\">\n",
       "  <thead>\n",
       "    <tr style=\"text-align: right;\">\n",
       "      <th></th>\n",
       "      <th>Predicted r/AskCulinary</th>\n",
       "      <th>Predicted r/Cooking</th>\n",
       "    </tr>\n",
       "  </thead>\n",
       "  <tbody>\n",
       "    <tr>\n",
       "      <th>Actual r/AskCulinary</th>\n",
       "      <td>390</td>\n",
       "      <td>82</td>\n",
       "    </tr>\n",
       "    <tr>\n",
       "      <th>Actual r/Cooking</th>\n",
       "      <td>203</td>\n",
       "      <td>138</td>\n",
       "    </tr>\n",
       "  </tbody>\n",
       "</table>\n",
       "</div>"
      ],
      "text/plain": [
       "                      Predicted r/AskCulinary  Predicted r/Cooking\n",
       "Actual r/AskCulinary                      390                   82\n",
       "Actual r/Cooking                          203                  138"
      ]
     },
     "execution_count": 57,
     "metadata": {},
     "output_type": "execute_result"
    }
   ],
   "source": [
    "# Generating a confusion matrix on the test results\n",
    "\n",
    "create_confusion_matrix(y_test, cvec_xgbc_preds)"
   ]
  },
  {
   "cell_type": "markdown",
   "metadata": {},
   "source": [
    "The matrices have been variable over previous models and this one is no different: true positives, true true negatives, and false negatives decreased while the false negatives increased."
   ]
  },
  {
   "cell_type": "markdown",
   "metadata": {},
   "source": [
    "[Top](#Table-Of-Contents)"
   ]
  },
  {
   "cell_type": "markdown",
   "metadata": {},
   "source": [
    "#### TFIDF Vectorizer"
   ]
  },
  {
   "cell_type": "code",
   "execution_count": 58,
   "metadata": {},
   "outputs": [],
   "source": [
    "# Creating the pipeline\n",
    "# The model's best parameters are shown\n",
    "\n",
    "tvec_xgbc_pipe = Pipeline([(\"tvec\", TfidfVectorizer()), \n",
    "                           (\"xgbc\", XGBClassifier(n_jobs                = 6,\n",
    "                                                  seed                  = 42,\n",
    "                                                  early_stopping_rounds = 10))])\n",
    "\n",
    "# Setting the TFIDF and pipeline hyperparameters\n",
    "\n",
    "tvec_pipe_params = {\"tvec__max_features\"   : [525], \n",
    "                    \"tvec__ngram_range\"    : [(1,3)], \n",
    "                    \"tvec__stop_words\"     : [stopwords],\n",
    "                    \"xgbc__max_depth\"      : [3],\n",
    "                    \"xgbc__learning_rate\"  : [0.25],\n",
    "                    \"xgbc__n_estimators\"   : [139],\n",
    "                    \"xgbc__gamma\"          : [1.0]}\n",
    "\n",
    "# Instantiating the grid search\n",
    "\n",
    "tvec_xgbc_gs = GridSearchCV(tvec_xgbc_pipe, \n",
    "                            param_grid = tvec_pipe_params, \n",
    "                            cv         = 5,\n",
    "                            n_jobs     = 6)\n",
    "\n",
    "# Fitting the model to the testing data\n",
    "\n",
    "tvec_xgbc_gs.fit(X_train, y_train);"
   ]
  },
  {
   "cell_type": "code",
   "execution_count": 59,
   "metadata": {},
   "outputs": [],
   "source": [
    "# Generating training predictions\n",
    "\n",
    "tvec_xgbc_train_preds = tvec_xgbc_gs.predict(X_train)\n",
    "\n",
    "# Generating test predictions\n",
    "\n",
    "tvec_xgbc_preds       = tvec_xgbc_gs.predict(X_test) "
   ]
  },
  {
   "cell_type": "code",
   "execution_count": 60,
   "metadata": {},
   "outputs": [
    {
     "name": "stdout",
     "output_type": "stream",
     "text": [
      "The accuracy score is         : 0.89327\n",
      "The balanced accuracy score is: 0.88036\n",
      "The specificity score is      : 0.95975\n",
      "The sensitivity score is      : 0.80098\n",
      "The F1 score is               : 0.86272\n",
      "The ROC-AUC score is          : 0.88036\n"
     ]
    }
   ],
   "source": [
    "# Training metrics\n",
    "\n",
    "generate_model_eval(y_train, tvec_xgbc_train_preds)"
   ]
  },
  {
   "cell_type": "code",
   "execution_count": 61,
   "metadata": {},
   "outputs": [
    {
     "name": "stdout",
     "output_type": "stream",
     "text": [
      "The accuracy score is         : 0.65314\n",
      "The balanced accuracy score is: 0.63209\n",
      "The specificity score is      : 0.76271\n",
      "The sensitivity score is      : 0.50147\n",
      "The F1 score is               : 0.54808\n",
      "The ROC-AUC score is          : 0.63209\n"
     ]
    }
   ],
   "source": [
    "# Test metrics\n",
    "\n",
    "generate_model_eval(y_test, tvec_xgbc_preds)"
   ]
  },
  {
   "cell_type": "markdown",
   "metadata": {},
   "source": [
    "Again we were surprised by how poorly the XGBoost model did for the same reasons: it is extremely overfit and its metric scores are poor."
   ]
  },
  {
   "cell_type": "code",
   "execution_count": 62,
   "metadata": {},
   "outputs": [
    {
     "data": {
      "text/html": [
       "<div>\n",
       "<style scoped>\n",
       "    .dataframe tbody tr th:only-of-type {\n",
       "        vertical-align: middle;\n",
       "    }\n",
       "\n",
       "    .dataframe tbody tr th {\n",
       "        vertical-align: top;\n",
       "    }\n",
       "\n",
       "    .dataframe thead th {\n",
       "        text-align: right;\n",
       "    }\n",
       "</style>\n",
       "<table border=\"1\" class=\"dataframe\">\n",
       "  <thead>\n",
       "    <tr style=\"text-align: right;\">\n",
       "      <th></th>\n",
       "      <th>Predicted r/AskCulinary</th>\n",
       "      <th>Predicted r/Cooking</th>\n",
       "    </tr>\n",
       "  </thead>\n",
       "  <tbody>\n",
       "    <tr>\n",
       "      <th>Actual r/AskCulinary</th>\n",
       "      <td>360</td>\n",
       "      <td>112</td>\n",
       "    </tr>\n",
       "    <tr>\n",
       "      <th>Actual r/Cooking</th>\n",
       "      <td>170</td>\n",
       "      <td>171</td>\n",
       "    </tr>\n",
       "  </tbody>\n",
       "</table>\n",
       "</div>"
      ],
      "text/plain": [
       "                      Predicted r/AskCulinary  Predicted r/Cooking\n",
       "Actual r/AskCulinary                      360                  112\n",
       "Actual r/Cooking                          170                  171"
      ]
     },
     "execution_count": 62,
     "metadata": {},
     "output_type": "execute_result"
    }
   ],
   "source": [
    "# Generating a confusion matrix on the test results\n",
    "\n",
    "create_confusion_matrix(y_test, tvec_xgbc_preds)"
   ]
  },
  {
   "cell_type": "markdown",
   "metadata": {},
   "source": [
    "This matrix is dramatically worse than the previous: the true positives increased, the true negatives and false positives decreased, and the false negatives increased."
   ]
  },
  {
   "cell_type": "markdown",
   "metadata": {},
   "source": [
    "[Top](#Table-Of-Contents)"
   ]
  },
  {
   "cell_type": "markdown",
   "metadata": {},
   "source": [
    "## Evaluation"
   ]
  },
  {
   "cell_type": "markdown",
   "metadata": {},
   "source": [
    "### Evaluation Functions"
   ]
  },
  {
   "cell_type": "code",
   "execution_count": 63,
   "metadata": {},
   "outputs": [],
   "source": [
    "# Plotting a bar plot of a model's scores\n",
    "\n",
    "def plot_scores(df, column, label):\n",
    "    \n",
    "    # Setting the figure size\n",
    "    plt.figure(figsize   = (21,7),\n",
    "               facecolor = \"white\")\n",
    "    \n",
    "    # Plotting the bar plot\n",
    "    sns.barplot(x    = df.index,\n",
    "                y    = column,\n",
    "                data = df)\n",
    "    \n",
    "    # Setting the baseline line\n",
    "    plt.axhline(41.89, \n",
    "                color = \"black\")\n",
    "    \n",
    "    # Setting graph parameters\n",
    "    plt.title(label, size = 20)\n",
    "    plt.xlabel(\"Model\", size = 18)\n",
    "    plt.ylabel(\"Score\", size = 18)\n",
    "    plt.xticks(size  = 14)\n",
    "    plt.yticks(ticks = np.arange(0,110,10), \n",
    "               size  = 14)"
   ]
  },
  {
   "cell_type": "code",
   "execution_count": 64,
   "metadata": {},
   "outputs": [],
   "source": [
    "# Generating scores and plotting the ROC curve\n",
    "\n",
    "def roc(model_prob, X_test, y_test, y_pred, title):\n",
    "    \n",
    "    # Calculating probabilities\n",
    "    model_prob    = [i[1] for i in model_prob.predict_proba(X_test)]\n",
    "    \n",
    "    # Creating a dataframeout of the true values & probas\n",
    "    model_pred_df = pd.DataFrame({\"true_values\": y_test,\n",
    "                                  \"pred_probs\" : model_prob})\n",
    "\n",
    "    # Setting threshold values    \n",
    "    thresholds = np.linspace(0, 1, 500) \n",
    "    \n",
    "    # Calculating the sensitivity\n",
    "    def true_positive_rate(df, true_col, pred_prob_col, threshold):\n",
    "        true_positive  = df[(df[true_col] == 1) & (df[pred_prob_col] >= threshold)].shape[0]\n",
    "        false_negative = df[(df[true_col] == 1) & (df[pred_prob_col] < threshold)].shape[0]\n",
    "        return true_positive / (true_positive + false_negative)\n",
    "    \n",
    "    # Calculating the false positives\n",
    "    def false_positive_rate(df, true_col, pred_prob_col, threshold):\n",
    "        true_negative  = df[(df[true_col] == 0) & (df[pred_prob_col] <= threshold)].shape[0]\n",
    "        false_positive = df[(df[true_col] == 0) & (df[pred_prob_col] > threshold)].shape[0]\n",
    "        return 1 - (true_negative / (true_negative + false_positive))\n",
    "    \n",
    "    # Calculating the sensitivity and false positives for each point in the threhold\n",
    "    tpr_values = [true_positive_rate(model_pred_df, \n",
    "                                     \"true_values\", \"pred_probs\", \n",
    "                                     prob) for prob in thresholds]\n",
    "    fpr_values = [false_positive_rate(model_pred_df, \n",
    "                                      'true_values', \n",
    "                                      \"pred_probs\", \n",
    "                                      prob) for prob in thresholds]\n",
    "\n",
    "    # Setting up the graph\n",
    "    plt.figure(figsize   = (13,7),\n",
    "               facecolor = \"white\")\n",
    "    \n",
    "    # Plotting the predicted\n",
    "    plt.plot(fpr_values, \n",
    "             tpr_values,\n",
    "             color = \"darkorange\",\n",
    "             label = \"ROC Curve\")\n",
    "    \n",
    "    # Setting the baseline\n",
    "    plt.plot(np.linspace(0, 1, 500),\n",
    "             np.linspace(0, 1, 500),\n",
    "             color     = \"darkblue\",\n",
    "             label     = \"Baseline\"),\n",
    "    \n",
    "    # Setting model parameters\n",
    "    plt.title(title, fontsize = 18)\n",
    "    plt.ylabel(\"Sensitivity\", size = 16)\n",
    "    plt.xlabel(\"1 - Specificity\", size = 16)\n",
    "    plt.xticks(size = 14)\n",
    "    plt.yticks(size = 14)\n",
    "    plt.legend(bbox_to_anchor = (1.04, 1), \n",
    "               loc            = \"upper left\",\n",
    "               fontsize       = 16)\n",
    "    plt.tight_layout()\n",
    "    \n",
    "# The code was modified from code written by Matt Brems during our lesson on classification metrics."
   ]
  },
  {
   "cell_type": "code",
   "execution_count": 65,
   "metadata": {},
   "outputs": [],
   "source": [
    "# This function allows for dataframes to be displayed side-by-side\n",
    "\n",
    "def display_side_by_side(*args):\n",
    "    html_str = ''\n",
    "    for df in args:\n",
    "        html_str += df.to_html()\n",
    "    display_html(html_str.replace('table', 'table style=\"display:inline\"'), raw = True)"
   ]
  },
  {
   "cell_type": "markdown",
   "metadata": {},
   "source": [
    "The code is from user `ntg` on StackOverflow.  [Here](https://stackoverflow.com/a/44923103) is the source."
   ]
  },
  {
   "cell_type": "markdown",
   "metadata": {},
   "source": [
    "### Dataframes"
   ]
  },
  {
   "cell_type": "code",
   "execution_count": 66,
   "metadata": {},
   "outputs": [],
   "source": [
    "# Count vectorizer metrics\n",
    "\n",
    "cvec_accuracy          = [accuracy_score(y_test, cvec_lr_preds), \n",
    "                          accuracy_score(y_test, cvec_svc_preds),\n",
    "                          accuracy_score(y_test, cvec_rf_preds), \n",
    "                          accuracy_score(y_test, cvec_xgbc_preds)]\n",
    "\n",
    "cvec_balanced_accuracy = [balanced_accuracy_score(y_test, cvec_lr_preds), \n",
    "                          balanced_accuracy_score(y_test, cvec_svc_preds),\n",
    "                          balanced_accuracy_score(y_test, cvec_rf_preds), \n",
    "                          balanced_accuracy_score(y_test, cvec_xgbc_preds)]\n",
    "\n",
    "cvec_specificity       = [specificity(y_test, cvec_lr_preds), \n",
    "                          specificity(y_test, cvec_svc_preds),\n",
    "                          specificity(y_test, cvec_rf_preds), \n",
    "                          specificity(y_test, cvec_xgbc_preds)]\n",
    "\n",
    "cvec_sensitivity       = [recall_score(y_test, cvec_lr_preds), \n",
    "                          recall_score(y_test, cvec_svc_preds),\n",
    "                          recall_score(y_test, cvec_rf_preds), \n",
    "                          recall_score(y_test, cvec_xgbc_preds)]\n",
    "\n",
    "cvec_f1_score          = [f1_score(y_test, cvec_lr_preds), \n",
    "                          f1_score(y_test, cvec_svc_preds),\n",
    "                          f1_score(y_test, cvec_rf_preds), \n",
    "                          f1_score(y_test, cvec_xgbc_preds)]\n",
    "\n",
    "cvec_rocauc_score      = [roc_auc_score(y_test, cvec_lr_preds),\n",
    "                          roc_auc_score(y_test, cvec_svc_preds),\n",
    "                          roc_auc_score(y_test, cvec_rf_preds),\n",
    "                          roc_auc_score(y_test, cvec_xgbc_preds)]"
   ]
  },
  {
   "cell_type": "code",
   "execution_count": 67,
   "metadata": {},
   "outputs": [],
   "source": [
    "# TFIDF vectorizer metrics\n",
    "\n",
    "tvec_accuracy          = [accuracy_score(y_test, tvec_lr_preds), \n",
    "                          accuracy_score(y_test, tvec_svc_preds),\n",
    "                          accuracy_score(y_test, tvec_rf_preds), \n",
    "                          accuracy_score(y_test, tvec_xgbc_preds)]\n",
    "\n",
    "tvec_balanced_accuracy = [balanced_accuracy_score(y_test, tvec_lr_preds), \n",
    "                          balanced_accuracy_score(y_test, tvec_svc_preds),\n",
    "                          balanced_accuracy_score(y_test, tvec_rf_preds), \n",
    "                          balanced_accuracy_score(y_test, tvec_xgbc_preds)]\n",
    "\n",
    "tvec_specificity       = [specificity(y_test, tvec_lr_preds), \n",
    "                          specificity(y_test, tvec_svc_preds),\n",
    "                          specificity(y_test, tvec_rf_preds), \n",
    "                          specificity(y_test, tvec_xgbc_preds)]\n",
    "\n",
    "tvec_sensitivity       = [recall_score(y_test, tvec_lr_preds), \n",
    "                          recall_score(y_test, tvec_svc_preds),\n",
    "                          recall_score(y_test, tvec_rf_preds), \n",
    "                          recall_score(y_test, tvec_xgbc_preds)]\n",
    "\n",
    "tvec_f1_score          = [f1_score(y_test, tvec_lr_preds), \n",
    "                          f1_score(y_test, tvec_svc_preds),\n",
    "                          f1_score(y_test, tvec_rf_preds), \n",
    "                          f1_score(y_test, tvec_xgbc_preds)]\n",
    "\n",
    "tvec_rocauc_score      = [roc_auc_score(y_test, tvec_lr_preds),\n",
    "                          roc_auc_score(y_test, tvec_svc_preds),\n",
    "                          roc_auc_score(y_test, tvec_rf_preds),\n",
    "                          roc_auc_score(y_test, tvec_xgbc_preds)]"
   ]
  },
  {
   "cell_type": "code",
   "execution_count": 68,
   "metadata": {},
   "outputs": [],
   "source": [
    "# Converting the lists into dataframes\n",
    "\n",
    "# A dataframe for the CVEC scores\n",
    "\n",
    "cvec_scores = pd.DataFrame(data    = [cvec_accuracy, cvec_balanced_accuracy, \n",
    "                                      cvec_specificity,cvec_sensitivity, cvec_f1_score],\n",
    "                           columns = [\"Log. Reg.\", \"SVC\", \"Random Forest\", \"XGBoost\"],\n",
    "                           index   = [\"Accuracy\", \"Balanced Accuracy\", \n",
    "                                      \"Specificity\", \"Sensitivity\", \"F1 Score\"])\n",
    "\n",
    "# A dataframe for the TVEC scores\n",
    "\n",
    "tvec_scores = pd.DataFrame(data    = [tvec_accuracy, tvec_balanced_accuracy, \n",
    "                                      tvec_specificity, tvec_sensitivity, tvec_f1_score,],\n",
    "                           columns = [\"Log. Reg.\", \"SVC\", \"Random Forest\", \"XGBoost\"],\n",
    "                           index   = [\"Accuracy\", \"Balanced Accuracy\", \n",
    "                                      \"Specificity\", \"Sensitivity\", \"F1 Score\"])"
   ]
  },
  {
   "cell_type": "code",
   "execution_count": 69,
   "metadata": {},
   "outputs": [
    {
     "data": {
      "text/html": [
       "<table style=\"display:inline\" border=\"1\" class=\"dataframe\">\n",
       "  <thead>\n",
       "    <tr style=\"text-align: right;\">\n",
       "      <th></th>\n",
       "      <th>Log. Reg.</th>\n",
       "      <th>SVC</th>\n",
       "      <th>Random Forest</th>\n",
       "      <th>XGBoost</th>\n",
       "    </tr>\n",
       "  </thead>\n",
       "  <tbody>\n",
       "    <tr>\n",
       "      <th>Accuracy</th>\n",
       "      <td>0.656827</td>\n",
       "      <td>0.665437</td>\n",
       "      <td>0.664207</td>\n",
       "      <td>0.649446</td>\n",
       "    </tr>\n",
       "    <tr>\n",
       "      <th>Balanced Accuracy</th>\n",
       "      <td>0.634453</td>\n",
       "      <td>0.636171</td>\n",
       "      <td>0.619241</td>\n",
       "      <td>0.615482</td>\n",
       "    </tr>\n",
       "    <tr>\n",
       "      <th>Specificity</th>\n",
       "      <td>0.773305</td>\n",
       "      <td>0.817797</td>\n",
       "      <td>0.898305</td>\n",
       "      <td>0.826271</td>\n",
       "    </tr>\n",
       "    <tr>\n",
       "      <th>Sensitivity</th>\n",
       "      <td>0.495601</td>\n",
       "      <td>0.454545</td>\n",
       "      <td>0.340176</td>\n",
       "      <td>0.404692</td>\n",
       "    </tr>\n",
       "    <tr>\n",
       "      <th>F1 Score</th>\n",
       "      <td>0.547812</td>\n",
       "      <td>0.532646</td>\n",
       "      <td>0.459406</td>\n",
       "      <td>0.491979</td>\n",
       "    </tr>\n",
       "  </tbody>\n",
       "</table style=\"display:inline\"><table style=\"display:inline\" border=\"1\" class=\"dataframe\">\n",
       "  <thead>\n",
       "    <tr style=\"text-align: right;\">\n",
       "      <th></th>\n",
       "      <th>Log. Reg.</th>\n",
       "      <th>SVC</th>\n",
       "      <th>Random Forest</th>\n",
       "      <th>XGBoost</th>\n",
       "    </tr>\n",
       "  </thead>\n",
       "  <tbody>\n",
       "    <tr>\n",
       "      <th>Accuracy</th>\n",
       "      <td>0.687577</td>\n",
       "      <td>0.602706</td>\n",
       "      <td>0.640836</td>\n",
       "      <td>0.653137</td>\n",
       "    </tr>\n",
       "    <tr>\n",
       "      <th>Balanced Accuracy</th>\n",
       "      <td>0.664192</td>\n",
       "      <td>0.552438</td>\n",
       "      <td>0.599113</td>\n",
       "      <td>0.632089</td>\n",
       "    </tr>\n",
       "    <tr>\n",
       "      <th>Specificity</th>\n",
       "      <td>0.809322</td>\n",
       "      <td>0.864407</td>\n",
       "      <td>0.858051</td>\n",
       "      <td>0.762712</td>\n",
       "    </tr>\n",
       "    <tr>\n",
       "      <th>Sensitivity</th>\n",
       "      <td>0.519062</td>\n",
       "      <td>0.240469</td>\n",
       "      <td>0.340176</td>\n",
       "      <td>0.501466</td>\n",
       "    </tr>\n",
       "    <tr>\n",
       "      <th>F1 Score</th>\n",
       "      <td>0.582237</td>\n",
       "      <td>0.336756</td>\n",
       "      <td>0.442748</td>\n",
       "      <td>0.548077</td>\n",
       "    </tr>\n",
       "  </tbody>\n",
       "</table style=\"display:inline\">"
      ]
     },
     "metadata": {},
     "output_type": "display_data"
    }
   ],
   "source": [
    "# Displaying the two dataframes side by side\n",
    "\n",
    "display_side_by_side(cvec_scores,\n",
    "                     tvec_scores)\n",
    "\n",
    "# The first table is the CVEC scores\n",
    "# The second table is the TVEC scores"
   ]
  },
  {
   "cell_type": "markdown",
   "metadata": {},
   "source": [
    "[Top](#Table-Of-Contents)"
   ]
  },
  {
   "cell_type": "markdown",
   "metadata": {},
   "source": [
    "### Best Model Selection"
   ]
  },
  {
   "cell_type": "markdown",
   "metadata": {},
   "source": [
    "We knew that our best model would be with the TFIDF vectorizer because the scores are generally better than with the count vectorizer.  However, picking the individual model was the tricky part.  We knew that the logistic regression was generally better but did have one of the lowest sensitivity scores.  However, in the end we decided that the logistic regression is the best model."
   ]
  },
  {
   "cell_type": "markdown",
   "metadata": {},
   "source": [
    "### Plots"
   ]
  },
  {
   "cell_type": "markdown",
   "metadata": {},
   "source": [
    "#### Bar Plots"
   ]
  },
  {
   "cell_type": "code",
   "execution_count": 70,
   "metadata": {},
   "outputs": [
    {
     "data": {
      "image/png": "[encoded data removed]",
      "text/plain": [
       "<Figure size 1512x504 with 1 Axes>"
      ]
     },
     "metadata": {},
     "output_type": "display_data"
    }
   ],
   "source": [
    "plot_scores(df     = tvec_scores*100,\n",
    "            column = \"Log. Reg.\",\n",
    "            label  = \"Logistic Regression - TVEC\")"
   ]
  },
  {
   "cell_type": "markdown",
   "metadata": {},
   "source": [
    "The horizontal black line represents the baseline accuracy which is the percentage of the data from the positive class, i.e. r/Cooking.  If the both accuracy metrics were less than the baseline accuracy it would indicate the model performs worse than randomly guessing 41.89% of the data is from r/Cooking.  However, both of our accuracy metrics are greater than that percentage so they out-performed the baseline.  That being said, the scores are not good and we cannot say that this model is especially accurate even though the it performed better than the other seven we ran.  Despite that, it is a good sign that the accuracy and balanced accuracy are close to each other.\n",
    "\n",
    "\n",
    "As mentioned above, `specificity` is the how many negative predictions were correct and `Sensitivity` is how many positive predictions are correct.  As we said with the confusion matrices, the models were better at predicting the negative class which is easily seen here.\n",
    "\n",
    "`F1 Score` is an accuracy measurement that takes into account the specificity and sensitivity ([here](https://en.wikipedia.org/wiki/F1_score) is an in-depth description of it).  The score is low because the negativity is much lower than the sensitivity which is also seen in the confusion matrices."
   ]
  },
  {
   "cell_type": "markdown",
   "metadata": {},
   "source": [
    "#### ROC Curve"
   ]
  },
  {
   "cell_type": "code",
   "execution_count": 71,
   "metadata": {},
   "outputs": [
    {
     "data": {
      "image/png": "[encoded data removed]",
      "text/plain": [
       "<Figure size 936x504 with 1 Axes>"
      ]
     },
     "metadata": {},
     "output_type": "display_data"
    }
   ],
   "source": [
    "# Generating the ROC-AUC score\n",
    "\n",
    "rocauc_score = round(roc_auc_score(y_test, tvec_lr_preds), 5)\n",
    "\n",
    "# Plotting the ROC curve with the score in the title\n",
    "\n",
    "roc(model_prob = tvec_lr_gs,\n",
    "    X_test     = X_test,\n",
    "    y_test     = y_test,\n",
    "    y_pred     = tvec_lr_preds,\n",
    "    title      = f\"ROC For TVEC Logistc Regression With A Score Of {rocauc_score}\")"
   ]
  },
  {
   "cell_type": "markdown",
   "metadata": {},
   "source": [
    "The ROC curve is a representation of the relationship between the true positives and the false positives.\n",
    "\n",
    "The low score indicates that the model is not very good at predicting the two classes, which we also saw from the confusion matrices.  Furthermore, the curve is close to the baseline; the baseline represents guessing which subreddit a post came from. Thus we hoped to have our curve be as far from the baseline as possible, ideally at a 90º angle.\n",
    "\n",
    "Because our best ROC-AUC score is 0.66419 it means that there is _significant_ overlap in the distributions of our classes."
   ]
  },
  {
   "cell_type": "markdown",
   "metadata": {},
   "source": [
    "[Top](#Table-Of-Contents)"
   ]
  }
 ],
 "metadata": {
  "kernelspec": {
   "display_name": "Python 3",
   "language": "python",
   "name": "python3"
  },
  "language_info": {
   "codemirror_mode": {
    "name": "ipython",
    "version": 3
   },
   "file_extension": ".py",
   "mimetype": "text/x-python",
   "name": "python",
   "nbconvert_exporter": "python",
   "pygments_lexer": "ipython3",
   "version": "3.6.8"
  }
 },
 "nbformat": 4,
 "nbformat_minor": 2
}
