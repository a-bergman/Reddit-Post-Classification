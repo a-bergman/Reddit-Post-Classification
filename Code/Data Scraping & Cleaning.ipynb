{
 "cells": [
  {
   "cell_type": "markdown",
   "metadata": {},
   "source": [
    "# Part 1: Scraping & Preprocessing"
   ]
  },
  {
   "cell_type": "markdown",
   "metadata": {},
   "source": [
    "## Imports"
   ]
  },
  {
   "cell_type": "code",
   "execution_count": 1,
   "metadata": {},
   "outputs": [
    {
     "data": {
      "text/html": [
       "<style>.container { width:95% !important; }</style>"
      ],
      "text/plain": [
       "<IPython.core.display.HTML object>"
      ]
     },
     "metadata": {},
     "output_type": "display_data"
    }
   ],
   "source": [
    "import time\n",
    "import pandas             as pd\n",
    "import requests           as re\n",
    "from IPython.core.display import display, HTML\n",
    "display(HTML(\"<style>.container { width:95% !important; }</style>\"))"
   ]
  },
  {
   "cell_type": "markdown",
   "metadata": {},
   "source": [
    "## Table Of Contents\n",
    "\n",
    "\n",
    "- [Scraping The Reddit API](#Scraping-The-Reddit-API)\n",
    "    - [URLs & The User_Agent](#URLs-&-The-User-Agent)\n",
    "    - [Requests](#Requests)\n",
    "    - [Saving The Data](#Saving-The-Data)\n",
    "    - [Scraping](#Scraping)\n",
    "    - [Conversion To Dataframes](#Conversion-To-Dataframes)\n",
    "\n",
    "\n",
    "- [Formatting](#Formatting)\n",
    "    - [Column Extraction](#Column-Extraction)\n",
    "    - [Creating New .csv Files](#Creating-New-.csv-Files)\n",
    "\n",
    "\n",
    "- [Data Cleaning](#Data-Cleaning)\n",
    "    - [Reading In The Data](#Reading-In-The-Data)\n",
    "    - [Concatenating The Dataframes](#Concatenating-The-Dataframes)\n",
    "    - [Cleaning](#Cleaning)\n",
    "    - [Creating A Modeling Dataframe](#Creating-A-Modeling-Dataframe)"
   ]
  },
  {
   "cell_type": "markdown",
   "metadata": {},
   "source": [
    "## Scraping The Reddit API"
   ]
  },
  {
   "cell_type": "markdown",
   "metadata": {},
   "source": [
    "Reddit keeps raw data of all posts in a JSON format.  The documentation for its API can be found [here](https://www.reddit.com/dev/api/).\n",
    "\n",
    "Before we can start working with Reddit's API data, we have to set up a request for the data."
   ]
  },
  {
   "cell_type": "markdown",
   "metadata": {},
   "source": [
    "### URLs & The User_Agent"
   ]
  },
  {
   "cell_type": "markdown",
   "metadata": {},
   "source": [
    "Because we will be classifying posts from [r/Cooking](https://www.reddit.com/r/Cooking/) and [r/AskCulinary](https://www.reddit.com/r/AskCulinary), we need to have a URL and a `user_agent` for both subreddits."
   ]
  },
  {
   "cell_type": "code",
   "execution_count": 2,
   "metadata": {},
   "outputs": [],
   "source": [
    "# For r/Cooking\n",
    "\n",
    "cooking_url = \"http://reddit.com/r/Cooking.json\"   \n",
    "user_agent  = {\"user-agent\": \"andrew_bergman\"}                        \n",
    "\n",
    "# For r/AskCulinary\n",
    "\n",
    "askculinary_url = \"http://reddit.com/r/AskCulinary.json\"\n",
    "user_agent      = {\"user-agent\": \"andrew_bergman\"}"
   ]
  },
  {
   "cell_type": "markdown",
   "metadata": {},
   "source": [
    "### Requests"
   ]
  },
  {
   "cell_type": "markdown",
   "metadata": {},
   "source": [
    "Now that we actually have the data, we can go ahead and set up the request which is just a simple HTML request through the `requests` library; we will print out the status and hopefully get a status of 200."
   ]
  },
  {
   "cell_type": "code",
   "execution_count": 3,
   "metadata": {},
   "outputs": [
    {
     "name": "stdout",
     "output_type": "stream",
     "text": [
      "The r/Cooking status code is    : 200\n",
      "The r/AskCulinary status code is: 200\n"
     ]
    }
   ],
   "source": [
    "# The r/Cooking request\n",
    "\n",
    "cooking_request      = re.get(url     = cooking_url, \n",
    "                              headers = user_agent)\n",
    "\n",
    "# The r/ AskCulinary request\n",
    "\n",
    "askculinary_request  = re.get(url     = askculinary_url, \n",
    "                              headers = user_agent)\n",
    "\n",
    "# Print status codes\n",
    "\n",
    "print(f\"The r/Cooking status code is    : {cooking_request.status_code}\")\n",
    "print(f\"The r/AskCulinary status code is: {askculinary_request.status_code}\")"
   ]
  },
  {
   "cell_type": "markdown",
   "metadata": {},
   "source": [
    "### Saving The Data"
   ]
  },
  {
   "cell_type": "markdown",
   "metadata": {},
   "source": [
    "Now that we have two working requests, we can go ahead and save the data as a variable.  To do that, we will convert the data to a JSON object and save that as the variable.\n",
    "\n",
    "\n",
    "Because we already have some older posts, we will be adding the new pulls to our old ones."
   ]
  },
  {
   "cell_type": "code",
   "execution_count": 4,
   "metadata": {},
   "outputs": [
    {
     "name": "stdout",
     "output_type": "stream",
     "text": [
      "The initial r/Cooking request returned    : 25\n",
      "The initial r/AskCulinary request returned: 27\n"
     ]
    }
   ],
   "source": [
    "# Saving the new r/Cooking data\n",
    "\n",
    "new_cooking_data     = cooking_request.json()\n",
    "\n",
    "# Saving the new r/AskCulinary data\n",
    "\n",
    "new_askculinary_data = askculinary_request.json()\n",
    "\n",
    "\n",
    "# Checking to make sure I got 25 posts from my first pull\n",
    "\n",
    "print(f'The initial r/Cooking request returned    : {len(new_cooking_data[\"data\"][\"children\"])}')\n",
    "print(f'The initial r/AskCulinary request returned: {len(new_askculinary_data[\"data\"][\"children\"])}')"
   ]
  },
  {
   "cell_type": "code",
   "execution_count": 5,
   "metadata": {},
   "outputs": [
    {
     "name": "stdout",
     "output_type": "stream",
     "text": [
      "The r/Cooking ID is    : t3_d04ht7\n",
      "The r/AskCulinary ID is: t3_czuzx0\n"
     ]
    }
   ],
   "source": [
    "# Looking at the `id`s from both pulls\n",
    "\n",
    "print(f'The r/Cooking ID is    : {new_cooking_data[\"data\"][\"after\"]}')\n",
    "print(f'The r/AskCulinary ID is: {new_askculinary_data[\"data\"][\"after\"]}')"
   ]
  },
  {
   "cell_type": "markdown",
   "metadata": {},
   "source": [
    "### Scraping"
   ]
  },
  {
   "cell_type": "markdown",
   "metadata": {},
   "source": [
    "The Reddit API allows for 1,000 posts to be scraped per subreddit per day.  In total we will have roughly 2,000 posts in addition to the older scraped data.\n",
    "\n",
    "To make the scraping easier, we made use of a `for` loop to scrape the API 40 times."
   ]
  },
  {
   "cell_type": "code",
   "execution_count": 6,
   "metadata": {},
   "outputs": [
    {
     "name": "stdout",
     "output_type": "stream",
     "text": [
      "Pull Attempt 1\n",
      "Pull Attempt 2\n",
      "Pull Attempt 3\n",
      "Pull Attempt 4\n",
      "Pull Attempt 5\n",
      "Pull Attempt 6\n",
      "Pull Attempt 7\n",
      "Pull Attempt 8\n",
      "Pull Attempt 9\n",
      "Pull Attempt 10\n",
      "Pull Attempt 11\n",
      "Pull Attempt 12\n",
      "Pull Attempt 13\n",
      "Pull Attempt 14\n",
      "Pull Attempt 15\n",
      "Pull Attempt 16\n",
      "Pull Attempt 17\n",
      "Pull Attempt 18\n",
      "Pull Attempt 19\n",
      "Pull Attempt 20\n",
      "Pull Attempt 21\n",
      "Pull Attempt 22\n",
      "Pull Attempt 23\n",
      "Pull Attempt 24\n",
      "Pull Attempt 25\n",
      "Pull Attempt 26\n",
      "Pull Attempt 27\n",
      "Pull Attempt 28\n",
      "Pull Attempt 29\n",
      "Pull Attempt 30\n",
      "Pull Attempt 31\n",
      "Pull Attempt 32\n",
      "Pull Attempt 33\n",
      "Pull Attempt 34\n",
      "Pull Attempt 35\n",
      "Pull Attempt 36\n",
      "Pull Attempt 37\n",
      "Pull Attempt 38\n",
      "Pull Attempt 39\n",
      "Pull Attempt 40\n"
     ]
    }
   ],
   "source": [
    "# Scraping r/Cooking\n",
    "\n",
    "# Creating an empty list to save the scraped posts to\n",
    "new_cooking_posts = []\n",
    "\n",
    "# Setting it to `None` for use in the loop\n",
    "after         = None\n",
    "\n",
    "for pull in range(40):\n",
    "    \n",
    "    # Tells us the post being scraped in case of errors\n",
    "    print(f\"Pull Attempt {pull + 1}\")\n",
    "    \n",
    "    if after == None:\n",
    "        \n",
    "        # Sets up the initial loop\n",
    "        new_url = cooking_url\n",
    "        \n",
    "    else:\n",
    "        \n",
    "        # Allows for the creation of the next pull\n",
    "        new_url = cooking_url + \"?after=\" + after\n",
    "        \n",
    "    # Resetting the request    \n",
    "    request = re.get(url = new_url, headers = user_agent)\n",
    "    \n",
    "    # Only works if the status is good\n",
    "    if request.status_code == 200:\n",
    "        # creates a new dictionary & then appends it to the empty list\n",
    "        new_cooking_data = request.json()\n",
    "        new_cooking_posts.extend(new_cooking_data[\"data\"][\"children\"])\n",
    "        \n",
    "        # Sets a new after value\n",
    "        after = new_cooking_data[\"data\"][\"after\"]\n",
    "        \n",
    "    else:\n",
    "        print(f\"An Error Has Occurred.  Error Code {request.status_code}\")\n",
    "        break\n",
    "        \n",
    "    # Setting a sleep time prevents me from being interpretted as a bot        \n",
    "    time.sleep(2)"
   ]
  },
  {
   "cell_type": "markdown",
   "metadata": {},
   "source": [
    "[Top](#Table-Of-Contents)"
   ]
  },
  {
   "cell_type": "code",
   "execution_count": 7,
   "metadata": {},
   "outputs": [
    {
     "name": "stdout",
     "output_type": "stream",
     "text": [
      "Pull Attempt 1\n",
      "Pull Attempt 2\n",
      "Pull Attempt 3\n",
      "Pull Attempt 4\n",
      "Pull Attempt 5\n",
      "Pull Attempt 6\n",
      "Pull Attempt 7\n",
      "Pull Attempt 8\n",
      "Pull Attempt 9\n",
      "Pull Attempt 10\n",
      "Pull Attempt 11\n",
      "Pull Attempt 12\n",
      "Pull Attempt 13\n",
      "Pull Attempt 14\n",
      "Pull Attempt 15\n",
      "Pull Attempt 16\n",
      "Pull Attempt 17\n",
      "Pull Attempt 18\n",
      "Pull Attempt 19\n",
      "Pull Attempt 20\n",
      "Pull Attempt 21\n",
      "Pull Attempt 22\n",
      "Pull Attempt 23\n",
      "Pull Attempt 24\n",
      "Pull Attempt 25\n",
      "Pull Attempt 26\n",
      "Pull Attempt 27\n",
      "Pull Attempt 28\n",
      "Pull Attempt 29\n",
      "Pull Attempt 30\n",
      "Pull Attempt 31\n",
      "Pull Attempt 32\n",
      "Pull Attempt 33\n",
      "Pull Attempt 34\n",
      "Pull Attempt 35\n",
      "Pull Attempt 36\n",
      "Pull Attempt 37\n",
      "Pull Attempt 38\n",
      "Pull Attempt 39\n",
      "Pull Attempt 40\n"
     ]
    }
   ],
   "source": [
    "# For r/AskCulinary\n",
    "\n",
    "new_askculinary_posts = []\n",
    "after             = None\n",
    "\n",
    "for pull in range(40):\n",
    "    print(f\"Pull Attempt {pull + 1}\")\n",
    "    if after == None:    \n",
    "        new_url = askculinary_url\n",
    "    else:\n",
    "        new_url = askculinary_url + \"?after=\" + after\n",
    "    new_askculinary_request = re.get(url = new_url, headers = user_agent)\n",
    "    if new_askculinary_request.status_code == 200:\n",
    "        new_askculinary_data = new_askculinary_request.json()\n",
    "        new_askculinary_posts.extend(new_askculinary_data[\"data\"][\"children\"])\n",
    "        after = new_askculinary_data[\"data\"][\"after\"]\n",
    "    else:\n",
    "        print(f\"An Error Has Occurred.  Error Code {askculinary_request.status_code}\")\n",
    "        break\n",
    "    time.sleep(2)"
   ]
  },
  {
   "cell_type": "markdown",
   "metadata": {},
   "source": [
    "### Conversion To Dataframes"
   ]
  },
  {
   "cell_type": "markdown",
   "metadata": {},
   "source": [
    "Now that we have 1,000 posts from each subreddit, we chose to save them as Pandas dataframes because it is easier to manipulate them in that format: the entirety of each dictionary will be saved in a single row.  Despite that, we will be able to extract data we want."
   ]
  },
  {
   "cell_type": "code",
   "execution_count": 8,
   "metadata": {},
   "outputs": [],
   "source": [
    "# For r/Cooking posts\n",
    "\n",
    "new_cooking_data     = pd.DataFrame(new_cooking_posts)\n",
    "\n",
    "# For r/AskCulinary posts\n",
    "\n",
    "new_askculinary_data = pd.DataFrame(new_askculinary_posts)"
   ]
  },
  {
   "cell_type": "markdown",
   "metadata": {},
   "source": [
    "[Top](#Table-Of-Contents)"
   ]
  },
  {
   "cell_type": "markdown",
   "metadata": {},
   "source": [
    "## Formatting"
   ]
  },
  {
   "cell_type": "markdown",
   "metadata": {},
   "source": [
    "As mentioned above, the entirety of each post is stored as a single cell in the dataframes and for that reason we will have to extract the data we want.  To do that, we will use list comprehensions and then set the comprehensions as a new column in the dataframe."
   ]
  },
  {
   "cell_type": "markdown",
   "metadata": {},
   "source": [
    "### Column Extraction\n"
   ]
  },
  {
   "cell_type": "markdown",
   "metadata": {},
   "source": [
    "The full dictionary for each post has a lot of key-value pairs, but we only need four: `id`, `author`, `title`, and `selftext`.\n",
    "\n",
    "While most subreddits are image or video based, we are lucky in that r/Cooking and r/AskCulinary are primarily text based communities: in addition to the title we have a body of text written by the author."
   ]
  },
  {
   "cell_type": "code",
   "execution_count": 9,
   "metadata": {},
   "outputs": [],
   "source": [
    "# For the r/Cooking data\n",
    "\n",
    "# Using list comprehension to create new columns\n",
    "\n",
    "cooking_id    = [new_cooking_data['data'][post]['id'] for post in range(len(new_cooking_data['data']))]\n",
    "cooking_auth  = [new_cooking_data['data'][post]['author'] for post in range(len(new_cooking_data['data']))]\n",
    "cooking_title = [new_cooking_data['data'][post]['title'] for post in range(len(new_cooking_data['data']))]\n",
    "cooking_self  = [new_cooking_data['data'][post]['selftext'] for post in range(len(new_cooking_data['data']))]\n",
    "\n",
    "# Creating new columns and setting them equal to the list comprehension results\n",
    "\n",
    "new_cooking_data[\"id\"]       = cooking_id\n",
    "new_cooking_data[\"title\"]    = cooking_title\n",
    "new_cooking_data[\"selftext\"] = cooking_self\n",
    "new_cooking_data[\"author\"]   = cooking_auth\n",
    "new_cooking_data[\"source\"]   = \"cooking\""
   ]
  },
  {
   "cell_type": "code",
   "execution_count": 10,
   "metadata": {},
   "outputs": [],
   "source": [
    "# For the r/AskCulinary data:\n",
    "\n",
    "# Using list comprehension to create new columns\n",
    "\n",
    "askcul_id    = [new_askculinary_data['data'][post]['id'] for post in range(len(new_askculinary_data['data']))]\n",
    "askcul_auth  = [new_askculinary_data['data'][post]['author'] for post in range(len(new_askculinary_data['data']))]\n",
    "askcul_title = [new_askculinary_data['data'][post]['title'] for post in range(len(new_askculinary_data['data']))]\n",
    "askcul_self  = [new_askculinary_data['data'][post]['selftext'] for post in range(len(new_askculinary_data['data']))]\n",
    "\n",
    "# Creating new columns and setting them equal to the list comprehension results\n",
    "\n",
    "new_askculinary_data[\"id\"]       = askcul_id\n",
    "new_askculinary_data[\"title\"]    = askcul_title\n",
    "new_askculinary_data[\"selftext\"] = askcul_self\n",
    "new_askculinary_data[\"author\"]   = askcul_auth\n",
    "new_askculinary_data[\"source\"]   = \"askculinary\""
   ]
  },
  {
   "cell_type": "code",
   "execution_count": 11,
   "metadata": {},
   "outputs": [
    {
     "name": "stdout",
     "output_type": "stream",
     "text": [
      "The r/Cooking data is a    : <class 'pandas.core.frame.DataFrame'>\n",
      "The r/AskCulinary data is a: <class 'pandas.core.frame.DataFrame'>\n"
     ]
    }
   ],
   "source": [
    "# Checking to make sure that the two are dataframs\n",
    "\n",
    "print(f\"The r/Cooking data is a    : {type(new_cooking_data)}\")\n",
    "print(f\"The r/AskCulinary data is a: {type(new_askculinary_data)}\")"
   ]
  },
  {
   "cell_type": "code",
   "execution_count": 12,
   "metadata": {},
   "outputs": [
    {
     "data": {
      "text/html": [
       "<div>\n",
       "<style scoped>\n",
       "    .dataframe tbody tr th:only-of-type {\n",
       "        vertical-align: middle;\n",
       "    }\n",
       "\n",
       "    .dataframe tbody tr th {\n",
       "        vertical-align: top;\n",
       "    }\n",
       "\n",
       "    .dataframe thead th {\n",
       "        text-align: right;\n",
       "    }\n",
       "</style>\n",
       "<table border=\"1\" class=\"dataframe\">\n",
       "  <thead>\n",
       "    <tr style=\"text-align: right;\">\n",
       "      <th></th>\n",
       "      <th>kind</th>\n",
       "      <th>data</th>\n",
       "      <th>id</th>\n",
       "      <th>title</th>\n",
       "      <th>selftext</th>\n",
       "      <th>author</th>\n",
       "      <th>source</th>\n",
       "    </tr>\n",
       "  </thead>\n",
       "  <tbody>\n",
       "    <tr>\n",
       "      <th>0</th>\n",
       "      <td>t3</td>\n",
       "      <td>{'approved_at_utc': None, 'subreddit': 'Cookin...</td>\n",
       "      <td>czue8a</td>\n",
       "      <td>My mom just boiled potatoes for 45 mins for ma...</td>\n",
       "      <td>It's water now.</td>\n",
       "      <td>CashewBaby</td>\n",
       "      <td>cooking</td>\n",
       "    </tr>\n",
       "    <tr>\n",
       "      <th>1</th>\n",
       "      <td>t3</td>\n",
       "      <td>{'approved_at_utc': None, 'subreddit': 'Cookin...</td>\n",
       "      <td>czz7xx</td>\n",
       "      <td>Recipe: The Original Hot &amp;amp; Sour Soup, Wuxi...</td>\n",
       "      <td>So today I wanted to show you how to make Hot ...</td>\n",
       "      <td>mthmchris</td>\n",
       "      <td>cooking</td>\n",
       "    </tr>\n",
       "    <tr>\n",
       "      <th>2</th>\n",
       "      <td>t3</td>\n",
       "      <td>{'approved_at_utc': None, 'subreddit': 'Cookin...</td>\n",
       "      <td>d05rzq</td>\n",
       "      <td>What do you look for in 'food/recipe blogging'?</td>\n",
       "      <td>Hey there!\\n\\nI hope this relates enough to r/...</td>\n",
       "      <td>ijnyh</td>\n",
       "      <td>cooking</td>\n",
       "    </tr>\n",
       "    <tr>\n",
       "      <th>3</th>\n",
       "      <td>t3</td>\n",
       "      <td>{'approved_at_utc': None, 'subreddit': 'Cookin...</td>\n",
       "      <td>d00t78</td>\n",
       "      <td>[New to cooking] When I eat out at a restauran...</td>\n",
       "      <td>I cook my chicken in a skillet, on med-high he...</td>\n",
       "      <td>-angry-dude</td>\n",
       "      <td>cooking</td>\n",
       "    </tr>\n",
       "    <tr>\n",
       "      <th>4</th>\n",
       "      <td>t3</td>\n",
       "      <td>{'approved_at_utc': None, 'subreddit': 'Cookin...</td>\n",
       "      <td>czkuk6</td>\n",
       "      <td>What's a home-cooked meal you've never seen in...</td>\n",
       "      <td>Originally had this as a comment, but for me i...</td>\n",
       "      <td>faitswulff</td>\n",
       "      <td>cooking</td>\n",
       "    </tr>\n",
       "  </tbody>\n",
       "</table>\n",
       "</div>"
      ],
      "text/plain": [
       "  kind                                               data      id  \\\n",
       "0   t3  {'approved_at_utc': None, 'subreddit': 'Cookin...  czue8a   \n",
       "1   t3  {'approved_at_utc': None, 'subreddit': 'Cookin...  czz7xx   \n",
       "2   t3  {'approved_at_utc': None, 'subreddit': 'Cookin...  d05rzq   \n",
       "3   t3  {'approved_at_utc': None, 'subreddit': 'Cookin...  d00t78   \n",
       "4   t3  {'approved_at_utc': None, 'subreddit': 'Cookin...  czkuk6   \n",
       "\n",
       "                                               title  \\\n",
       "0  My mom just boiled potatoes for 45 mins for ma...   \n",
       "1  Recipe: The Original Hot &amp; Sour Soup, Wuxi...   \n",
       "2    What do you look for in 'food/recipe blogging'?   \n",
       "3  [New to cooking] When I eat out at a restauran...   \n",
       "4  What's a home-cooked meal you've never seen in...   \n",
       "\n",
       "                                            selftext       author   source  \n",
       "0                                    It's water now.   CashewBaby  cooking  \n",
       "1  So today I wanted to show you how to make Hot ...    mthmchris  cooking  \n",
       "2  Hey there!\\n\\nI hope this relates enough to r/...        ijnyh  cooking  \n",
       "3  I cook my chicken in a skillet, on med-high he...  -angry-dude  cooking  \n",
       "4  Originally had this as a comment, but for me i...   faitswulff  cooking  "
      ]
     },
     "execution_count": 12,
     "metadata": {},
     "output_type": "execute_result"
    }
   ],
   "source": [
    "# Checking the format of the r/Cooking data\n",
    "\n",
    "new_cooking_data.head()"
   ]
  },
  {
   "cell_type": "code",
   "execution_count": 13,
   "metadata": {},
   "outputs": [
    {
     "data": {
      "text/html": [
       "<div>\n",
       "<style scoped>\n",
       "    .dataframe tbody tr th:only-of-type {\n",
       "        vertical-align: middle;\n",
       "    }\n",
       "\n",
       "    .dataframe tbody tr th {\n",
       "        vertical-align: top;\n",
       "    }\n",
       "\n",
       "    .dataframe thead th {\n",
       "        text-align: right;\n",
       "    }\n",
       "</style>\n",
       "<table border=\"1\" class=\"dataframe\">\n",
       "  <thead>\n",
       "    <tr style=\"text-align: right;\">\n",
       "      <th></th>\n",
       "      <th>kind</th>\n",
       "      <th>data</th>\n",
       "      <th>id</th>\n",
       "      <th>title</th>\n",
       "      <th>selftext</th>\n",
       "      <th>author</th>\n",
       "      <th>source</th>\n",
       "    </tr>\n",
       "  </thead>\n",
       "  <tbody>\n",
       "    <tr>\n",
       "      <th>0</th>\n",
       "      <td>t3</td>\n",
       "      <td>{'approved_at_utc': None, 'subreddit': 'AskCul...</td>\n",
       "      <td>61bcic</td>\n",
       "      <td>/r/AskCulinary best practices guide</td>\n",
       "      <td>/r/AskCulinary is well over 100,000 subscriber...</td>\n",
       "      <td>bigtcm</td>\n",
       "      <td>askculinary</td>\n",
       "    </tr>\n",
       "    <tr>\n",
       "      <th>1</th>\n",
       "      <td>t3</td>\n",
       "      <td>{'approved_at_utc': None, 'subreddit': 'AskCul...</td>\n",
       "      <td>cyupiv</td>\n",
       "      <td>Weekly discussion: homemade pastas / noodles</td>\n",
       "      <td>Fresh pasta/noodles aren't the most approachab...</td>\n",
       "      <td>albino-rhino</td>\n",
       "      <td>askculinary</td>\n",
       "    </tr>\n",
       "    <tr>\n",
       "      <th>2</th>\n",
       "      <td>t3</td>\n",
       "      <td>{'approved_at_utc': None, 'subreddit': 'AskCul...</td>\n",
       "      <td>d0152m</td>\n",
       "      <td>Was recently in Italy and most tiramisu looks ...</td>\n",
       "      <td></td>\n",
       "      <td>PumbaPLS</td>\n",
       "      <td>askculinary</td>\n",
       "    </tr>\n",
       "    <tr>\n",
       "      <th>3</th>\n",
       "      <td>t3</td>\n",
       "      <td>{'approved_at_utc': None, 'subreddit': 'AskCul...</td>\n",
       "      <td>d041lu</td>\n",
       "      <td>Can i deep fry duck like chicken?</td>\n",
       "      <td>I want to try and deep fry Duck in the same wa...</td>\n",
       "      <td>HTKTHEPRODUCER</td>\n",
       "      <td>askculinary</td>\n",
       "    </tr>\n",
       "    <tr>\n",
       "      <th>4</th>\n",
       "      <td>t3</td>\n",
       "      <td>{'approved_at_utc': None, 'subreddit': 'AskCul...</td>\n",
       "      <td>czrsd2</td>\n",
       "      <td>Maple syrup is a Spring food. So why do we ass...</td>\n",
       "      <td>Was doing some research but couldn't find hist...</td>\n",
       "      <td>shiva14b</td>\n",
       "      <td>askculinary</td>\n",
       "    </tr>\n",
       "  </tbody>\n",
       "</table>\n",
       "</div>"
      ],
      "text/plain": [
       "  kind                                               data      id  \\\n",
       "0   t3  {'approved_at_utc': None, 'subreddit': 'AskCul...  61bcic   \n",
       "1   t3  {'approved_at_utc': None, 'subreddit': 'AskCul...  cyupiv   \n",
       "2   t3  {'approved_at_utc': None, 'subreddit': 'AskCul...  d0152m   \n",
       "3   t3  {'approved_at_utc': None, 'subreddit': 'AskCul...  d041lu   \n",
       "4   t3  {'approved_at_utc': None, 'subreddit': 'AskCul...  czrsd2   \n",
       "\n",
       "                                               title  \\\n",
       "0                /r/AskCulinary best practices guide   \n",
       "1       Weekly discussion: homemade pastas / noodles   \n",
       "2  Was recently in Italy and most tiramisu looks ...   \n",
       "3                  Can i deep fry duck like chicken?   \n",
       "4  Maple syrup is a Spring food. So why do we ass...   \n",
       "\n",
       "                                            selftext          author  \\\n",
       "0  /r/AskCulinary is well over 100,000 subscriber...          bigtcm   \n",
       "1  Fresh pasta/noodles aren't the most approachab...    albino-rhino   \n",
       "2                                                           PumbaPLS   \n",
       "3  I want to try and deep fry Duck in the same wa...  HTKTHEPRODUCER   \n",
       "4  Was doing some research but couldn't find hist...        shiva14b   \n",
       "\n",
       "        source  \n",
       "0  askculinary  \n",
       "1  askculinary  \n",
       "2  askculinary  \n",
       "3  askculinary  \n",
       "4  askculinary  "
      ]
     },
     "execution_count": 13,
     "metadata": {},
     "output_type": "execute_result"
    }
   ],
   "source": [
    "# Checking the format of the r/AskCulinary data\n",
    "\n",
    "new_askculinary_data.head()"
   ]
  },
  {
   "cell_type": "markdown",
   "metadata": {},
   "source": [
    "The first and second rows of the r/AskCulinary dataframe are stickied posts which have to be removed."
   ]
  },
  {
   "cell_type": "code",
   "execution_count": 14,
   "metadata": {},
   "outputs": [],
   "source": [
    "new_askculinary_data.drop([0,1], \n",
    "                          inplace = True)"
   ]
  },
  {
   "cell_type": "code",
   "execution_count": 15,
   "metadata": {},
   "outputs": [
    {
     "data": {
      "text/html": [
       "<div>\n",
       "<style scoped>\n",
       "    .dataframe tbody tr th:only-of-type {\n",
       "        vertical-align: middle;\n",
       "    }\n",
       "\n",
       "    .dataframe tbody tr th {\n",
       "        vertical-align: top;\n",
       "    }\n",
       "\n",
       "    .dataframe thead th {\n",
       "        text-align: right;\n",
       "    }\n",
       "</style>\n",
       "<table border=\"1\" class=\"dataframe\">\n",
       "  <thead>\n",
       "    <tr style=\"text-align: right;\">\n",
       "      <th></th>\n",
       "      <th>kind</th>\n",
       "      <th>data</th>\n",
       "      <th>id</th>\n",
       "      <th>title</th>\n",
       "      <th>selftext</th>\n",
       "      <th>author</th>\n",
       "      <th>source</th>\n",
       "    </tr>\n",
       "  </thead>\n",
       "  <tbody>\n",
       "    <tr>\n",
       "      <th>2</th>\n",
       "      <td>t3</td>\n",
       "      <td>{'approved_at_utc': None, 'subreddit': 'AskCul...</td>\n",
       "      <td>d0152m</td>\n",
       "      <td>Was recently in Italy and most tiramisu looks ...</td>\n",
       "      <td></td>\n",
       "      <td>PumbaPLS</td>\n",
       "      <td>askculinary</td>\n",
       "    </tr>\n",
       "    <tr>\n",
       "      <th>3</th>\n",
       "      <td>t3</td>\n",
       "      <td>{'approved_at_utc': None, 'subreddit': 'AskCul...</td>\n",
       "      <td>d041lu</td>\n",
       "      <td>Can i deep fry duck like chicken?</td>\n",
       "      <td>I want to try and deep fry Duck in the same wa...</td>\n",
       "      <td>HTKTHEPRODUCER</td>\n",
       "      <td>askculinary</td>\n",
       "    </tr>\n",
       "  </tbody>\n",
       "</table>\n",
       "</div>"
      ],
      "text/plain": [
       "  kind                                               data      id  \\\n",
       "2   t3  {'approved_at_utc': None, 'subreddit': 'AskCul...  d0152m   \n",
       "3   t3  {'approved_at_utc': None, 'subreddit': 'AskCul...  d041lu   \n",
       "\n",
       "                                               title  \\\n",
       "2  Was recently in Italy and most tiramisu looks ...   \n",
       "3                  Can i deep fry duck like chicken?   \n",
       "\n",
       "                                            selftext          author  \\\n",
       "2                                                           PumbaPLS   \n",
       "3  I want to try and deep fry Duck in the same wa...  HTKTHEPRODUCER   \n",
       "\n",
       "        source  \n",
       "2  askculinary  \n",
       "3  askculinary  "
      ]
     },
     "execution_count": 15,
     "metadata": {},
     "output_type": "execute_result"
    }
   ],
   "source": [
    "new_askculinary_data.head(2)"
   ]
  },
  {
   "cell_type": "markdown",
   "metadata": {},
   "source": [
    "### Creating New .csv Files"
   ]
  },
  {
   "cell_type": "code",
   "execution_count": 16,
   "metadata": {},
   "outputs": [],
   "source": [
    "# Creating a r/Cooking .csv file\n",
    "\n",
    "new_cooking_data.to_csv(\"../Data/new_cooking_df.csv\")\n",
    "\n",
    "# Creating a r/AskCulinary .csv file\n",
    "\n",
    "new_askculinary_data.to_csv(\"../Data/new_askculinary_df.csv\")"
   ]
  },
  {
   "cell_type": "markdown",
   "metadata": {},
   "source": [
    "[Top](#Table-Of-Contents)"
   ]
  },
  {
   "cell_type": "markdown",
   "metadata": {},
   "source": [
    "## Data Cleaning"
   ]
  },
  {
   "cell_type": "markdown",
   "metadata": {},
   "source": [
    "### Reading In The Data"
   ]
  },
  {
   "cell_type": "code",
   "execution_count": 17,
   "metadata": {},
   "outputs": [],
   "source": [
    "# The r/Cooking data\n",
    "\n",
    "old_cooking_data = pd.read_csv(\"../Data/cooking_df.csv\")\n",
    "new_cooking_data = pd.read_csv(\"../Data/new_cooking_df.csv\")\n",
    "\n",
    "# The r/AskCulinary data\n",
    "\n",
    "old_askculinary_data = pd.read_csv(\"../Data/askculinary_df.csv\")\n",
    "new_askculinary_data = pd.read_csv(\"../Data/new_askculinary_df.csv\")"
   ]
  },
  {
   "cell_type": "code",
   "execution_count": 18,
   "metadata": {},
   "outputs": [
    {
     "name": "stdout",
     "output_type": "stream",
     "text": [
      "The shape of the new r/Cooking dataframe is    : (980, 8)\n",
      "The shape of the new r/Askculinary dataframe is: (995, 8)\n",
      "The shape of the old r/Cooking dataframe is    : (989, 8)\n",
      "The shape of the old r/Askculinary dataframe is: (999, 8)\n"
     ]
    }
   ],
   "source": [
    "# Checking the shapes of the .csv files\n",
    " \n",
    "print(f\"The shape of the new r/Cooking dataframe is    : {new_cooking_data.shape}\")\n",
    "print(f\"The shape of the new r/Askculinary dataframe is: {new_askculinary_data.shape}\")\n",
    "\n",
    "print(f\"The shape of the old r/Cooking dataframe is    : {old_cooking_data.shape}\")\n",
    "print(f\"The shape of the old r/Askculinary dataframe is: {old_askculinary_data.shape}\")"
   ]
  },
  {
   "cell_type": "code",
   "execution_count": 19,
   "metadata": {},
   "outputs": [
    {
     "data": {
      "text/html": [
       "<div>\n",
       "<style scoped>\n",
       "    .dataframe tbody tr th:only-of-type {\n",
       "        vertical-align: middle;\n",
       "    }\n",
       "\n",
       "    .dataframe tbody tr th {\n",
       "        vertical-align: top;\n",
       "    }\n",
       "\n",
       "    .dataframe thead th {\n",
       "        text-align: right;\n",
       "    }\n",
       "</style>\n",
       "<table border=\"1\" class=\"dataframe\">\n",
       "  <thead>\n",
       "    <tr style=\"text-align: right;\">\n",
       "      <th></th>\n",
       "      <th>Unnamed: 0</th>\n",
       "      <th>data</th>\n",
       "      <th>kind</th>\n",
       "      <th>id</th>\n",
       "      <th>title</th>\n",
       "      <th>selftext</th>\n",
       "      <th>author</th>\n",
       "      <th>source</th>\n",
       "    </tr>\n",
       "  </thead>\n",
       "  <tbody>\n",
       "    <tr>\n",
       "      <th>0</th>\n",
       "      <td>0</td>\n",
       "      <td>{'approved_at_utc': None, 'subreddit': 'Cookin...</td>\n",
       "      <td>t3</td>\n",
       "      <td>cbl354</td>\n",
       "      <td>Does anyone else immediately distrust a recipe...</td>\n",
       "      <td>Edit: if anyone else tries to tell me they can...</td>\n",
       "      <td>bobs_aspergers</td>\n",
       "      <td>cooking</td>\n",
       "    </tr>\n",
       "    <tr>\n",
       "      <th>1</th>\n",
       "      <td>1</td>\n",
       "      <td>{'approved_at_utc': None, 'subreddit': 'Cookin...</td>\n",
       "      <td>t3</td>\n",
       "      <td>cbuvkb</td>\n",
       "      <td>Best potato salad recipe??</td>\n",
       "      <td>NaN</td>\n",
       "      <td>coolbeanbeans</td>\n",
       "      <td>cooking</td>\n",
       "    </tr>\n",
       "    <tr>\n",
       "      <th>2</th>\n",
       "      <td>2</td>\n",
       "      <td>{'approved_at_utc': None, 'subreddit': 'Cookin...</td>\n",
       "      <td>t3</td>\n",
       "      <td>cbtuhn</td>\n",
       "      <td>Mortar &amp;amp; Pestle questions</td>\n",
       "      <td>1.) Is marble dust safe to ingest? I ground sa...</td>\n",
       "      <td>Swigart</td>\n",
       "      <td>cooking</td>\n",
       "    </tr>\n",
       "    <tr>\n",
       "      <th>3</th>\n",
       "      <td>3</td>\n",
       "      <td>{'approved_at_utc': None, 'subreddit': 'Cookin...</td>\n",
       "      <td>t3</td>\n",
       "      <td>cbmrz3</td>\n",
       "      <td>Weekly menu-setting has changed my life</td>\n",
       "      <td>I’ve always enjoyed cooking, but in the past s...</td>\n",
       "      <td>chuy1530</td>\n",
       "      <td>cooking</td>\n",
       "    </tr>\n",
       "    <tr>\n",
       "      <th>4</th>\n",
       "      <td>4</td>\n",
       "      <td>{'approved_at_utc': None, 'subreddit': 'Cookin...</td>\n",
       "      <td>t3</td>\n",
       "      <td>cb5pvy</td>\n",
       "      <td>This guy in India has a cooking channel where ...</td>\n",
       "      <td>I just stumbled upon this guy's channel today ...</td>\n",
       "      <td>Svargas05</td>\n",
       "      <td>cooking</td>\n",
       "    </tr>\n",
       "  </tbody>\n",
       "</table>\n",
       "</div>"
      ],
      "text/plain": [
       "   Unnamed: 0                                               data kind      id  \\\n",
       "0           0  {'approved_at_utc': None, 'subreddit': 'Cookin...   t3  cbl354   \n",
       "1           1  {'approved_at_utc': None, 'subreddit': 'Cookin...   t3  cbuvkb   \n",
       "2           2  {'approved_at_utc': None, 'subreddit': 'Cookin...   t3  cbtuhn   \n",
       "3           3  {'approved_at_utc': None, 'subreddit': 'Cookin...   t3  cbmrz3   \n",
       "4           4  {'approved_at_utc': None, 'subreddit': 'Cookin...   t3  cb5pvy   \n",
       "\n",
       "                                               title  \\\n",
       "0  Does anyone else immediately distrust a recipe...   \n",
       "1                         Best potato salad recipe??   \n",
       "2                      Mortar &amp; Pestle questions   \n",
       "3            Weekly menu-setting has changed my life   \n",
       "4  This guy in India has a cooking channel where ...   \n",
       "\n",
       "                                            selftext          author   source  \n",
       "0  Edit: if anyone else tries to tell me they can...  bobs_aspergers  cooking  \n",
       "1                                                NaN   coolbeanbeans  cooking  \n",
       "2  1.) Is marble dust safe to ingest? I ground sa...         Swigart  cooking  \n",
       "3  I’ve always enjoyed cooking, but in the past s...        chuy1530  cooking  \n",
       "4  I just stumbled upon this guy's channel today ...       Svargas05  cooking  "
      ]
     },
     "execution_count": 19,
     "metadata": {},
     "output_type": "execute_result"
    }
   ],
   "source": [
    "# Checking the heads of the old r/Cooking data\n",
    "\n",
    "old_cooking_data.head()"
   ]
  },
  {
   "cell_type": "code",
   "execution_count": 20,
   "metadata": {},
   "outputs": [
    {
     "data": {
      "text/html": [
       "<div>\n",
       "<style scoped>\n",
       "    .dataframe tbody tr th:only-of-type {\n",
       "        vertical-align: middle;\n",
       "    }\n",
       "\n",
       "    .dataframe tbody tr th {\n",
       "        vertical-align: top;\n",
       "    }\n",
       "\n",
       "    .dataframe thead th {\n",
       "        text-align: right;\n",
       "    }\n",
       "</style>\n",
       "<table border=\"1\" class=\"dataframe\">\n",
       "  <thead>\n",
       "    <tr style=\"text-align: right;\">\n",
       "      <th></th>\n",
       "      <th>Unnamed: 0</th>\n",
       "      <th>data</th>\n",
       "      <th>kind</th>\n",
       "      <th>id</th>\n",
       "      <th>title</th>\n",
       "      <th>selftext</th>\n",
       "      <th>author</th>\n",
       "      <th>source</th>\n",
       "    </tr>\n",
       "  </thead>\n",
       "  <tbody>\n",
       "    <tr>\n",
       "      <th>0</th>\n",
       "      <td>0</td>\n",
       "      <td>{'approved_at_utc': None, 'subreddit': 'AskCul...</td>\n",
       "      <td>t3</td>\n",
       "      <td>61bcic</td>\n",
       "      <td>/r/AskCulinary best practices guide</td>\n",
       "      <td>/r/AskCulinary is well over 100,000 subscriber...</td>\n",
       "      <td>bigtcm</td>\n",
       "      <td>askculinary</td>\n",
       "    </tr>\n",
       "    <tr>\n",
       "      <th>1</th>\n",
       "      <td>1</td>\n",
       "      <td>{'approved_at_utc': None, 'subreddit': 'AskCul...</td>\n",
       "      <td>t3</td>\n",
       "      <td>cap1n7</td>\n",
       "      <td>Weekly discussion: Melons</td>\n",
       "      <td>It is hot everywhere in the northern hemispher...</td>\n",
       "      <td>albino-rhino</td>\n",
       "      <td>askculinary</td>\n",
       "    </tr>\n",
       "    <tr>\n",
       "      <th>2</th>\n",
       "      <td>2</td>\n",
       "      <td>{'approved_at_utc': None, 'subreddit': 'AskCul...</td>\n",
       "      <td>t3</td>\n",
       "      <td>cbm3b1</td>\n",
       "      <td>Everyone who has went to culinary school - spe...</td>\n",
       "      <td>I’m about to start a dual degree (JD/MA), the ...</td>\n",
       "      <td>Link_the_Fox</td>\n",
       "      <td>askculinary</td>\n",
       "    </tr>\n",
       "    <tr>\n",
       "      <th>3</th>\n",
       "      <td>3</td>\n",
       "      <td>{'approved_at_utc': None, 'subreddit': 'AskCul...</td>\n",
       "      <td>t3</td>\n",
       "      <td>cbqq5d</td>\n",
       "      <td>How is “Stage” pronounced?</td>\n",
       "      <td>I always read it as the word stage, like a sta...</td>\n",
       "      <td>andykndr</td>\n",
       "      <td>askculinary</td>\n",
       "    </tr>\n",
       "    <tr>\n",
       "      <th>4</th>\n",
       "      <td>4</td>\n",
       "      <td>{'approved_at_utc': None, 'subreddit': 'AskCul...</td>\n",
       "      <td>t3</td>\n",
       "      <td>cbfibu</td>\n",
       "      <td>Still working on \"cheater\" ramen and now need ...</td>\n",
       "      <td>So adding gelatin to the \"cheater\" ramen was t...</td>\n",
       "      <td>gingernuts13</td>\n",
       "      <td>askculinary</td>\n",
       "    </tr>\n",
       "  </tbody>\n",
       "</table>\n",
       "</div>"
      ],
      "text/plain": [
       "   Unnamed: 0                                               data kind      id  \\\n",
       "0           0  {'approved_at_utc': None, 'subreddit': 'AskCul...   t3  61bcic   \n",
       "1           1  {'approved_at_utc': None, 'subreddit': 'AskCul...   t3  cap1n7   \n",
       "2           2  {'approved_at_utc': None, 'subreddit': 'AskCul...   t3  cbm3b1   \n",
       "3           3  {'approved_at_utc': None, 'subreddit': 'AskCul...   t3  cbqq5d   \n",
       "4           4  {'approved_at_utc': None, 'subreddit': 'AskCul...   t3  cbfibu   \n",
       "\n",
       "                                               title  \\\n",
       "0                /r/AskCulinary best practices guide   \n",
       "1                          Weekly discussion: Melons   \n",
       "2  Everyone who has went to culinary school - spe...   \n",
       "3                         How is “Stage” pronounced?   \n",
       "4  Still working on \"cheater\" ramen and now need ...   \n",
       "\n",
       "                                            selftext        author  \\\n",
       "0  /r/AskCulinary is well over 100,000 subscriber...        bigtcm   \n",
       "1  It is hot everywhere in the northern hemispher...  albino-rhino   \n",
       "2  I’m about to start a dual degree (JD/MA), the ...  Link_the_Fox   \n",
       "3  I always read it as the word stage, like a sta...      andykndr   \n",
       "4  So adding gelatin to the \"cheater\" ramen was t...  gingernuts13   \n",
       "\n",
       "        source  \n",
       "0  askculinary  \n",
       "1  askculinary  \n",
       "2  askculinary  \n",
       "3  askculinary  \n",
       "4  askculinary  "
      ]
     },
     "execution_count": 20,
     "metadata": {},
     "output_type": "execute_result"
    }
   ],
   "source": [
    "# Checking the heads of the old r/AskCulinary data\n",
    "\n",
    "old_askculinary_data.head()"
   ]
  },
  {
   "cell_type": "markdown",
   "metadata": {},
   "source": [
    "The first two rows of the old r/AskCulinary dataframe are stickied posts and have to be removed."
   ]
  },
  {
   "cell_type": "code",
   "execution_count": 21,
   "metadata": {},
   "outputs": [],
   "source": [
    "old_askculinary_data.drop([0,1], \n",
    "                          inplace = True)"
   ]
  },
  {
   "cell_type": "code",
   "execution_count": 22,
   "metadata": {},
   "outputs": [
    {
     "data": {
      "text/html": [
       "<div>\n",
       "<style scoped>\n",
       "    .dataframe tbody tr th:only-of-type {\n",
       "        vertical-align: middle;\n",
       "    }\n",
       "\n",
       "    .dataframe tbody tr th {\n",
       "        vertical-align: top;\n",
       "    }\n",
       "\n",
       "    .dataframe thead th {\n",
       "        text-align: right;\n",
       "    }\n",
       "</style>\n",
       "<table border=\"1\" class=\"dataframe\">\n",
       "  <thead>\n",
       "    <tr style=\"text-align: right;\">\n",
       "      <th></th>\n",
       "      <th>Unnamed: 0</th>\n",
       "      <th>data</th>\n",
       "      <th>kind</th>\n",
       "      <th>id</th>\n",
       "      <th>title</th>\n",
       "      <th>selftext</th>\n",
       "      <th>author</th>\n",
       "      <th>source</th>\n",
       "    </tr>\n",
       "  </thead>\n",
       "  <tbody>\n",
       "    <tr>\n",
       "      <th>2</th>\n",
       "      <td>2</td>\n",
       "      <td>{'approved_at_utc': None, 'subreddit': 'AskCul...</td>\n",
       "      <td>t3</td>\n",
       "      <td>cbm3b1</td>\n",
       "      <td>Everyone who has went to culinary school - spe...</td>\n",
       "      <td>I’m about to start a dual degree (JD/MA), the ...</td>\n",
       "      <td>Link_the_Fox</td>\n",
       "      <td>askculinary</td>\n",
       "    </tr>\n",
       "    <tr>\n",
       "      <th>3</th>\n",
       "      <td>3</td>\n",
       "      <td>{'approved_at_utc': None, 'subreddit': 'AskCul...</td>\n",
       "      <td>t3</td>\n",
       "      <td>cbqq5d</td>\n",
       "      <td>How is “Stage” pronounced?</td>\n",
       "      <td>I always read it as the word stage, like a sta...</td>\n",
       "      <td>andykndr</td>\n",
       "      <td>askculinary</td>\n",
       "    </tr>\n",
       "    <tr>\n",
       "      <th>4</th>\n",
       "      <td>4</td>\n",
       "      <td>{'approved_at_utc': None, 'subreddit': 'AskCul...</td>\n",
       "      <td>t3</td>\n",
       "      <td>cbfibu</td>\n",
       "      <td>Still working on \"cheater\" ramen and now need ...</td>\n",
       "      <td>So adding gelatin to the \"cheater\" ramen was t...</td>\n",
       "      <td>gingernuts13</td>\n",
       "      <td>askculinary</td>\n",
       "    </tr>\n",
       "    <tr>\n",
       "      <th>5</th>\n",
       "      <td>5</td>\n",
       "      <td>{'approved_at_utc': None, 'subreddit': 'AskCul...</td>\n",
       "      <td>t3</td>\n",
       "      <td>cbnam6</td>\n",
       "      <td>What did I do wrong with my chickpea curry?</td>\n",
       "      <td>I attempted to make the recipe shown at the en...</td>\n",
       "      <td>robsc_16</td>\n",
       "      <td>askculinary</td>\n",
       "    </tr>\n",
       "    <tr>\n",
       "      <th>6</th>\n",
       "      <td>6</td>\n",
       "      <td>{'approved_at_utc': None, 'subreddit': 'AskCul...</td>\n",
       "      <td>t3</td>\n",
       "      <td>cbisi4</td>\n",
       "      <td>Cookbooks on Spices... based on science</td>\n",
       "      <td>Does anyone have a cookbook on spices that inc...</td>\n",
       "      <td>espierc</td>\n",
       "      <td>askculinary</td>\n",
       "    </tr>\n",
       "  </tbody>\n",
       "</table>\n",
       "</div>"
      ],
      "text/plain": [
       "   Unnamed: 0                                               data kind      id  \\\n",
       "2           2  {'approved_at_utc': None, 'subreddit': 'AskCul...   t3  cbm3b1   \n",
       "3           3  {'approved_at_utc': None, 'subreddit': 'AskCul...   t3  cbqq5d   \n",
       "4           4  {'approved_at_utc': None, 'subreddit': 'AskCul...   t3  cbfibu   \n",
       "5           5  {'approved_at_utc': None, 'subreddit': 'AskCul...   t3  cbnam6   \n",
       "6           6  {'approved_at_utc': None, 'subreddit': 'AskCul...   t3  cbisi4   \n",
       "\n",
       "                                               title  \\\n",
       "2  Everyone who has went to culinary school - spe...   \n",
       "3                         How is “Stage” pronounced?   \n",
       "4  Still working on \"cheater\" ramen and now need ...   \n",
       "5        What did I do wrong with my chickpea curry?   \n",
       "6            Cookbooks on Spices... based on science   \n",
       "\n",
       "                                            selftext        author  \\\n",
       "2  I’m about to start a dual degree (JD/MA), the ...  Link_the_Fox   \n",
       "3  I always read it as the word stage, like a sta...      andykndr   \n",
       "4  So adding gelatin to the \"cheater\" ramen was t...  gingernuts13   \n",
       "5  I attempted to make the recipe shown at the en...      robsc_16   \n",
       "6  Does anyone have a cookbook on spices that inc...       espierc   \n",
       "\n",
       "        source  \n",
       "2  askculinary  \n",
       "3  askculinary  \n",
       "4  askculinary  \n",
       "5  askculinary  \n",
       "6  askculinary  "
      ]
     },
     "execution_count": 22,
     "metadata": {},
     "output_type": "execute_result"
    }
   ],
   "source": [
    "old_askculinary_data.head()"
   ]
  },
  {
   "cell_type": "markdown",
   "metadata": {},
   "source": [
    "### Concatenating The Dataframes"
   ]
  },
  {
   "cell_type": "code",
   "execution_count": 23,
   "metadata": {},
   "outputs": [],
   "source": [
    "# Concatenating the cooking dataframes together\n",
    "\n",
    "cooking_combined     = pd.concat(objs = [old_cooking_data, \n",
    "                                         new_cooking_data],\n",
    "                                 axis = 0, \n",
    "                                 sort = False)\n",
    "\n",
    "# Concatenating the askculinary dataframes together\n",
    "\n",
    "askculinary_combined = pd.concat(objs = [old_askculinary_data, \n",
    "                                         new_askculinary_data],\n",
    "                                 axis = 0, \n",
    "                                 sort = False)"
   ]
  },
  {
   "cell_type": "code",
   "execution_count": 24,
   "metadata": {},
   "outputs": [],
   "source": [
    "# Making sure there are no cross-posts\n",
    "\n",
    "cooking_combined      = cooking_combined[cooking_combined[\"title\"].isin(askculinary_combined[\"title\"]) == False]\n",
    "askculinary_combined  = askculinary_combined[askculinary_combined[\"title\"].isin(cooking_combined[\"title\"]) == False]"
   ]
  },
  {
   "cell_type": "code",
   "execution_count": 25,
   "metadata": {},
   "outputs": [],
   "source": [
    "# Concatenating the two combined dataframes together\n",
    "\n",
    "combined_data = pd.concat(objs = [cooking_combined, \n",
    "                                  askculinary_combined],\n",
    "                          axis = 0, \n",
    "                          sort = False)"
   ]
  },
  {
   "cell_type": "code",
   "execution_count": 26,
   "metadata": {},
   "outputs": [
    {
     "data": {
      "text/plain": [
       "(3950, 8)"
      ]
     },
     "execution_count": 26,
     "metadata": {},
     "output_type": "execute_result"
    }
   ],
   "source": [
    "# Checking the shape of the dataframe\n",
    "\n",
    "combined_data.shape"
   ]
  },
  {
   "cell_type": "markdown",
   "metadata": {},
   "source": [
    "[Top](#Table-Of-Contents)"
   ]
  },
  {
   "cell_type": "markdown",
   "metadata": {},
   "source": [
    "### Cleaning"
   ]
  },
  {
   "cell_type": "markdown",
   "metadata": {},
   "source": [
    "#### Dropping Null Values"
   ]
  },
  {
   "cell_type": "markdown",
   "metadata": {},
   "source": [
    "Unfortunately, we have to odrop all rows with null values because there is no way for us to fill in the missing data."
   ]
  },
  {
   "cell_type": "code",
   "execution_count": 27,
   "metadata": {},
   "outputs": [
    {
     "name": "stdout",
     "output_type": "stream",
     "text": [
      "The dataframe now has 3682 rows.\n"
     ]
    }
   ],
   "source": [
    "combined_data.dropna(inplace = True)\n",
    "\n",
    "# Checking the length of the dataframe\n",
    "\n",
    "print(f\"The dataframe now has {combined_data.shape[0]} rows.\")"
   ]
  },
  {
   "cell_type": "markdown",
   "metadata": {},
   "source": [
    "#### Removing Duplicate IDs"
   ]
  },
  {
   "cell_type": "markdown",
   "metadata": {},
   "source": [
    "There is a chance that a post may have been posted more than once to a subreddit, so by removing duplicated `id`s we make sure only unique text is going into the model."
   ]
  },
  {
   "cell_type": "code",
   "execution_count": 28,
   "metadata": {},
   "outputs": [
    {
     "name": "stdout",
     "output_type": "stream",
     "text": [
      "The dataframe now has 3249 rows.\n"
     ]
    }
   ],
   "source": [
    "combined_data.drop_duplicates(\"id\",\n",
    "                              keep    = \"first\",\n",
    "                              inplace = True)\n",
    "\n",
    "# Checking the length of the dataframe\n",
    "\n",
    "print(f\"The dataframe now has {combined_data.shape[0]} rows.\")"
   ]
  },
  {
   "cell_type": "markdown",
   "metadata": {},
   "source": [
    "#### Removing Unnecessary Columns"
   ]
  },
  {
   "cell_type": "markdown",
   "metadata": {},
   "source": [
    "We no longer need the `data` and `kind` columns because we extracted the features we need.  Additionally, `Unnamed: 0` is a relic from concatenating the dataframes together."
   ]
  },
  {
   "cell_type": "code",
   "execution_count": 29,
   "metadata": {},
   "outputs": [
    {
     "data": {
      "text/plain": [
       "Index(['Unnamed: 0', 'data', 'kind', 'id', 'title', 'selftext', 'author',\n",
       "       'source'],\n",
       "      dtype='object')"
      ]
     },
     "execution_count": 29,
     "metadata": {},
     "output_type": "execute_result"
    }
   ],
   "source": [
    "combined_data.columns"
   ]
  },
  {
   "cell_type": "code",
   "execution_count": 30,
   "metadata": {},
   "outputs": [],
   "source": [
    "# Dropping the three columns\n",
    "\n",
    "combined_data.drop([\"Unnamed: 0\", \"data\", \"kind\"],\n",
    "                   axis    = 1,\n",
    "                   inplace = True)"
   ]
  },
  {
   "cell_type": "code",
   "execution_count": 31,
   "metadata": {},
   "outputs": [
    {
     "data": {
      "text/plain": [
       "Index(['id', 'title', 'selftext', 'author', 'source'], dtype='object')"
      ]
     },
     "execution_count": 31,
     "metadata": {},
     "output_type": "execute_result"
    }
   ],
   "source": [
    "# Making sure the columns were dropped successfully\n",
    "\n",
    "combined_data.columns"
   ]
  },
  {
   "cell_type": "markdown",
   "metadata": {},
   "source": [
    "#### Combining `title` & `selftext`"
   ]
  },
  {
   "cell_type": "markdown",
   "metadata": {},
   "source": [
    "We decided that instead of having two separate columns of text, we would combine the two columns of text to make the modeling process a little bit easier.  To do that, we will simply append `title` and `selftext` together.  Although we ran a regular expression earlier, we diced to run another one here to make sure everything was removed."
   ]
  },
  {
   "cell_type": "code",
   "execution_count": 32,
   "metadata": {},
   "outputs": [],
   "source": [
    "combined_data[\"text\"] = combined_data[\"title\"] + \" \" + combined_data[\"selftext\"]\n",
    "combined_data[\"text\"] = combined_data[\"text\"].str.replace(\"[^a-zA-Z ]\", \"\")"
   ]
  },
  {
   "cell_type": "markdown",
   "metadata": {},
   "source": [
    "Now that we have combined the two columns, we can drop the two originals."
   ]
  },
  {
   "cell_type": "code",
   "execution_count": 33,
   "metadata": {},
   "outputs": [],
   "source": [
    "combined_data.drop([\"title\", \"selftext\"], \n",
    "                   axis    = 1,\n",
    "                   inplace = True);"
   ]
  },
  {
   "cell_type": "markdown",
   "metadata": {},
   "source": [
    "#### Mapping The `source` Column"
   ]
  },
  {
   "cell_type": "markdown",
   "metadata": {},
   "source": [
    "For the models we will construct, we need to have the `source` column be binary values."
   ]
  },
  {
   "cell_type": "code",
   "execution_count": 34,
   "metadata": {},
   "outputs": [],
   "source": [
    "combined_data[\"target\"] = combined_data[\"source\"].apply(lambda x: 1 if x == \"cooking\" else 0)"
   ]
  },
  {
   "cell_type": "markdown",
   "metadata": {},
   "source": [
    "#### Creating A Modeling Dataframe"
   ]
  },
  {
   "cell_type": "code",
   "execution_count": 35,
   "metadata": {},
   "outputs": [],
   "source": [
    "combined_data.to_csv(\"../Data/model_data.csv\", index = False)"
   ]
  },
  {
   "cell_type": "markdown",
   "metadata": {},
   "source": [
    "[Top](#Table-Of-Contents)"
   ]
  }
 ],
 "metadata": {
  "kernelspec": {
   "display_name": "Python 3",
   "language": "python",
   "name": "python3"
  },
  "language_info": {
   "codemirror_mode": {
    "name": "ipython",
    "version": 3
   },
   "file_extension": ".py",
   "mimetype": "text/x-python",
   "name": "python",
   "nbconvert_exporter": "python",
   "pygments_lexer": "ipython3",
   "version": "3.6.8"
  }
 },
 "nbformat": 4,
 "nbformat_minor": 2
}
